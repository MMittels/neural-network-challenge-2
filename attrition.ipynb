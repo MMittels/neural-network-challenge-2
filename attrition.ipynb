{
  "cells": [
    {
      "cell_type": "markdown",
      "metadata": {
        "id": "alIIEHibGc3M"
      },
      "source": [
        "## Part 1: Preprocessing"
      ]
    },
    {
      "cell_type": "code",
      "execution_count": 26,
      "metadata": {
        "colab": {
          "base_uri": "https://localhost:8080/",
          "height": 325
        },
        "id": "6eDUJ4NtGc3P",
        "outputId": "c9f46cf5-0892-4a41-fea9-7ca74ec48e0c"
      },
      "outputs": [
        {
          "data": {
            "text/html": [
              "<div>\n",
              "<style scoped>\n",
              "    .dataframe tbody tr th:only-of-type {\n",
              "        vertical-align: middle;\n",
              "    }\n",
              "\n",
              "    .dataframe tbody tr th {\n",
              "        vertical-align: top;\n",
              "    }\n",
              "\n",
              "    .dataframe thead th {\n",
              "        text-align: right;\n",
              "    }\n",
              "</style>\n",
              "<table border=\"1\" class=\"dataframe\">\n",
              "  <thead>\n",
              "    <tr style=\"text-align: right;\">\n",
              "      <th></th>\n",
              "      <th>Age</th>\n",
              "      <th>Attrition</th>\n",
              "      <th>BusinessTravel</th>\n",
              "      <th>Department</th>\n",
              "      <th>DistanceFromHome</th>\n",
              "      <th>Education</th>\n",
              "      <th>EducationField</th>\n",
              "      <th>EnvironmentSatisfaction</th>\n",
              "      <th>HourlyRate</th>\n",
              "      <th>JobInvolvement</th>\n",
              "      <th>...</th>\n",
              "      <th>PerformanceRating</th>\n",
              "      <th>RelationshipSatisfaction</th>\n",
              "      <th>StockOptionLevel</th>\n",
              "      <th>TotalWorkingYears</th>\n",
              "      <th>TrainingTimesLastYear</th>\n",
              "      <th>WorkLifeBalance</th>\n",
              "      <th>YearsAtCompany</th>\n",
              "      <th>YearsInCurrentRole</th>\n",
              "      <th>YearsSinceLastPromotion</th>\n",
              "      <th>YearsWithCurrManager</th>\n",
              "    </tr>\n",
              "  </thead>\n",
              "  <tbody>\n",
              "    <tr>\n",
              "      <th>0</th>\n",
              "      <td>41</td>\n",
              "      <td>Yes</td>\n",
              "      <td>Travel_Rarely</td>\n",
              "      <td>Sales</td>\n",
              "      <td>1</td>\n",
              "      <td>2</td>\n",
              "      <td>Life Sciences</td>\n",
              "      <td>2</td>\n",
              "      <td>94</td>\n",
              "      <td>3</td>\n",
              "      <td>...</td>\n",
              "      <td>3</td>\n",
              "      <td>1</td>\n",
              "      <td>0</td>\n",
              "      <td>8</td>\n",
              "      <td>0</td>\n",
              "      <td>1</td>\n",
              "      <td>6</td>\n",
              "      <td>4</td>\n",
              "      <td>0</td>\n",
              "      <td>5</td>\n",
              "    </tr>\n",
              "    <tr>\n",
              "      <th>1</th>\n",
              "      <td>49</td>\n",
              "      <td>No</td>\n",
              "      <td>Travel_Frequently</td>\n",
              "      <td>Research &amp; Development</td>\n",
              "      <td>8</td>\n",
              "      <td>1</td>\n",
              "      <td>Life Sciences</td>\n",
              "      <td>3</td>\n",
              "      <td>61</td>\n",
              "      <td>2</td>\n",
              "      <td>...</td>\n",
              "      <td>4</td>\n",
              "      <td>4</td>\n",
              "      <td>1</td>\n",
              "      <td>10</td>\n",
              "      <td>3</td>\n",
              "      <td>3</td>\n",
              "      <td>10</td>\n",
              "      <td>7</td>\n",
              "      <td>1</td>\n",
              "      <td>7</td>\n",
              "    </tr>\n",
              "    <tr>\n",
              "      <th>2</th>\n",
              "      <td>37</td>\n",
              "      <td>Yes</td>\n",
              "      <td>Travel_Rarely</td>\n",
              "      <td>Research &amp; Development</td>\n",
              "      <td>2</td>\n",
              "      <td>2</td>\n",
              "      <td>Other</td>\n",
              "      <td>4</td>\n",
              "      <td>92</td>\n",
              "      <td>2</td>\n",
              "      <td>...</td>\n",
              "      <td>3</td>\n",
              "      <td>2</td>\n",
              "      <td>0</td>\n",
              "      <td>7</td>\n",
              "      <td>3</td>\n",
              "      <td>3</td>\n",
              "      <td>0</td>\n",
              "      <td>0</td>\n",
              "      <td>0</td>\n",
              "      <td>0</td>\n",
              "    </tr>\n",
              "    <tr>\n",
              "      <th>3</th>\n",
              "      <td>33</td>\n",
              "      <td>No</td>\n",
              "      <td>Travel_Frequently</td>\n",
              "      <td>Research &amp; Development</td>\n",
              "      <td>3</td>\n",
              "      <td>4</td>\n",
              "      <td>Life Sciences</td>\n",
              "      <td>4</td>\n",
              "      <td>56</td>\n",
              "      <td>3</td>\n",
              "      <td>...</td>\n",
              "      <td>3</td>\n",
              "      <td>3</td>\n",
              "      <td>0</td>\n",
              "      <td>8</td>\n",
              "      <td>3</td>\n",
              "      <td>3</td>\n",
              "      <td>8</td>\n",
              "      <td>7</td>\n",
              "      <td>3</td>\n",
              "      <td>0</td>\n",
              "    </tr>\n",
              "    <tr>\n",
              "      <th>4</th>\n",
              "      <td>27</td>\n",
              "      <td>No</td>\n",
              "      <td>Travel_Rarely</td>\n",
              "      <td>Research &amp; Development</td>\n",
              "      <td>2</td>\n",
              "      <td>1</td>\n",
              "      <td>Medical</td>\n",
              "      <td>1</td>\n",
              "      <td>40</td>\n",
              "      <td>3</td>\n",
              "      <td>...</td>\n",
              "      <td>3</td>\n",
              "      <td>4</td>\n",
              "      <td>1</td>\n",
              "      <td>6</td>\n",
              "      <td>3</td>\n",
              "      <td>3</td>\n",
              "      <td>2</td>\n",
              "      <td>2</td>\n",
              "      <td>2</td>\n",
              "      <td>2</td>\n",
              "    </tr>\n",
              "  </tbody>\n",
              "</table>\n",
              "<p>5 rows × 27 columns</p>\n",
              "</div>"
            ],
            "text/plain": [
              "   Age Attrition     BusinessTravel              Department  DistanceFromHome  \\\n",
              "0   41       Yes      Travel_Rarely                   Sales                 1   \n",
              "1   49        No  Travel_Frequently  Research & Development                 8   \n",
              "2   37       Yes      Travel_Rarely  Research & Development                 2   \n",
              "3   33        No  Travel_Frequently  Research & Development                 3   \n",
              "4   27        No      Travel_Rarely  Research & Development                 2   \n",
              "\n",
              "   Education EducationField  EnvironmentSatisfaction  HourlyRate  \\\n",
              "0          2  Life Sciences                        2          94   \n",
              "1          1  Life Sciences                        3          61   \n",
              "2          2          Other                        4          92   \n",
              "3          4  Life Sciences                        4          56   \n",
              "4          1        Medical                        1          40   \n",
              "\n",
              "   JobInvolvement  ...  PerformanceRating RelationshipSatisfaction  \\\n",
              "0               3  ...                  3                        1   \n",
              "1               2  ...                  4                        4   \n",
              "2               2  ...                  3                        2   \n",
              "3               3  ...                  3                        3   \n",
              "4               3  ...                  3                        4   \n",
              "\n",
              "   StockOptionLevel TotalWorkingYears  TrainingTimesLastYear WorkLifeBalance  \\\n",
              "0                 0                 8                      0               1   \n",
              "1                 1                10                      3               3   \n",
              "2                 0                 7                      3               3   \n",
              "3                 0                 8                      3               3   \n",
              "4                 1                 6                      3               3   \n",
              "\n",
              "   YearsAtCompany  YearsInCurrentRole  YearsSinceLastPromotion  \\\n",
              "0               6                   4                        0   \n",
              "1              10                   7                        1   \n",
              "2               0                   0                        0   \n",
              "3               8                   7                        3   \n",
              "4               2                   2                        2   \n",
              "\n",
              "   YearsWithCurrManager  \n",
              "0                     5  \n",
              "1                     7  \n",
              "2                     0  \n",
              "3                     0  \n",
              "4                     2  \n",
              "\n",
              "[5 rows x 27 columns]"
            ]
          },
          "execution_count": 26,
          "metadata": {},
          "output_type": "execute_result"
        }
      ],
      "source": [
        "# Import our dependencies\n",
        "from sklearn.model_selection import train_test_split\n",
        "from sklearn.preprocessing import StandardScaler\n",
        "import pandas as pd\n",
        "import numpy as np\n",
        "from tensorflow.keras.models import Model\n",
        "from tensorflow.keras import layers\n",
        "\n",
        "#  Import and read the attrition data\n",
        "attrition_df = pd.read_csv('https://static.bc-edx.com/ai/ail-v-1-0/m19/lms/datasets/attrition.csv')\n",
        "attrition_df.head()"
      ]
    },
    {
      "cell_type": "code",
      "execution_count": 27,
      "metadata": {
        "colab": {
          "base_uri": "https://localhost:8080/",
          "height": 931
        },
        "id": "g22aQSY4Gc3Q",
        "outputId": "2d6403c9-d353-417d-eac8-eb5c6cc33df6"
      },
      "outputs": [
        {
          "data": {
            "text/plain": [
              "Age                         43\n",
              "Attrition                    2\n",
              "BusinessTravel               3\n",
              "Department                   3\n",
              "DistanceFromHome            29\n",
              "Education                    5\n",
              "EducationField               6\n",
              "EnvironmentSatisfaction      4\n",
              "HourlyRate                  71\n",
              "JobInvolvement               4\n",
              "JobLevel                     5\n",
              "JobRole                      9\n",
              "JobSatisfaction              4\n",
              "MaritalStatus                3\n",
              "NumCompaniesWorked          10\n",
              "OverTime                     2\n",
              "PercentSalaryHike           15\n",
              "PerformanceRating            2\n",
              "RelationshipSatisfaction     4\n",
              "StockOptionLevel             4\n",
              "TotalWorkingYears           40\n",
              "TrainingTimesLastYear        7\n",
              "WorkLifeBalance              4\n",
              "YearsAtCompany              37\n",
              "YearsInCurrentRole          19\n",
              "YearsSinceLastPromotion     16\n",
              "YearsWithCurrManager        18\n",
              "dtype: int64"
            ]
          },
          "execution_count": 27,
          "metadata": {},
          "output_type": "execute_result"
        }
      ],
      "source": [
        "# Determine the number of unique values in each column.\n",
        "attrition_df.nunique()"
      ]
    },
    {
      "cell_type": "code",
      "execution_count": 28,
      "metadata": {
        "id": "50vMgBEnJbfM"
      },
      "outputs": [],
      "source": [
        "# Create y_df with the Attrition and Department columns\n",
        "\n",
        "y_df = attrition_df[['Attrition', 'Department']]  # Targets\n"
      ]
    },
    {
      "cell_type": "code",
      "execution_count": 29,
      "metadata": {
        "colab": {
          "base_uri": "https://localhost:8080/",
          "height": 398
        },
        "id": "Virka0zLGc3R",
        "outputId": "8751ca90-aec8-4d38-c74e-df3868cfa63a"
      },
      "outputs": [
        {
          "data": {
            "text/plain": [
              "Age                         int64\n",
              "DistanceFromHome            int64\n",
              "HourlyRate                  int64\n",
              "JobSatisfaction             int64\n",
              "NumCompaniesWorked          int64\n",
              "PercentSalaryHike           int64\n",
              "PerformanceRating           int64\n",
              "WorkLifeBalance             int64\n",
              "YearsAtCompany              int64\n",
              "YearsSinceLastPromotion     int64\n",
              "OverTime                   object\n",
              "dtype: object"
            ]
          },
          "execution_count": 29,
          "metadata": {},
          "output_type": "execute_result"
        }
      ],
      "source": [
        "# Create a list of at least 10 column names to use as X data\n",
        "\n",
        "feature_cat = ['Age', 'DistanceFromHome','HourlyRate','JobSatisfaction','NumCompaniesWorked','PercentSalaryHike','PerformanceRating','WorkLifeBalance','YearsAtCompany','YearsSinceLastPromotion','OverTime']  # Features\n",
        "\n",
        "# Create X_df using your selected columns\n",
        "X_df = attrition_df[feature_cat]\n",
        "\n",
        "# Show the data types for X_df\n",
        "X_df.dtypes\n"
      ]
    },
    {
      "cell_type": "code",
      "execution_count": 30,
      "metadata": {
        "id": "KaJfdOGUMHMR"
      },
      "outputs": [],
      "source": [
        "# Split the data into training and testing sets\n",
        "from sklearn.model_selection import train_test_split\n",
        "\n",
        "X_train, X_test, y_train, y_test = train_test_split(X_df, y_df, random_state=78)"
      ]
    },
    {
      "cell_type": "code",
      "execution_count": 31,
      "metadata": {
        "colab": {
          "base_uri": "https://localhost:8080/"
        },
        "id": "NYubUJqiLCSp",
        "outputId": "53f31721-571c-4c94-d13e-25a715749593"
      },
      "outputs": [
        {
          "data": {
            "text/plain": [
              "OverTime\n",
              "No     799\n",
              "Yes    303\n",
              "Name: count, dtype: int64"
            ]
          },
          "execution_count": 31,
          "metadata": {},
          "output_type": "execute_result"
        }
      ],
      "source": [
        "# Convert your X data to numeric data types however you see fit\n",
        "# Add new code cells as necessary\n",
        "X_train['OverTime'].value_counts()"
      ]
    },
    {
      "cell_type": "code",
      "execution_count": 32,
      "metadata": {},
      "outputs": [
        {
          "data": {
            "text/html": [
              "<div>\n",
              "<style scoped>\n",
              "    .dataframe tbody tr th:only-of-type {\n",
              "        vertical-align: middle;\n",
              "    }\n",
              "\n",
              "    .dataframe tbody tr th {\n",
              "        vertical-align: top;\n",
              "    }\n",
              "\n",
              "    .dataframe thead th {\n",
              "        text-align: right;\n",
              "    }\n",
              "</style>\n",
              "<table border=\"1\" class=\"dataframe\">\n",
              "  <thead>\n",
              "    <tr style=\"text-align: right;\">\n",
              "      <th></th>\n",
              "      <th>Age</th>\n",
              "      <th>DistanceFromHome</th>\n",
              "      <th>HourlyRate</th>\n",
              "      <th>JobSatisfaction</th>\n",
              "      <th>NumCompaniesWorked</th>\n",
              "      <th>PercentSalaryHike</th>\n",
              "      <th>PerformanceRating</th>\n",
              "      <th>WorkLifeBalance</th>\n",
              "      <th>YearsAtCompany</th>\n",
              "      <th>YearsSinceLastPromotion</th>\n",
              "      <th>OverTime</th>\n",
              "    </tr>\n",
              "  </thead>\n",
              "  <tbody>\n",
              "    <tr>\n",
              "      <th>591</th>\n",
              "      <td>33</td>\n",
              "      <td>16</td>\n",
              "      <td>69</td>\n",
              "      <td>1</td>\n",
              "      <td>5</td>\n",
              "      <td>15</td>\n",
              "      <td>3</td>\n",
              "      <td>3</td>\n",
              "      <td>3</td>\n",
              "      <td>0</td>\n",
              "      <td>0</td>\n",
              "    </tr>\n",
              "    <tr>\n",
              "      <th>267</th>\n",
              "      <td>25</td>\n",
              "      <td>5</td>\n",
              "      <td>85</td>\n",
              "      <td>1</td>\n",
              "      <td>1</td>\n",
              "      <td>12</td>\n",
              "      <td>3</td>\n",
              "      <td>3</td>\n",
              "      <td>6</td>\n",
              "      <td>1</td>\n",
              "      <td>0</td>\n",
              "    </tr>\n",
              "    <tr>\n",
              "      <th>1236</th>\n",
              "      <td>36</td>\n",
              "      <td>13</td>\n",
              "      <td>96</td>\n",
              "      <td>1</td>\n",
              "      <td>5</td>\n",
              "      <td>13</td>\n",
              "      <td>3</td>\n",
              "      <td>3</td>\n",
              "      <td>2</td>\n",
              "      <td>2</td>\n",
              "      <td>1</td>\n",
              "    </tr>\n",
              "    <tr>\n",
              "      <th>788</th>\n",
              "      <td>28</td>\n",
              "      <td>10</td>\n",
              "      <td>59</td>\n",
              "      <td>3</td>\n",
              "      <td>3</td>\n",
              "      <td>13</td>\n",
              "      <td>3</td>\n",
              "      <td>4</td>\n",
              "      <td>8</td>\n",
              "      <td>1</td>\n",
              "      <td>0</td>\n",
              "    </tr>\n",
              "    <tr>\n",
              "      <th>1224</th>\n",
              "      <td>26</td>\n",
              "      <td>17</td>\n",
              "      <td>62</td>\n",
              "      <td>3</td>\n",
              "      <td>1</td>\n",
              "      <td>15</td>\n",
              "      <td>3</td>\n",
              "      <td>4</td>\n",
              "      <td>3</td>\n",
              "      <td>0</td>\n",
              "      <td>0</td>\n",
              "    </tr>\n",
              "  </tbody>\n",
              "</table>\n",
              "</div>"
            ],
            "text/plain": [
              "      Age  DistanceFromHome  HourlyRate  JobSatisfaction  NumCompaniesWorked  \\\n",
              "591    33                16          69                1                   5   \n",
              "267    25                 5          85                1                   1   \n",
              "1236   36                13          96                1                   5   \n",
              "788    28                10          59                3                   3   \n",
              "1224   26                17          62                3                   1   \n",
              "\n",
              "      PercentSalaryHike  PerformanceRating  WorkLifeBalance  YearsAtCompany  \\\n",
              "591                  15                  3                3               3   \n",
              "267                  12                  3                3               6   \n",
              "1236                 13                  3                3               2   \n",
              "788                  13                  3                4               8   \n",
              "1224                 15                  3                4               3   \n",
              "\n",
              "      YearsSinceLastPromotion  OverTime  \n",
              "591                         0         0  \n",
              "267                         1         0  \n",
              "1236                        2         1  \n",
              "788                         1         0  \n",
              "1224                        0         0  "
            ]
          },
          "execution_count": 32,
          "metadata": {},
          "output_type": "execute_result"
        }
      ],
      "source": [
        "X_train['OverTime'] = X_train['OverTime'].map({'Yes': 1, 'No': 0})\n",
        "X_test['OverTime'] = X_test['OverTime'].map({'Yes': 1, 'No': 0})\n",
        "\n",
        "X_train.head()\n"
      ]
    },
    {
      "cell_type": "code",
      "execution_count": 33,
      "metadata": {
        "id": "EWA-aIA5Gc3T"
      },
      "outputs": [],
      "source": [
        "# Create a StandardScaler\n",
        "scaler = StandardScaler()\n",
        "\n",
        "# Fit the StandardScaler to the training data\n",
        "\n",
        "X_scaler = scaler.fit(X_train)\n",
        "# Scale the training and testing data\n",
        "\n",
        "X_train_scaled = X_scaler.transform(X_train)\n",
        "X_test_scaled = X_scaler.transform(X_test)"
      ]
    },
    {
      "cell_type": "code",
      "execution_count": 34,
      "metadata": {
        "colab": {
          "base_uri": "https://localhost:8080/"
        },
        "id": "-z0Mky8vQSz4",
        "outputId": "da7420e8-585f-4510-9454-e553569e85d1"
      },
      "outputs": [
        {
          "data": {
            "text/plain": [
              "array([[0., 1., 0.],\n",
              "       [0., 1., 0.],\n",
              "       [0., 1., 0.],\n",
              "       ...,\n",
              "       [0., 1., 0.],\n",
              "       [0., 1., 0.],\n",
              "       [0., 0., 1.]])"
            ]
          },
          "execution_count": 34,
          "metadata": {},
          "output_type": "execute_result"
        }
      ],
      "source": [
        "from sklearn.preprocessing import OneHotEncoder\n",
        "\n",
        "# Create a OneHotEncoder for the Department column\n",
        "enc = OneHotEncoder(sparse_output=False)\n",
        "\n",
        "\n",
        "# Fit the encoder to the training data\n",
        "\n",
        "encode_dept = enc.fit(y_train[['Department']])\n",
        "\n",
        "\n",
        "# Create two new variables by applying the encoder\n",
        "# to the training and testing data\n",
        "\n",
        "y_train_enc_dept = enc.transform(y_train[['Department']])\n",
        "y_test_enc_dept = enc.transform(y_test[['Department']])\n",
        "\n",
        "y_train_enc_dept\n",
        "y_test_enc_dept\n"
      ]
    },
    {
      "cell_type": "code",
      "execution_count": 35,
      "metadata": {
        "colab": {
          "base_uri": "https://localhost:8080/"
        },
        "id": "-G4DSpvFRrk4",
        "outputId": "cd84d446-ce15-416c-a4a1-bc918c3cfe62"
      },
      "outputs": [],
      "source": [
        "# Create a OneHotEncoder for the Attrition column\n",
        "enc = OneHotEncoder(sparse_output=False)\n",
        "\n",
        "# Fit the encoder to the training data\n",
        "encode_att = enc.fit(y_train[['Attrition']])\n",
        "\n",
        "# Create two new variables by applying the encoder\n",
        "# to the training and testing data\n",
        "y_train_enc_att = enc.transform(y_train[['Attrition']])\n",
        "y_test_enc_att = enc.transform(y_test[['Attrition']])\n"
      ]
    },
    {
      "cell_type": "markdown",
      "metadata": {
        "id": "ykNmu_WWGc3T"
      },
      "source": [
        "## Create, Compile, and Train the Model"
      ]
    },
    {
      "cell_type": "code",
      "execution_count": 36,
      "metadata": {
        "id": "WUptZqmSGc3T"
      },
      "outputs": [],
      "source": [
        "# Find the number of columns in the X training data\n",
        "number_input_features = len(X_train_scaled[0])\n",
        "\n",
        "# Create the input layer\n",
        "input_layer = layers.Input(shape=(number_input_features,))\n",
        "\n",
        "# Create at least two shared layers\n",
        "shared1 = layers.Dense(64, activation='relu')(input_layer)\n",
        "shared2 = layers.Dense(128, activation='relu')(shared1)\n"
      ]
    },
    {
      "cell_type": "code",
      "execution_count": 37,
      "metadata": {
        "id": "JukjTm2yTEqd"
      },
      "outputs": [],
      "source": [
        "# Create a branch for Department\n",
        "# with a hidden layer and an output layer\n",
        "\n",
        "# Create the hidden layer\n",
        "dept_hidden = layers.Dense(32, activation='softmax', name='dept_layer')(shared2)\n",
        "\n",
        "# Create the output layer\n",
        "\n",
        "dept_output = layers.Dense(3, activation='softmax', name='dept_output')(dept_hidden)\n",
        "\n"
      ]
    },
    {
      "cell_type": "code",
      "execution_count": 38,
      "metadata": {
        "id": "9OqhUiOJUBkR"
      },
      "outputs": [],
      "source": [
        "# Create a branch for Attrition\n",
        "# with a hidden layer and an output layer\n",
        "\n",
        "# Create the hidden layer\n",
        "att_hidden = layers.Dense(32, activation='relu', name='att_layer')(shared2)\n",
        "\n",
        "\n",
        "# Create the output layer\n",
        "att_output = layers.Dense(2, activation='sigmoid', name='att_output')(att_hidden)\n"
      ]
    },
    {
      "cell_type": "code",
      "execution_count": 39,
      "metadata": {
        "colab": {
          "base_uri": "https://localhost:8080/",
          "height": 380
        },
        "id": "wRXx3WpLgyF-",
        "outputId": "daa9f0b5-2461-4390-cfde-f9907a9d2750"
      },
      "outputs": [
        {
          "data": {
            "text/html": [
              "<pre style=\"white-space:pre;overflow-x:auto;line-height:normal;font-family:Menlo,'DejaVu Sans Mono',consolas,'Courier New',monospace\"><span style=\"font-weight: bold\">Model: \"functional\"</span>\n",
              "</pre>\n"
            ],
            "text/plain": [
              "\u001b[1mModel: \"functional\"\u001b[0m\n"
            ]
          },
          "metadata": {},
          "output_type": "display_data"
        },
        {
          "data": {
            "text/html": [
              "<pre style=\"white-space:pre;overflow-x:auto;line-height:normal;font-family:Menlo,'DejaVu Sans Mono',consolas,'Courier New',monospace\">┏━━━━━━━━━━━━━━━━━━━━━┳━━━━━━━━━━━━━━━━━━━┳━━━━━━━━━━━━┳━━━━━━━━━━━━━━━━━━━┓\n",
              "┃<span style=\"font-weight: bold\"> Layer (type)        </span>┃<span style=\"font-weight: bold\"> Output Shape      </span>┃<span style=\"font-weight: bold\">    Param # </span>┃<span style=\"font-weight: bold\"> Connected to      </span>┃\n",
              "┡━━━━━━━━━━━━━━━━━━━━━╇━━━━━━━━━━━━━━━━━━━╇━━━━━━━━━━━━╇━━━━━━━━━━━━━━━━━━━┩\n",
              "│ input_layer         │ (<span style=\"color: #00d7ff; text-decoration-color: #00d7ff\">None</span>, <span style=\"color: #00af00; text-decoration-color: #00af00\">11</span>)        │          <span style=\"color: #00af00; text-decoration-color: #00af00\">0</span> │ -                 │\n",
              "│ (<span style=\"color: #0087ff; text-decoration-color: #0087ff\">InputLayer</span>)        │                   │            │                   │\n",
              "├─────────────────────┼───────────────────┼────────────┼───────────────────┤\n",
              "│ dense (<span style=\"color: #0087ff; text-decoration-color: #0087ff\">Dense</span>)       │ (<span style=\"color: #00d7ff; text-decoration-color: #00d7ff\">None</span>, <span style=\"color: #00af00; text-decoration-color: #00af00\">64</span>)        │        <span style=\"color: #00af00; text-decoration-color: #00af00\">768</span> │ input_layer[<span style=\"color: #00af00; text-decoration-color: #00af00\">0</span>][<span style=\"color: #00af00; text-decoration-color: #00af00\">0</span>] │\n",
              "├─────────────────────┼───────────────────┼────────────┼───────────────────┤\n",
              "│ dense_1 (<span style=\"color: #0087ff; text-decoration-color: #0087ff\">Dense</span>)     │ (<span style=\"color: #00d7ff; text-decoration-color: #00d7ff\">None</span>, <span style=\"color: #00af00; text-decoration-color: #00af00\">128</span>)       │      <span style=\"color: #00af00; text-decoration-color: #00af00\">8,320</span> │ dense[<span style=\"color: #00af00; text-decoration-color: #00af00\">0</span>][<span style=\"color: #00af00; text-decoration-color: #00af00\">0</span>]       │\n",
              "├─────────────────────┼───────────────────┼────────────┼───────────────────┤\n",
              "│ att_layer (<span style=\"color: #0087ff; text-decoration-color: #0087ff\">Dense</span>)   │ (<span style=\"color: #00d7ff; text-decoration-color: #00d7ff\">None</span>, <span style=\"color: #00af00; text-decoration-color: #00af00\">32</span>)        │      <span style=\"color: #00af00; text-decoration-color: #00af00\">4,128</span> │ dense_1[<span style=\"color: #00af00; text-decoration-color: #00af00\">0</span>][<span style=\"color: #00af00; text-decoration-color: #00af00\">0</span>]     │\n",
              "├─────────────────────┼───────────────────┼────────────┼───────────────────┤\n",
              "│ dept_layer (<span style=\"color: #0087ff; text-decoration-color: #0087ff\">Dense</span>)  │ (<span style=\"color: #00d7ff; text-decoration-color: #00d7ff\">None</span>, <span style=\"color: #00af00; text-decoration-color: #00af00\">32</span>)        │      <span style=\"color: #00af00; text-decoration-color: #00af00\">4,128</span> │ dense_1[<span style=\"color: #00af00; text-decoration-color: #00af00\">0</span>][<span style=\"color: #00af00; text-decoration-color: #00af00\">0</span>]     │\n",
              "├─────────────────────┼───────────────────┼────────────┼───────────────────┤\n",
              "│ att_output (<span style=\"color: #0087ff; text-decoration-color: #0087ff\">Dense</span>)  │ (<span style=\"color: #00d7ff; text-decoration-color: #00d7ff\">None</span>, <span style=\"color: #00af00; text-decoration-color: #00af00\">2</span>)         │         <span style=\"color: #00af00; text-decoration-color: #00af00\">66</span> │ att_layer[<span style=\"color: #00af00; text-decoration-color: #00af00\">0</span>][<span style=\"color: #00af00; text-decoration-color: #00af00\">0</span>]   │\n",
              "├─────────────────────┼───────────────────┼────────────┼───────────────────┤\n",
              "│ dept_output (<span style=\"color: #0087ff; text-decoration-color: #0087ff\">Dense</span>) │ (<span style=\"color: #00d7ff; text-decoration-color: #00d7ff\">None</span>, <span style=\"color: #00af00; text-decoration-color: #00af00\">3</span>)         │         <span style=\"color: #00af00; text-decoration-color: #00af00\">99</span> │ dept_layer[<span style=\"color: #00af00; text-decoration-color: #00af00\">0</span>][<span style=\"color: #00af00; text-decoration-color: #00af00\">0</span>]  │\n",
              "└─────────────────────┴───────────────────┴────────────┴───────────────────┘\n",
              "</pre>\n"
            ],
            "text/plain": [
              "┏━━━━━━━━━━━━━━━━━━━━━┳━━━━━━━━━━━━━━━━━━━┳━━━━━━━━━━━━┳━━━━━━━━━━━━━━━━━━━┓\n",
              "┃\u001b[1m \u001b[0m\u001b[1mLayer (type)       \u001b[0m\u001b[1m \u001b[0m┃\u001b[1m \u001b[0m\u001b[1mOutput Shape     \u001b[0m\u001b[1m \u001b[0m┃\u001b[1m \u001b[0m\u001b[1m   Param #\u001b[0m\u001b[1m \u001b[0m┃\u001b[1m \u001b[0m\u001b[1mConnected to     \u001b[0m\u001b[1m \u001b[0m┃\n",
              "┡━━━━━━━━━━━━━━━━━━━━━╇━━━━━━━━━━━━━━━━━━━╇━━━━━━━━━━━━╇━━━━━━━━━━━━━━━━━━━┩\n",
              "│ input_layer         │ (\u001b[38;5;45mNone\u001b[0m, \u001b[38;5;34m11\u001b[0m)        │          \u001b[38;5;34m0\u001b[0m │ -                 │\n",
              "│ (\u001b[38;5;33mInputLayer\u001b[0m)        │                   │            │                   │\n",
              "├─────────────────────┼───────────────────┼────────────┼───────────────────┤\n",
              "│ dense (\u001b[38;5;33mDense\u001b[0m)       │ (\u001b[38;5;45mNone\u001b[0m, \u001b[38;5;34m64\u001b[0m)        │        \u001b[38;5;34m768\u001b[0m │ input_layer[\u001b[38;5;34m0\u001b[0m][\u001b[38;5;34m0\u001b[0m] │\n",
              "├─────────────────────┼───────────────────┼────────────┼───────────────────┤\n",
              "│ dense_1 (\u001b[38;5;33mDense\u001b[0m)     │ (\u001b[38;5;45mNone\u001b[0m, \u001b[38;5;34m128\u001b[0m)       │      \u001b[38;5;34m8,320\u001b[0m │ dense[\u001b[38;5;34m0\u001b[0m][\u001b[38;5;34m0\u001b[0m]       │\n",
              "├─────────────────────┼───────────────────┼────────────┼───────────────────┤\n",
              "│ att_layer (\u001b[38;5;33mDense\u001b[0m)   │ (\u001b[38;5;45mNone\u001b[0m, \u001b[38;5;34m32\u001b[0m)        │      \u001b[38;5;34m4,128\u001b[0m │ dense_1[\u001b[38;5;34m0\u001b[0m][\u001b[38;5;34m0\u001b[0m]     │\n",
              "├─────────────────────┼───────────────────┼────────────┼───────────────────┤\n",
              "│ dept_layer (\u001b[38;5;33mDense\u001b[0m)  │ (\u001b[38;5;45mNone\u001b[0m, \u001b[38;5;34m32\u001b[0m)        │      \u001b[38;5;34m4,128\u001b[0m │ dense_1[\u001b[38;5;34m0\u001b[0m][\u001b[38;5;34m0\u001b[0m]     │\n",
              "├─────────────────────┼───────────────────┼────────────┼───────────────────┤\n",
              "│ att_output (\u001b[38;5;33mDense\u001b[0m)  │ (\u001b[38;5;45mNone\u001b[0m, \u001b[38;5;34m2\u001b[0m)         │         \u001b[38;5;34m66\u001b[0m │ att_layer[\u001b[38;5;34m0\u001b[0m][\u001b[38;5;34m0\u001b[0m]   │\n",
              "├─────────────────────┼───────────────────┼────────────┼───────────────────┤\n",
              "│ dept_output (\u001b[38;5;33mDense\u001b[0m) │ (\u001b[38;5;45mNone\u001b[0m, \u001b[38;5;34m3\u001b[0m)         │         \u001b[38;5;34m99\u001b[0m │ dept_layer[\u001b[38;5;34m0\u001b[0m][\u001b[38;5;34m0\u001b[0m]  │\n",
              "└─────────────────────┴───────────────────┴────────────┴───────────────────┘\n"
            ]
          },
          "metadata": {},
          "output_type": "display_data"
        },
        {
          "data": {
            "text/html": [
              "<pre style=\"white-space:pre;overflow-x:auto;line-height:normal;font-family:Menlo,'DejaVu Sans Mono',consolas,'Courier New',monospace\"><span style=\"font-weight: bold\"> Total params: </span><span style=\"color: #00af00; text-decoration-color: #00af00\">17,509</span> (68.39 KB)\n",
              "</pre>\n"
            ],
            "text/plain": [
              "\u001b[1m Total params: \u001b[0m\u001b[38;5;34m17,509\u001b[0m (68.39 KB)\n"
            ]
          },
          "metadata": {},
          "output_type": "display_data"
        },
        {
          "data": {
            "text/html": [
              "<pre style=\"white-space:pre;overflow-x:auto;line-height:normal;font-family:Menlo,'DejaVu Sans Mono',consolas,'Courier New',monospace\"><span style=\"font-weight: bold\"> Trainable params: </span><span style=\"color: #00af00; text-decoration-color: #00af00\">17,509</span> (68.39 KB)\n",
              "</pre>\n"
            ],
            "text/plain": [
              "\u001b[1m Trainable params: \u001b[0m\u001b[38;5;34m17,509\u001b[0m (68.39 KB)\n"
            ]
          },
          "metadata": {},
          "output_type": "display_data"
        },
        {
          "data": {
            "text/html": [
              "<pre style=\"white-space:pre;overflow-x:auto;line-height:normal;font-family:Menlo,'DejaVu Sans Mono',consolas,'Courier New',monospace\"><span style=\"font-weight: bold\"> Non-trainable params: </span><span style=\"color: #00af00; text-decoration-color: #00af00\">0</span> (0.00 B)\n",
              "</pre>\n"
            ],
            "text/plain": [
              "\u001b[1m Non-trainable params: \u001b[0m\u001b[38;5;34m0\u001b[0m (0.00 B)\n"
            ]
          },
          "metadata": {},
          "output_type": "display_data"
        }
      ],
      "source": [
        "# Create the model\n",
        "model = Model(inputs=input_layer, outputs=[att_output, dept_output])\n",
        "\n",
        "\n",
        "# Compile the model\n",
        "model.compile(optimizer='adam',\n",
        "              loss={'att_output': 'binary_crossentropy', 'dept_output': 'categorical_crossentropy'},\n",
        "              metrics={'att_output': 'accuracy', 'dept_output': 'accuracy'})\n",
        "\n",
        "# Summarize the model\n",
        "model.summary()\n"
      ]
    },
    {
      "cell_type": "code",
      "execution_count": 40,
      "metadata": {
        "colab": {
          "base_uri": "https://localhost:8080/",
          "height": 382
        },
        "id": "c8oGy0dpGc3U",
        "outputId": "59e2e5cb-2a12-455f-f427-9ffac618d706"
      },
      "outputs": [
        {
          "name": "stdout",
          "output_type": "stream",
          "text": [
            "Epoch 1/100\n",
            "\u001b[1m26/26\u001b[0m \u001b[32m━━━━━━━━━━━━━━━━━━━━\u001b[0m\u001b[37m\u001b[0m \u001b[1m2s\u001b[0m 19ms/step - att_output_accuracy: 0.7740 - att_output_loss: 0.5780 - dept_output_accuracy: 0.5170 - dept_output_loss: 1.0742 - loss: 1.6519 - val_att_output_accuracy: 0.8235 - val_att_output_loss: 0.4521 - val_dept_output_accuracy: 0.6606 - val_dept_output_loss: 1.0246 - val_loss: 1.4899\n",
            "Epoch 2/100\n",
            "\u001b[1m26/26\u001b[0m \u001b[32m━━━━━━━━━━━━━━━━━━━━\u001b[0m\u001b[37m\u001b[0m \u001b[1m0s\u001b[0m 8ms/step - att_output_accuracy: 0.8295 - att_output_loss: 0.4406 - dept_output_accuracy: 0.6552 - dept_output_loss: 1.0092 - loss: 1.4503 - val_att_output_accuracy: 0.8235 - val_att_output_loss: 0.4273 - val_dept_output_accuracy: 0.6606 - val_dept_output_loss: 0.9688 - val_loss: 1.4056\n",
            "Epoch 3/100\n",
            "\u001b[1m26/26\u001b[0m \u001b[32m━━━━━━━━━━━━━━━━━━━━\u001b[0m\u001b[37m\u001b[0m \u001b[1m0s\u001b[0m 7ms/step - att_output_accuracy: 0.8458 - att_output_loss: 0.4009 - dept_output_accuracy: 0.6907 - dept_output_loss: 0.9401 - loss: 1.3410 - val_att_output_accuracy: 0.8235 - val_att_output_loss: 0.4082 - val_dept_output_accuracy: 0.6606 - val_dept_output_loss: 0.9170 - val_loss: 1.3344\n",
            "Epoch 4/100\n",
            "\u001b[1m26/26\u001b[0m \u001b[32m━━━━━━━━━━━━━━━━━━━━\u001b[0m\u001b[37m\u001b[0m \u001b[1m0s\u001b[0m 6ms/step - att_output_accuracy: 0.8157 - att_output_loss: 0.4151 - dept_output_accuracy: 0.6752 - dept_output_loss: 0.8951 - loss: 1.3108 - val_att_output_accuracy: 0.8235 - val_att_output_loss: 0.3976 - val_dept_output_accuracy: 0.6606 - val_dept_output_loss: 0.8754 - val_loss: 1.2836\n",
            "Epoch 5/100\n",
            "\u001b[1m26/26\u001b[0m \u001b[32m━━━━━━━━━━━━━━━━━━━━\u001b[0m\u001b[37m\u001b[0m \u001b[1m0s\u001b[0m 7ms/step - att_output_accuracy: 0.8348 - att_output_loss: 0.3904 - dept_output_accuracy: 0.6538 - dept_output_loss: 0.8692 - loss: 1.2601 - val_att_output_accuracy: 0.8371 - val_att_output_loss: 0.3920 - val_dept_output_accuracy: 0.6606 - val_dept_output_loss: 0.8558 - val_loss: 1.2543\n",
            "Epoch 6/100\n",
            "\u001b[1m26/26\u001b[0m \u001b[32m━━━━━━━━━━━━━━━━━━━━\u001b[0m\u001b[37m\u001b[0m \u001b[1m0s\u001b[0m 7ms/step - att_output_accuracy: 0.8496 - att_output_loss: 0.3844 - dept_output_accuracy: 0.6325 - dept_output_loss: 0.8678 - loss: 1.2517 - val_att_output_accuracy: 0.8462 - val_att_output_loss: 0.3840 - val_dept_output_accuracy: 0.6606 - val_dept_output_loss: 0.8445 - val_loss: 1.2348\n",
            "Epoch 7/100\n",
            "\u001b[1m26/26\u001b[0m \u001b[32m━━━━━━━━━━━━━━━━━━━━\u001b[0m\u001b[37m\u001b[0m \u001b[1m0s\u001b[0m 6ms/step - att_output_accuracy: 0.8607 - att_output_loss: 0.3650 - dept_output_accuracy: 0.6610 - dept_output_loss: 0.8314 - loss: 1.1966 - val_att_output_accuracy: 0.8507 - val_att_output_loss: 0.3858 - val_dept_output_accuracy: 0.6606 - val_dept_output_loss: 0.8356 - val_loss: 1.2266\n",
            "Epoch 8/100\n",
            "\u001b[1m26/26\u001b[0m \u001b[32m━━━━━━━━━━━━━━━━━━━━\u001b[0m\u001b[37m\u001b[0m \u001b[1m0s\u001b[0m 7ms/step - att_output_accuracy: 0.8748 - att_output_loss: 0.3383 - dept_output_accuracy: 0.6678 - dept_output_loss: 0.8202 - loss: 1.1584 - val_att_output_accuracy: 0.8507 - val_att_output_loss: 0.3794 - val_dept_output_accuracy: 0.6606 - val_dept_output_loss: 0.8284 - val_loss: 1.2118\n",
            "Epoch 9/100\n",
            "\u001b[1m26/26\u001b[0m \u001b[32m━━━━━━━━━━━━━━━━━━━━\u001b[0m\u001b[37m\u001b[0m \u001b[1m0s\u001b[0m 6ms/step - att_output_accuracy: 0.8359 - att_output_loss: 0.3830 - dept_output_accuracy: 0.6917 - dept_output_loss: 0.7894 - loss: 1.1719 - val_att_output_accuracy: 0.8416 - val_att_output_loss: 0.3723 - val_dept_output_accuracy: 0.6606 - val_dept_output_loss: 0.8218 - val_loss: 1.1982\n",
            "Epoch 10/100\n",
            "\u001b[1m26/26\u001b[0m \u001b[32m━━━━━━━━━━━━━━━━━━━━\u001b[0m\u001b[37m\u001b[0m \u001b[1m0s\u001b[0m 7ms/step - att_output_accuracy: 0.8444 - att_output_loss: 0.3762 - dept_output_accuracy: 0.6654 - dept_output_loss: 0.8090 - loss: 1.1858 - val_att_output_accuracy: 0.8416 - val_att_output_loss: 0.3760 - val_dept_output_accuracy: 0.6606 - val_dept_output_loss: 0.8159 - val_loss: 1.2002\n",
            "Epoch 11/100\n",
            "\u001b[1m26/26\u001b[0m \u001b[32m━━━━━━━━━━━━━━━━━━━━\u001b[0m\u001b[37m\u001b[0m \u001b[1m0s\u001b[0m 6ms/step - att_output_accuracy: 0.8656 - att_output_loss: 0.3508 - dept_output_accuracy: 0.6908 - dept_output_loss: 0.7775 - loss: 1.1288 - val_att_output_accuracy: 0.8416 - val_att_output_loss: 0.3691 - val_dept_output_accuracy: 0.6606 - val_dept_output_loss: 0.8120 - val_loss: 1.1846\n",
            "Epoch 12/100\n",
            "\u001b[1m26/26\u001b[0m \u001b[32m━━━━━━━━━━━━━━━━━━━━\u001b[0m\u001b[37m\u001b[0m \u001b[1m0s\u001b[0m 13ms/step - att_output_accuracy: 0.8510 - att_output_loss: 0.3352 - dept_output_accuracy: 0.6641 - dept_output_loss: 0.7981 - loss: 1.1339 - val_att_output_accuracy: 0.8371 - val_att_output_loss: 0.3673 - val_dept_output_accuracy: 0.6606 - val_dept_output_loss: 0.8074 - val_loss: 1.1779\n",
            "Epoch 13/100\n",
            "\u001b[1m26/26\u001b[0m \u001b[32m━━━━━━━━━━━━━━━━━━━━\u001b[0m\u001b[37m\u001b[0m \u001b[1m0s\u001b[0m 6ms/step - att_output_accuracy: 0.8839 - att_output_loss: 0.3121 - dept_output_accuracy: 0.6520 - dept_output_loss: 0.8072 - loss: 1.1192 - val_att_output_accuracy: 0.8507 - val_att_output_loss: 0.3653 - val_dept_output_accuracy: 0.6606 - val_dept_output_loss: 0.8032 - val_loss: 1.1716\n",
            "Epoch 14/100\n",
            "\u001b[1m26/26\u001b[0m \u001b[32m━━━━━━━━━━━━━━━━━━━━\u001b[0m\u001b[37m\u001b[0m \u001b[1m0s\u001b[0m 16ms/step - att_output_accuracy: 0.8638 - att_output_loss: 0.2939 - dept_output_accuracy: 0.6389 - dept_output_loss: 0.8127 - loss: 1.1073 - val_att_output_accuracy: 0.8371 - val_att_output_loss: 0.3694 - val_dept_output_accuracy: 0.6606 - val_dept_output_loss: 0.7999 - val_loss: 1.1717\n",
            "Epoch 15/100\n",
            "\u001b[1m26/26\u001b[0m \u001b[32m━━━━━━━━━━━━━━━━━━━━\u001b[0m\u001b[37m\u001b[0m \u001b[1m1s\u001b[0m 21ms/step - att_output_accuracy: 0.8885 - att_output_loss: 0.3058 - dept_output_accuracy: 0.6561 - dept_output_loss: 0.7815 - loss: 1.0875 - val_att_output_accuracy: 0.8507 - val_att_output_loss: 0.3665 - val_dept_output_accuracy: 0.6606 - val_dept_output_loss: 0.7971 - val_loss: 1.1677\n",
            "Epoch 16/100\n",
            "\u001b[1m26/26\u001b[0m \u001b[32m━━━━━━━━━━━━━━━━━━━━\u001b[0m\u001b[37m\u001b[0m \u001b[1m0s\u001b[0m 8ms/step - att_output_accuracy: 0.8910 - att_output_loss: 0.2747 - dept_output_accuracy: 0.6751 - dept_output_loss: 0.7681 - loss: 1.0435 - val_att_output_accuracy: 0.8416 - val_att_output_loss: 0.3692 - val_dept_output_accuracy: 0.6606 - val_dept_output_loss: 0.7951 - val_loss: 1.1677\n",
            "Epoch 17/100\n",
            "\u001b[1m26/26\u001b[0m \u001b[32m━━━━━━━━━━━━━━━━━━━━\u001b[0m\u001b[37m\u001b[0m \u001b[1m0s\u001b[0m 7ms/step - att_output_accuracy: 0.8996 - att_output_loss: 0.2825 - dept_output_accuracy: 0.6502 - dept_output_loss: 0.8028 - loss: 1.0853 - val_att_output_accuracy: 0.8281 - val_att_output_loss: 0.3679 - val_dept_output_accuracy: 0.6606 - val_dept_output_loss: 0.7926 - val_loss: 1.1632\n",
            "Epoch 18/100\n",
            "\u001b[1m26/26\u001b[0m \u001b[32m━━━━━━━━━━━━━━━━━━━━\u001b[0m\u001b[37m\u001b[0m \u001b[1m0s\u001b[0m 8ms/step - att_output_accuracy: 0.8877 - att_output_loss: 0.2884 - dept_output_accuracy: 0.6572 - dept_output_loss: 0.7935 - loss: 1.0817 - val_att_output_accuracy: 0.8190 - val_att_output_loss: 0.3767 - val_dept_output_accuracy: 0.6606 - val_dept_output_loss: 0.7902 - val_loss: 1.1694\n",
            "Epoch 19/100\n",
            "\u001b[1m26/26\u001b[0m \u001b[32m━━━━━━━━━━━━━━━━━━━━\u001b[0m\u001b[37m\u001b[0m \u001b[1m0s\u001b[0m 6ms/step - att_output_accuracy: 0.8988 - att_output_loss: 0.2760 - dept_output_accuracy: 0.6654 - dept_output_loss: 0.7735 - loss: 1.0495 - val_att_output_accuracy: 0.8235 - val_att_output_loss: 0.3749 - val_dept_output_accuracy: 0.6606 - val_dept_output_loss: 0.7873 - val_loss: 1.1660\n",
            "Epoch 20/100\n",
            "\u001b[1m26/26\u001b[0m \u001b[32m━━━━━━━━━━━━━━━━━━━━\u001b[0m\u001b[37m\u001b[0m \u001b[1m0s\u001b[0m 13ms/step - att_output_accuracy: 0.8912 - att_output_loss: 0.2660 - dept_output_accuracy: 0.6674 - dept_output_loss: 0.7678 - loss: 1.0335 - val_att_output_accuracy: 0.8235 - val_att_output_loss: 0.3865 - val_dept_output_accuracy: 0.6606 - val_dept_output_loss: 0.7854 - val_loss: 1.1735\n",
            "Epoch 21/100\n",
            "\u001b[1m26/26\u001b[0m \u001b[32m━━━━━━━━━━━━━━━━━━━━\u001b[0m\u001b[37m\u001b[0m \u001b[1m0s\u001b[0m 6ms/step - att_output_accuracy: 0.8915 - att_output_loss: 0.2789 - dept_output_accuracy: 0.6386 - dept_output_loss: 0.7896 - loss: 1.0687 - val_att_output_accuracy: 0.8190 - val_att_output_loss: 0.3862 - val_dept_output_accuracy: 0.6606 - val_dept_output_loss: 0.7839 - val_loss: 1.1726\n",
            "Epoch 22/100\n",
            "\u001b[1m26/26\u001b[0m \u001b[32m━━━━━━━━━━━━━━━━━━━━\u001b[0m\u001b[37m\u001b[0m \u001b[1m0s\u001b[0m 8ms/step - att_output_accuracy: 0.8980 - att_output_loss: 0.2637 - dept_output_accuracy: 0.6521 - dept_output_loss: 0.7832 - loss: 1.0468 - val_att_output_accuracy: 0.8462 - val_att_output_loss: 0.4005 - val_dept_output_accuracy: 0.6606 - val_dept_output_loss: 0.7826 - val_loss: 1.1922\n",
            "Epoch 23/100\n",
            "\u001b[1m26/26\u001b[0m \u001b[32m━━━━━━━━━━━━━━━━━━━━\u001b[0m\u001b[37m\u001b[0m \u001b[1m0s\u001b[0m 6ms/step - att_output_accuracy: 0.8813 - att_output_loss: 0.2647 - dept_output_accuracy: 0.6873 - dept_output_loss: 0.7415 - loss: 1.0060 - val_att_output_accuracy: 0.8416 - val_att_output_loss: 0.3957 - val_dept_output_accuracy: 0.6606 - val_dept_output_loss: 0.7809 - val_loss: 1.1847\n",
            "Epoch 24/100\n",
            "\u001b[1m26/26\u001b[0m \u001b[32m━━━━━━━━━━━━━━━━━━━━\u001b[0m\u001b[37m\u001b[0m \u001b[1m0s\u001b[0m 6ms/step - att_output_accuracy: 0.8959 - att_output_loss: 0.2444 - dept_output_accuracy: 0.6703 - dept_output_loss: 0.7605 - loss: 1.0056 - val_att_output_accuracy: 0.8371 - val_att_output_loss: 0.4087 - val_dept_output_accuracy: 0.6606 - val_dept_output_loss: 0.7799 - val_loss: 1.1977\n",
            "Epoch 25/100\n",
            "\u001b[1m26/26\u001b[0m \u001b[32m━━━━━━━━━━━━━━━━━━━━\u001b[0m\u001b[37m\u001b[0m \u001b[1m0s\u001b[0m 6ms/step - att_output_accuracy: 0.9109 - att_output_loss: 0.2317 - dept_output_accuracy: 0.6745 - dept_output_loss: 0.7515 - loss: 0.9826 - val_att_output_accuracy: 0.8326 - val_att_output_loss: 0.4116 - val_dept_output_accuracy: 0.6606 - val_dept_output_loss: 0.7794 - val_loss: 1.1997\n",
            "Epoch 26/100\n",
            "\u001b[1m26/26\u001b[0m \u001b[32m━━━━━━━━━━━━━━━━━━━━\u001b[0m\u001b[37m\u001b[0m \u001b[1m0s\u001b[0m 6ms/step - att_output_accuracy: 0.9056 - att_output_loss: 0.2215 - dept_output_accuracy: 0.6576 - dept_output_loss: 0.7735 - loss: 0.9957 - val_att_output_accuracy: 0.8235 - val_att_output_loss: 0.4107 - val_dept_output_accuracy: 0.6606 - val_dept_output_loss: 0.7779 - val_loss: 1.1938\n",
            "Epoch 27/100\n",
            "\u001b[1m26/26\u001b[0m \u001b[32m━━━━━━━━━━━━━━━━━━━━\u001b[0m\u001b[37m\u001b[0m \u001b[1m0s\u001b[0m 6ms/step - att_output_accuracy: 0.9232 - att_output_loss: 0.2025 - dept_output_accuracy: 0.6754 - dept_output_loss: 0.7437 - loss: 0.9456 - val_att_output_accuracy: 0.8100 - val_att_output_loss: 0.4209 - val_dept_output_accuracy: 0.6606 - val_dept_output_loss: 0.7774 - val_loss: 1.2081\n",
            "Epoch 28/100\n",
            "\u001b[1m26/26\u001b[0m \u001b[32m━━━━━━━━━━━━━━━━━━━━\u001b[0m\u001b[37m\u001b[0m \u001b[1m0s\u001b[0m 6ms/step - att_output_accuracy: 0.9242 - att_output_loss: 0.2037 - dept_output_accuracy: 0.6450 - dept_output_loss: 0.7844 - loss: 0.9878 - val_att_output_accuracy: 0.8190 - val_att_output_loss: 0.4225 - val_dept_output_accuracy: 0.6606 - val_dept_output_loss: 0.7761 - val_loss: 1.2044\n",
            "Epoch 29/100\n",
            "\u001b[1m26/26\u001b[0m \u001b[32m━━━━━━━━━━━━━━━━━━━━\u001b[0m\u001b[37m\u001b[0m \u001b[1m0s\u001b[0m 6ms/step - att_output_accuracy: 0.9237 - att_output_loss: 0.1892 - dept_output_accuracy: 0.6455 - dept_output_loss: 0.7659 - loss: 0.9551 - val_att_output_accuracy: 0.8416 - val_att_output_loss: 0.4669 - val_dept_output_accuracy: 0.6606 - val_dept_output_loss: 0.7758 - val_loss: 1.2566\n",
            "Epoch 30/100\n",
            "\u001b[1m26/26\u001b[0m \u001b[32m━━━━━━━━━━━━━━━━━━━━\u001b[0m\u001b[37m\u001b[0m \u001b[1m0s\u001b[0m 6ms/step - att_output_accuracy: 0.9110 - att_output_loss: 0.1909 - dept_output_accuracy: 0.6460 - dept_output_loss: 0.7744 - loss: 0.9654 - val_att_output_accuracy: 0.8371 - val_att_output_loss: 0.4575 - val_dept_output_accuracy: 0.6606 - val_dept_output_loss: 0.7761 - val_loss: 1.2486\n",
            "Epoch 31/100\n",
            "\u001b[1m26/26\u001b[0m \u001b[32m━━━━━━━━━━━━━━━━━━━━\u001b[0m\u001b[37m\u001b[0m \u001b[1m0s\u001b[0m 6ms/step - att_output_accuracy: 0.9176 - att_output_loss: 0.1779 - dept_output_accuracy: 0.6628 - dept_output_loss: 0.7570 - loss: 0.9353 - val_att_output_accuracy: 0.8190 - val_att_output_loss: 0.4523 - val_dept_output_accuracy: 0.6606 - val_dept_output_loss: 0.7761 - val_loss: 1.2415\n",
            "Epoch 32/100\n",
            "\u001b[1m26/26\u001b[0m \u001b[32m━━━━━━━━━━━━━━━━━━━━\u001b[0m\u001b[37m\u001b[0m \u001b[1m0s\u001b[0m 6ms/step - att_output_accuracy: 0.9366 - att_output_loss: 0.1572 - dept_output_accuracy: 0.6855 - dept_output_loss: 0.7418 - loss: 0.8993 - val_att_output_accuracy: 0.8054 - val_att_output_loss: 0.4617 - val_dept_output_accuracy: 0.6606 - val_dept_output_loss: 0.7748 - val_loss: 1.2494\n",
            "Epoch 33/100\n",
            "\u001b[1m26/26\u001b[0m \u001b[32m━━━━━━━━━━━━━━━━━━━━\u001b[0m\u001b[37m\u001b[0m \u001b[1m0s\u001b[0m 6ms/step - att_output_accuracy: 0.9365 - att_output_loss: 0.1729 - dept_output_accuracy: 0.6631 - dept_output_loss: 0.7577 - loss: 0.9301 - val_att_output_accuracy: 0.8100 - val_att_output_loss: 0.4616 - val_dept_output_accuracy: 0.6606 - val_dept_output_loss: 0.7756 - val_loss: 1.2509\n",
            "Epoch 34/100\n",
            "\u001b[1m26/26\u001b[0m \u001b[32m━━━━━━━━━━━━━━━━━━━━\u001b[0m\u001b[37m\u001b[0m \u001b[1m0s\u001b[0m 6ms/step - att_output_accuracy: 0.9362 - att_output_loss: 0.1610 - dept_output_accuracy: 0.6714 - dept_output_loss: 0.7417 - loss: 0.9012 - val_att_output_accuracy: 0.8100 - val_att_output_loss: 0.4809 - val_dept_output_accuracy: 0.6606 - val_dept_output_loss: 0.7750 - val_loss: 1.2717\n",
            "Epoch 35/100\n",
            "\u001b[1m26/26\u001b[0m \u001b[32m━━━━━━━━━━━━━━━━━━━━\u001b[0m\u001b[37m\u001b[0m \u001b[1m0s\u001b[0m 7ms/step - att_output_accuracy: 0.9337 - att_output_loss: 0.1574 - dept_output_accuracy: 0.6944 - dept_output_loss: 0.7105 - loss: 0.8677 - val_att_output_accuracy: 0.8100 - val_att_output_loss: 0.5047 - val_dept_output_accuracy: 0.6606 - val_dept_output_loss: 0.7743 - val_loss: 1.2918\n",
            "Epoch 36/100\n",
            "\u001b[1m26/26\u001b[0m \u001b[32m━━━━━━━━━━━━━━━━━━━━\u001b[0m\u001b[37m\u001b[0m \u001b[1m0s\u001b[0m 6ms/step - att_output_accuracy: 0.9468 - att_output_loss: 0.1487 - dept_output_accuracy: 0.6835 - dept_output_loss: 0.7188 - loss: 0.8680 - val_att_output_accuracy: 0.8145 - val_att_output_loss: 0.4996 - val_dept_output_accuracy: 0.6606 - val_dept_output_loss: 0.7752 - val_loss: 1.2923\n",
            "Epoch 37/100\n",
            "\u001b[1m26/26\u001b[0m \u001b[32m━━━━━━━━━━━━━━━━━━━━\u001b[0m\u001b[37m\u001b[0m \u001b[1m0s\u001b[0m 6ms/step - att_output_accuracy: 0.9440 - att_output_loss: 0.1486 - dept_output_accuracy: 0.6563 - dept_output_loss: 0.7562 - loss: 0.9051 - val_att_output_accuracy: 0.8145 - val_att_output_loss: 0.5291 - val_dept_output_accuracy: 0.6606 - val_dept_output_loss: 0.7768 - val_loss: 1.3272\n",
            "Epoch 38/100\n",
            "\u001b[1m26/26\u001b[0m \u001b[32m━━━━━━━━━━━━━━━━━━━━\u001b[0m\u001b[37m\u001b[0m \u001b[1m0s\u001b[0m 8ms/step - att_output_accuracy: 0.9597 - att_output_loss: 0.1269 - dept_output_accuracy: 0.6759 - dept_output_loss: 0.7451 - loss: 0.8720 - val_att_output_accuracy: 0.7919 - val_att_output_loss: 0.5228 - val_dept_output_accuracy: 0.6606 - val_dept_output_loss: 0.7768 - val_loss: 1.3165\n",
            "Epoch 39/100\n",
            "\u001b[1m26/26\u001b[0m \u001b[32m━━━━━━━━━━━━━━━━━━━━\u001b[0m\u001b[37m\u001b[0m \u001b[1m0s\u001b[0m 8ms/step - att_output_accuracy: 0.9525 - att_output_loss: 0.1203 - dept_output_accuracy: 0.6882 - dept_output_loss: 0.7276 - loss: 0.8483 - val_att_output_accuracy: 0.8054 - val_att_output_loss: 0.5588 - val_dept_output_accuracy: 0.6606 - val_dept_output_loss: 0.7769 - val_loss: 1.3578\n",
            "Epoch 40/100\n",
            "\u001b[1m26/26\u001b[0m \u001b[32m━━━━━━━━━━━━━━━━━━━━\u001b[0m\u001b[37m\u001b[0m \u001b[1m0s\u001b[0m 6ms/step - att_output_accuracy: 0.9457 - att_output_loss: 0.1309 - dept_output_accuracy: 0.6555 - dept_output_loss: 0.7429 - loss: 0.8741 - val_att_output_accuracy: 0.8054 - val_att_output_loss: 0.5404 - val_dept_output_accuracy: 0.6606 - val_dept_output_loss: 0.7777 - val_loss: 1.3408\n",
            "Epoch 41/100\n",
            "\u001b[1m26/26\u001b[0m \u001b[32m━━━━━━━━━━━━━━━━━━━━\u001b[0m\u001b[37m\u001b[0m \u001b[1m0s\u001b[0m 6ms/step - att_output_accuracy: 0.9751 - att_output_loss: 0.0960 - dept_output_accuracy: 0.6708 - dept_output_loss: 0.7334 - loss: 0.8291 - val_att_output_accuracy: 0.8190 - val_att_output_loss: 0.5816 - val_dept_output_accuracy: 0.6606 - val_dept_output_loss: 0.7762 - val_loss: 1.3830\n",
            "Epoch 42/100\n",
            "\u001b[1m26/26\u001b[0m \u001b[32m━━━━━━━━━━━━━━━━━━━━\u001b[0m\u001b[37m\u001b[0m \u001b[1m0s\u001b[0m 6ms/step - att_output_accuracy: 0.9684 - att_output_loss: 0.0908 - dept_output_accuracy: 0.6622 - dept_output_loss: 0.7332 - loss: 0.8243 - val_att_output_accuracy: 0.8009 - val_att_output_loss: 0.5946 - val_dept_output_accuracy: 0.6606 - val_dept_output_loss: 0.7804 - val_loss: 1.4036\n",
            "Epoch 43/100\n",
            "\u001b[1m26/26\u001b[0m \u001b[32m━━━━━━━━━━━━━━━━━━━━\u001b[0m\u001b[37m\u001b[0m \u001b[1m0s\u001b[0m 10ms/step - att_output_accuracy: 0.9630 - att_output_loss: 0.0951 - dept_output_accuracy: 0.6579 - dept_output_loss: 0.7649 - loss: 0.8606 - val_att_output_accuracy: 0.8009 - val_att_output_loss: 0.6121 - val_dept_output_accuracy: 0.6606 - val_dept_output_loss: 0.7795 - val_loss: 1.4208\n",
            "Epoch 44/100\n",
            "\u001b[1m26/26\u001b[0m \u001b[32m━━━━━━━━━━━━━━━━━━━━\u001b[0m\u001b[37m\u001b[0m \u001b[1m0s\u001b[0m 6ms/step - att_output_accuracy: 0.9694 - att_output_loss: 0.0857 - dept_output_accuracy: 0.6866 - dept_output_loss: 0.7055 - loss: 0.7920 - val_att_output_accuracy: 0.7828 - val_att_output_loss: 0.5900 - val_dept_output_accuracy: 0.6606 - val_dept_output_loss: 0.7793 - val_loss: 1.3883\n",
            "Epoch 45/100\n",
            "\u001b[1m26/26\u001b[0m \u001b[32m━━━━━━━━━━━━━━━━━━━━\u001b[0m\u001b[37m\u001b[0m \u001b[1m0s\u001b[0m 11ms/step - att_output_accuracy: 0.9661 - att_output_loss: 0.0934 - dept_output_accuracy: 0.6671 - dept_output_loss: 0.7376 - loss: 0.8293 - val_att_output_accuracy: 0.7964 - val_att_output_loss: 0.6273 - val_dept_output_accuracy: 0.6606 - val_dept_output_loss: 0.7836 - val_loss: 1.4417\n",
            "Epoch 46/100\n",
            "\u001b[1m26/26\u001b[0m \u001b[32m━━━━━━━━━━━━━━━━━━━━\u001b[0m\u001b[37m\u001b[0m \u001b[1m0s\u001b[0m 8ms/step - att_output_accuracy: 0.9781 - att_output_loss: 0.0727 - dept_output_accuracy: 0.6613 - dept_output_loss: 0.7353 - loss: 0.8088 - val_att_output_accuracy: 0.8009 - val_att_output_loss: 0.6222 - val_dept_output_accuracy: 0.6606 - val_dept_output_loss: 0.7854 - val_loss: 1.4364\n",
            "Epoch 47/100\n",
            "\u001b[1m26/26\u001b[0m \u001b[32m━━━━━━━━━━━━━━━━━━━━\u001b[0m\u001b[37m\u001b[0m \u001b[1m0s\u001b[0m 7ms/step - att_output_accuracy: 0.9790 - att_output_loss: 0.0658 - dept_output_accuracy: 0.6686 - dept_output_loss: 0.7301 - loss: 0.7965 - val_att_output_accuracy: 0.8100 - val_att_output_loss: 0.6464 - val_dept_output_accuracy: 0.6606 - val_dept_output_loss: 0.7819 - val_loss: 1.4624\n",
            "Epoch 48/100\n",
            "\u001b[1m26/26\u001b[0m \u001b[32m━━━━━━━━━━━━━━━━━━━━\u001b[0m\u001b[37m\u001b[0m \u001b[1m0s\u001b[0m 6ms/step - att_output_accuracy: 0.9849 - att_output_loss: 0.0669 - dept_output_accuracy: 0.6670 - dept_output_loss: 0.7385 - loss: 0.8062 - val_att_output_accuracy: 0.7964 - val_att_output_loss: 0.6544 - val_dept_output_accuracy: 0.6606 - val_dept_output_loss: 0.7872 - val_loss: 1.4749\n",
            "Epoch 49/100\n",
            "\u001b[1m26/26\u001b[0m \u001b[32m━━━━━━━━━━━━━━━━━━━━\u001b[0m\u001b[37m\u001b[0m \u001b[1m0s\u001b[0m 6ms/step - att_output_accuracy: 0.9861 - att_output_loss: 0.0549 - dept_output_accuracy: 0.6670 - dept_output_loss: 0.7171 - loss: 0.7722 - val_att_output_accuracy: 0.8100 - val_att_output_loss: 0.6838 - val_dept_output_accuracy: 0.6606 - val_dept_output_loss: 0.7847 - val_loss: 1.5061\n",
            "Epoch 50/100\n",
            "\u001b[1m26/26\u001b[0m \u001b[32m━━━━━━━━━━━━━━━━━━━━\u001b[0m\u001b[37m\u001b[0m \u001b[1m0s\u001b[0m 6ms/step - att_output_accuracy: 0.9868 - att_output_loss: 0.0515 - dept_output_accuracy: 0.6742 - dept_output_loss: 0.7023 - loss: 0.7523 - val_att_output_accuracy: 0.7919 - val_att_output_loss: 0.6749 - val_dept_output_accuracy: 0.6606 - val_dept_output_loss: 0.7922 - val_loss: 1.5000\n",
            "Epoch 51/100\n",
            "\u001b[1m26/26\u001b[0m \u001b[32m━━━━━━━━━━━━━━━━━━━━\u001b[0m\u001b[37m\u001b[0m \u001b[1m0s\u001b[0m 6ms/step - att_output_accuracy: 0.9822 - att_output_loss: 0.0649 - dept_output_accuracy: 0.6865 - dept_output_loss: 0.6924 - loss: 0.7563 - val_att_output_accuracy: 0.8100 - val_att_output_loss: 0.7473 - val_dept_output_accuracy: 0.6606 - val_dept_output_loss: 0.7845 - val_loss: 1.5771\n",
            "Epoch 52/100\n",
            "\u001b[1m26/26\u001b[0m \u001b[32m━━━━━━━━━━━━━━━━━━━━\u001b[0m\u001b[37m\u001b[0m \u001b[1m0s\u001b[0m 7ms/step - att_output_accuracy: 0.9873 - att_output_loss: 0.0549 - dept_output_accuracy: 0.6852 - dept_output_loss: 0.6842 - loss: 0.7391 - val_att_output_accuracy: 0.7964 - val_att_output_loss: 0.7410 - val_dept_output_accuracy: 0.6606 - val_dept_output_loss: 0.7928 - val_loss: 1.5779\n",
            "Epoch 53/100\n",
            "\u001b[1m26/26\u001b[0m \u001b[32m━━━━━━━━━━━━━━━━━━━━\u001b[0m\u001b[37m\u001b[0m \u001b[1m0s\u001b[0m 6ms/step - att_output_accuracy: 0.9926 - att_output_loss: 0.0435 - dept_output_accuracy: 0.6613 - dept_output_loss: 0.7255 - loss: 0.7693 - val_att_output_accuracy: 0.7964 - val_att_output_loss: 0.7868 - val_dept_output_accuracy: 0.6606 - val_dept_output_loss: 0.7978 - val_loss: 1.6331\n",
            "Epoch 54/100\n",
            "\u001b[1m26/26\u001b[0m \u001b[32m━━━━━━━━━━━━━━━━━━━━\u001b[0m\u001b[37m\u001b[0m \u001b[1m0s\u001b[0m 6ms/step - att_output_accuracy: 0.9844 - att_output_loss: 0.0473 - dept_output_accuracy: 0.6823 - dept_output_loss: 0.7099 - loss: 0.7571 - val_att_output_accuracy: 0.8009 - val_att_output_loss: 0.7665 - val_dept_output_accuracy: 0.6606 - val_dept_output_loss: 0.7944 - val_loss: 1.6036\n",
            "Epoch 55/100\n",
            "\u001b[1m26/26\u001b[0m \u001b[32m━━━━━━━━━━━━━━━━━━━━\u001b[0m\u001b[37m\u001b[0m \u001b[1m0s\u001b[0m 6ms/step - att_output_accuracy: 0.9914 - att_output_loss: 0.0412 - dept_output_accuracy: 0.6671 - dept_output_loss: 0.6915 - loss: 0.7325 - val_att_output_accuracy: 0.7873 - val_att_output_loss: 0.7514 - val_dept_output_accuracy: 0.6606 - val_dept_output_loss: 0.8003 - val_loss: 1.5925\n",
            "Epoch 56/100\n",
            "\u001b[1m26/26\u001b[0m \u001b[32m━━━━━━━━━━━━━━━━━━━━\u001b[0m\u001b[37m\u001b[0m \u001b[1m0s\u001b[0m 7ms/step - att_output_accuracy: 0.9912 - att_output_loss: 0.0449 - dept_output_accuracy: 0.6843 - dept_output_loss: 0.6934 - loss: 0.7389 - val_att_output_accuracy: 0.7919 - val_att_output_loss: 0.7854 - val_dept_output_accuracy: 0.6606 - val_dept_output_loss: 0.8001 - val_loss: 1.6304\n",
            "Epoch 57/100\n",
            "\u001b[1m26/26\u001b[0m \u001b[32m━━━━━━━━━━━━━━━━━━━━\u001b[0m\u001b[37m\u001b[0m \u001b[1m0s\u001b[0m 6ms/step - att_output_accuracy: 0.9918 - att_output_loss: 0.0447 - dept_output_accuracy: 0.6763 - dept_output_loss: 0.6881 - loss: 0.7316 - val_att_output_accuracy: 0.7919 - val_att_output_loss: 0.8356 - val_dept_output_accuracy: 0.6606 - val_dept_output_loss: 0.8095 - val_loss: 1.6962\n",
            "Epoch 58/100\n",
            "\u001b[1m26/26\u001b[0m \u001b[32m━━━━━━━━━━━━━━━━━━━━\u001b[0m\u001b[37m\u001b[0m \u001b[1m0s\u001b[0m 6ms/step - att_output_accuracy: 0.9873 - att_output_loss: 0.0433 - dept_output_accuracy: 0.6487 - dept_output_loss: 0.7188 - loss: 0.7606 - val_att_output_accuracy: 0.7783 - val_att_output_loss: 0.8189 - val_dept_output_accuracy: 0.6606 - val_dept_output_loss: 0.8120 - val_loss: 1.6812\n",
            "Epoch 59/100\n",
            "\u001b[1m26/26\u001b[0m \u001b[32m━━━━━━━━━━━━━━━━━━━━\u001b[0m\u001b[37m\u001b[0m \u001b[1m0s\u001b[0m 11ms/step - att_output_accuracy: 0.9868 - att_output_loss: 0.0476 - dept_output_accuracy: 0.6743 - dept_output_loss: 0.6627 - loss: 0.7093 - val_att_output_accuracy: 0.8009 - val_att_output_loss: 0.8350 - val_dept_output_accuracy: 0.6561 - val_dept_output_loss: 0.8080 - val_loss: 1.6951\n",
            "Epoch 60/100\n",
            "\u001b[1m26/26\u001b[0m \u001b[32m━━━━━━━━━━━━━━━━━━━━\u001b[0m\u001b[37m\u001b[0m \u001b[1m0s\u001b[0m 6ms/step - att_output_accuracy: 0.9931 - att_output_loss: 0.0426 - dept_output_accuracy: 0.6547 - dept_output_loss: 0.7075 - loss: 0.7492 - val_att_output_accuracy: 0.7873 - val_att_output_loss: 0.8093 - val_dept_output_accuracy: 0.6471 - val_dept_output_loss: 0.8172 - val_loss: 1.6743\n",
            "Epoch 61/100\n",
            "\u001b[1m26/26\u001b[0m \u001b[32m━━━━━━━━━━━━━━━━━━━━\u001b[0m\u001b[37m\u001b[0m \u001b[1m0s\u001b[0m 6ms/step - att_output_accuracy: 0.9964 - att_output_loss: 0.0334 - dept_output_accuracy: 0.6545 - dept_output_loss: 0.7011 - loss: 0.7346 - val_att_output_accuracy: 0.7964 - val_att_output_loss: 0.8416 - val_dept_output_accuracy: 0.6244 - val_dept_output_loss: 0.8175 - val_loss: 1.7078\n",
            "Epoch 62/100\n",
            "\u001b[1m26/26\u001b[0m \u001b[32m━━━━━━━━━━━━━━━━━━━━\u001b[0m\u001b[37m\u001b[0m \u001b[1m0s\u001b[0m 6ms/step - att_output_accuracy: 0.9983 - att_output_loss: 0.0268 - dept_output_accuracy: 0.6562 - dept_output_loss: 0.6939 - loss: 0.7195 - val_att_output_accuracy: 0.7964 - val_att_output_loss: 0.8726 - val_dept_output_accuracy: 0.6063 - val_dept_output_loss: 0.8128 - val_loss: 1.7420\n",
            "Epoch 63/100\n",
            "\u001b[1m26/26\u001b[0m \u001b[32m━━━━━━━━━━━━━━━━━━━━\u001b[0m\u001b[37m\u001b[0m \u001b[1m0s\u001b[0m 7ms/step - att_output_accuracy: 0.9981 - att_output_loss: 0.0251 - dept_output_accuracy: 0.6605 - dept_output_loss: 0.6991 - loss: 0.7233 - val_att_output_accuracy: 0.7873 - val_att_output_loss: 0.8671 - val_dept_output_accuracy: 0.6063 - val_dept_output_loss: 0.8188 - val_loss: 1.7371\n",
            "Epoch 64/100\n",
            "\u001b[1m26/26\u001b[0m \u001b[32m━━━━━━━━━━━━━━━━━━━━\u001b[0m\u001b[37m\u001b[0m \u001b[1m0s\u001b[0m 8ms/step - att_output_accuracy: 0.9965 - att_output_loss: 0.0270 - dept_output_accuracy: 0.6508 - dept_output_loss: 0.6659 - loss: 0.6922 - val_att_output_accuracy: 0.8009 - val_att_output_loss: 0.9241 - val_dept_output_accuracy: 0.6154 - val_dept_output_loss: 0.8296 - val_loss: 1.8090\n",
            "Epoch 65/100\n",
            "\u001b[1m26/26\u001b[0m \u001b[32m━━━━━━━━━━━━━━━━━━━━\u001b[0m\u001b[37m\u001b[0m \u001b[1m0s\u001b[0m 6ms/step - att_output_accuracy: 0.9949 - att_output_loss: 0.0249 - dept_output_accuracy: 0.6587 - dept_output_loss: 0.6555 - loss: 0.6807 - val_att_output_accuracy: 0.8054 - val_att_output_loss: 0.9168 - val_dept_output_accuracy: 0.6018 - val_dept_output_loss: 0.8202 - val_loss: 1.7976\n",
            "Epoch 66/100\n",
            "\u001b[1m26/26\u001b[0m \u001b[32m━━━━━━━━━━━━━━━━━━━━\u001b[0m\u001b[37m\u001b[0m \u001b[1m0s\u001b[0m 6ms/step - att_output_accuracy: 0.9949 - att_output_loss: 0.0323 - dept_output_accuracy: 0.6670 - dept_output_loss: 0.7009 - loss: 0.7329 - val_att_output_accuracy: 0.7828 - val_att_output_loss: 0.9808 - val_dept_output_accuracy: 0.5882 - val_dept_output_loss: 0.8301 - val_loss: 1.8748\n",
            "Epoch 67/100\n",
            "\u001b[1m26/26\u001b[0m \u001b[32m━━━━━━━━━━━━━━━━━━━━\u001b[0m\u001b[37m\u001b[0m \u001b[1m0s\u001b[0m 6ms/step - att_output_accuracy: 0.9976 - att_output_loss: 0.0230 - dept_output_accuracy: 0.7080 - dept_output_loss: 0.6372 - loss: 0.6608 - val_att_output_accuracy: 0.7919 - val_att_output_loss: 0.9582 - val_dept_output_accuracy: 0.6018 - val_dept_output_loss: 0.8433 - val_loss: 1.8644\n",
            "Epoch 68/100\n",
            "\u001b[1m26/26\u001b[0m \u001b[32m━━━━━━━━━━━━━━━━━━━━\u001b[0m\u001b[37m\u001b[0m \u001b[1m0s\u001b[0m 6ms/step - att_output_accuracy: 0.9978 - att_output_loss: 0.0200 - dept_output_accuracy: 0.6563 - dept_output_loss: 0.6732 - loss: 0.6939 - val_att_output_accuracy: 0.7873 - val_att_output_loss: 1.0095 - val_dept_output_accuracy: 0.6199 - val_dept_output_loss: 0.8507 - val_loss: 1.9270\n",
            "Epoch 69/100\n",
            "\u001b[1m26/26\u001b[0m \u001b[32m━━━━━━━━━━━━━━━━━━━━\u001b[0m\u001b[37m\u001b[0m \u001b[1m0s\u001b[0m 7ms/step - att_output_accuracy: 0.9996 - att_output_loss: 0.0159 - dept_output_accuracy: 0.6862 - dept_output_loss: 0.6438 - loss: 0.6603 - val_att_output_accuracy: 0.7873 - val_att_output_loss: 0.9893 - val_dept_output_accuracy: 0.6018 - val_dept_output_loss: 0.8492 - val_loss: 1.9024\n",
            "Epoch 70/100\n",
            "\u001b[1m26/26\u001b[0m \u001b[32m━━━━━━━━━━━━━━━━━━━━\u001b[0m\u001b[37m\u001b[0m \u001b[1m0s\u001b[0m 6ms/step - att_output_accuracy: 0.9980 - att_output_loss: 0.0151 - dept_output_accuracy: 0.6640 - dept_output_loss: 0.6392 - loss: 0.6548 - val_att_output_accuracy: 0.7828 - val_att_output_loss: 0.9868 - val_dept_output_accuracy: 0.5973 - val_dept_output_loss: 0.8370 - val_loss: 1.8886\n",
            "Epoch 71/100\n",
            "\u001b[1m26/26\u001b[0m \u001b[32m━━━━━━━━━━━━━━━━━━━━\u001b[0m\u001b[37m\u001b[0m \u001b[1m0s\u001b[0m 12ms/step - att_output_accuracy: 0.9995 - att_output_loss: 0.0211 - dept_output_accuracy: 0.7349 - dept_output_loss: 0.6448 - loss: 0.6661 - val_att_output_accuracy: 0.8009 - val_att_output_loss: 1.0332 - val_dept_output_accuracy: 0.6063 - val_dept_output_loss: 0.8453 - val_loss: 1.9491\n",
            "Epoch 72/100\n",
            "\u001b[1m26/26\u001b[0m \u001b[32m━━━━━━━━━━━━━━━━━━━━\u001b[0m\u001b[37m\u001b[0m \u001b[1m1s\u001b[0m 7ms/step - att_output_accuracy: 0.9998 - att_output_loss: 0.0125 - dept_output_accuracy: 0.7348 - dept_output_loss: 0.5969 - loss: 0.6084 - val_att_output_accuracy: 0.7828 - val_att_output_loss: 1.0443 - val_dept_output_accuracy: 0.5973 - val_dept_output_loss: 0.8477 - val_loss: 1.9622\n",
            "Epoch 73/100\n",
            "\u001b[1m26/26\u001b[0m \u001b[32m━━━━━━━━━━━━━━━━━━━━\u001b[0m\u001b[37m\u001b[0m \u001b[1m0s\u001b[0m 8ms/step - att_output_accuracy: 0.9930 - att_output_loss: 0.0245 - dept_output_accuracy: 0.7017 - dept_output_loss: 0.6560 - loss: 0.6813 - val_att_output_accuracy: 0.7828 - val_att_output_loss: 1.0608 - val_dept_output_accuracy: 0.5928 - val_dept_output_loss: 0.8658 - val_loss: 1.9950\n",
            "Epoch 74/100\n",
            "\u001b[1m26/26\u001b[0m \u001b[32m━━━━━━━━━━━━━━━━━━━━\u001b[0m\u001b[37m\u001b[0m \u001b[1m0s\u001b[0m 6ms/step - att_output_accuracy: 1.0000 - att_output_loss: 0.0160 - dept_output_accuracy: 0.7348 - dept_output_loss: 0.6141 - loss: 0.6307 - val_att_output_accuracy: 0.7919 - val_att_output_loss: 1.0367 - val_dept_output_accuracy: 0.6063 - val_dept_output_loss: 0.8570 - val_loss: 1.9645\n",
            "Epoch 75/100\n",
            "\u001b[1m26/26\u001b[0m \u001b[32m━━━━━━━━━━━━━━━━━━━━\u001b[0m\u001b[37m\u001b[0m \u001b[1m0s\u001b[0m 6ms/step - att_output_accuracy: 0.9959 - att_output_loss: 0.0169 - dept_output_accuracy: 0.7046 - dept_output_loss: 0.6632 - loss: 0.6804 - val_att_output_accuracy: 0.7919 - val_att_output_loss: 1.0984 - val_dept_output_accuracy: 0.5882 - val_dept_output_loss: 0.8662 - val_loss: 2.0408\n",
            "Epoch 76/100\n",
            "\u001b[1m26/26\u001b[0m \u001b[32m━━━━━━━━━━━━━━━━━━━━\u001b[0m\u001b[37m\u001b[0m \u001b[1m0s\u001b[0m 7ms/step - att_output_accuracy: 0.9981 - att_output_loss: 0.0162 - dept_output_accuracy: 0.7342 - dept_output_loss: 0.5897 - loss: 0.6058 - val_att_output_accuracy: 0.7919 - val_att_output_loss: 1.1005 - val_dept_output_accuracy: 0.5837 - val_dept_output_loss: 0.8678 - val_loss: 2.0440\n",
            "Epoch 77/100\n",
            "\u001b[1m26/26\u001b[0m \u001b[32m━━━━━━━━━━━━━━━━━━━━\u001b[0m\u001b[37m\u001b[0m \u001b[1m0s\u001b[0m 7ms/step - att_output_accuracy: 0.9879 - att_output_loss: 0.0443 - dept_output_accuracy: 0.7691 - dept_output_loss: 0.5998 - loss: 0.6445 - val_att_output_accuracy: 0.8009 - val_att_output_loss: 1.1197 - val_dept_output_accuracy: 0.5882 - val_dept_output_loss: 0.8741 - val_loss: 2.0745\n",
            "Epoch 78/100\n",
            "\u001b[1m26/26\u001b[0m \u001b[32m━━━━━━━━━━━━━━━━━━━━\u001b[0m\u001b[37m\u001b[0m \u001b[1m0s\u001b[0m 8ms/step - att_output_accuracy: 0.9869 - att_output_loss: 0.0402 - dept_output_accuracy: 0.7713 - dept_output_loss: 0.5770 - loss: 0.6174 - val_att_output_accuracy: 0.7873 - val_att_output_loss: 1.0828 - val_dept_output_accuracy: 0.6109 - val_dept_output_loss: 0.8785 - val_loss: 2.0355\n",
            "Epoch 79/100\n",
            "\u001b[1m26/26\u001b[0m \u001b[32m━━━━━━━━━━━━━━━━━━━━\u001b[0m\u001b[37m\u001b[0m \u001b[1m0s\u001b[0m 6ms/step - att_output_accuracy: 0.9970 - att_output_loss: 0.0228 - dept_output_accuracy: 0.7458 - dept_output_loss: 0.5843 - loss: 0.6068 - val_att_output_accuracy: 0.8009 - val_att_output_loss: 1.0856 - val_dept_output_accuracy: 0.5928 - val_dept_output_loss: 0.8814 - val_loss: 2.0421\n",
            "Epoch 80/100\n",
            "\u001b[1m26/26\u001b[0m \u001b[32m━━━━━━━━━━━━━━━━━━━━\u001b[0m\u001b[37m\u001b[0m \u001b[1m0s\u001b[0m 10ms/step - att_output_accuracy: 0.9900 - att_output_loss: 0.0431 - dept_output_accuracy: 0.7527 - dept_output_loss: 0.6031 - loss: 0.6466 - val_att_output_accuracy: 0.7919 - val_att_output_loss: 1.1250 - val_dept_output_accuracy: 0.6244 - val_dept_output_loss: 0.8803 - val_loss: 2.0822\n",
            "Epoch 81/100\n",
            "\u001b[1m26/26\u001b[0m \u001b[32m━━━━━━━━━━━━━━━━━━━━\u001b[0m\u001b[37m\u001b[0m \u001b[1m0s\u001b[0m 6ms/step - att_output_accuracy: 0.9969 - att_output_loss: 0.0213 - dept_output_accuracy: 0.7249 - dept_output_loss: 0.6538 - loss: 0.6760 - val_att_output_accuracy: 0.7828 - val_att_output_loss: 1.1107 - val_dept_output_accuracy: 0.5837 - val_dept_output_loss: 0.8860 - val_loss: 2.0697\n",
            "Epoch 82/100\n",
            "\u001b[1m26/26\u001b[0m \u001b[32m━━━━━━━━━━━━━━━━━━━━\u001b[0m\u001b[37m\u001b[0m \u001b[1m0s\u001b[0m 6ms/step - att_output_accuracy: 1.0000 - att_output_loss: 0.0148 - dept_output_accuracy: 0.7784 - dept_output_loss: 0.5867 - loss: 0.6019 - val_att_output_accuracy: 0.7964 - val_att_output_loss: 1.1190 - val_dept_output_accuracy: 0.6018 - val_dept_output_loss: 0.8881 - val_loss: 2.0830\n",
            "Epoch 83/100\n",
            "\u001b[1m26/26\u001b[0m \u001b[32m━━━━━━━━━━━━━━━━━━━━\u001b[0m\u001b[37m\u001b[0m \u001b[1m0s\u001b[0m 13ms/step - att_output_accuracy: 1.0000 - att_output_loss: 0.0130 - dept_output_accuracy: 0.7606 - dept_output_loss: 0.5751 - loss: 0.5876 - val_att_output_accuracy: 0.7873 - val_att_output_loss: 1.1310 - val_dept_output_accuracy: 0.5792 - val_dept_output_loss: 0.8976 - val_loss: 2.1073\n",
            "Epoch 84/100\n",
            "\u001b[1m26/26\u001b[0m \u001b[32m━━━━━━━━━━━━━━━━━━━━\u001b[0m\u001b[37m\u001b[0m \u001b[1m0s\u001b[0m 6ms/step - att_output_accuracy: 1.0000 - att_output_loss: 0.0099 - dept_output_accuracy: 0.7911 - dept_output_loss: 0.5474 - loss: 0.5575 - val_att_output_accuracy: 0.8054 - val_att_output_loss: 1.1542 - val_dept_output_accuracy: 0.6063 - val_dept_output_loss: 0.9058 - val_loss: 2.1394\n",
            "Epoch 85/100\n",
            "\u001b[1m26/26\u001b[0m \u001b[32m━━━━━━━━━━━━━━━━━━━━\u001b[0m\u001b[37m\u001b[0m \u001b[1m0s\u001b[0m 6ms/step - att_output_accuracy: 1.0000 - att_output_loss: 0.0097 - dept_output_accuracy: 0.7889 - dept_output_loss: 0.5602 - loss: 0.5698 - val_att_output_accuracy: 0.8054 - val_att_output_loss: 1.1913 - val_dept_output_accuracy: 0.6244 - val_dept_output_loss: 0.9024 - val_loss: 2.1801\n",
            "Epoch 86/100\n",
            "\u001b[1m26/26\u001b[0m \u001b[32m━━━━━━━━━━━━━━━━━━━━\u001b[0m\u001b[37m\u001b[0m \u001b[1m0s\u001b[0m 6ms/step - att_output_accuracy: 1.0000 - att_output_loss: 0.0097 - dept_output_accuracy: 0.7736 - dept_output_loss: 0.5762 - loss: 0.5850 - val_att_output_accuracy: 0.7964 - val_att_output_loss: 1.2099 - val_dept_output_accuracy: 0.5430 - val_dept_output_loss: 0.8995 - val_loss: 2.1973\n",
            "Epoch 87/100\n",
            "\u001b[1m26/26\u001b[0m \u001b[32m━━━━━━━━━━━━━━━━━━━━\u001b[0m\u001b[37m\u001b[0m \u001b[1m0s\u001b[0m 6ms/step - att_output_accuracy: 1.0000 - att_output_loss: 0.0081 - dept_output_accuracy: 0.7914 - dept_output_loss: 0.5664 - loss: 0.5737 - val_att_output_accuracy: 0.7964 - val_att_output_loss: 1.2071 - val_dept_output_accuracy: 0.5249 - val_dept_output_loss: 0.9018 - val_loss: 2.1938\n",
            "Epoch 88/100\n",
            "\u001b[1m26/26\u001b[0m \u001b[32m━━━━━━━━━━━━━━━━━━━━\u001b[0m\u001b[37m\u001b[0m \u001b[1m0s\u001b[0m 7ms/step - att_output_accuracy: 1.0000 - att_output_loss: 0.0074 - dept_output_accuracy: 0.8120 - dept_output_loss: 0.5478 - loss: 0.5558 - val_att_output_accuracy: 0.8054 - val_att_output_loss: 1.2333 - val_dept_output_accuracy: 0.5973 - val_dept_output_loss: 0.9052 - val_loss: 2.2292\n",
            "Epoch 89/100\n",
            "\u001b[1m26/26\u001b[0m \u001b[32m━━━━━━━━━━━━━━━━━━━━\u001b[0m\u001b[37m\u001b[0m \u001b[1m0s\u001b[0m 6ms/step - att_output_accuracy: 1.0000 - att_output_loss: 0.0082 - dept_output_accuracy: 0.8002 - dept_output_loss: 0.5286 - loss: 0.5371 - val_att_output_accuracy: 0.8009 - val_att_output_loss: 1.2350 - val_dept_output_accuracy: 0.5882 - val_dept_output_loss: 0.9132 - val_loss: 2.2375\n",
            "Epoch 90/100\n",
            "\u001b[1m26/26\u001b[0m \u001b[32m━━━━━━━━━━━━━━━━━━━━\u001b[0m\u001b[37m\u001b[0m \u001b[1m0s\u001b[0m 6ms/step - att_output_accuracy: 1.0000 - att_output_loss: 0.0074 - dept_output_accuracy: 0.8187 - dept_output_loss: 0.5469 - loss: 0.5544 - val_att_output_accuracy: 0.8009 - val_att_output_loss: 1.2234 - val_dept_output_accuracy: 0.6063 - val_dept_output_loss: 0.9223 - val_loss: 2.2342\n",
            "Epoch 91/100\n",
            "\u001b[1m26/26\u001b[0m \u001b[32m━━━━━━━━━━━━━━━━━━━━\u001b[0m\u001b[37m\u001b[0m \u001b[1m0s\u001b[0m 6ms/step - att_output_accuracy: 0.9972 - att_output_loss: 0.0125 - dept_output_accuracy: 0.8205 - dept_output_loss: 0.5146 - loss: 0.5276 - val_att_output_accuracy: 0.8009 - val_att_output_loss: 1.2512 - val_dept_output_accuracy: 0.5882 - val_dept_output_loss: 0.9212 - val_loss: 2.2621\n",
            "Epoch 92/100\n",
            "\u001b[1m26/26\u001b[0m \u001b[32m━━━━━━━━━━━━━━━━━━━━\u001b[0m\u001b[37m\u001b[0m \u001b[1m0s\u001b[0m 6ms/step - att_output_accuracy: 1.0000 - att_output_loss: 0.0079 - dept_output_accuracy: 0.8068 - dept_output_loss: 0.5160 - loss: 0.5244 - val_att_output_accuracy: 0.7964 - val_att_output_loss: 1.2651 - val_dept_output_accuracy: 0.5068 - val_dept_output_loss: 0.9333 - val_loss: 2.2873\n",
            "Epoch 93/100\n",
            "\u001b[1m26/26\u001b[0m \u001b[32m━━━━━━━━━━━━━━━━━━━━\u001b[0m\u001b[37m\u001b[0m \u001b[1m0s\u001b[0m 6ms/step - att_output_accuracy: 1.0000 - att_output_loss: 0.0076 - dept_output_accuracy: 0.8379 - dept_output_loss: 0.4914 - loss: 0.4998 - val_att_output_accuracy: 0.7919 - val_att_output_loss: 1.2828 - val_dept_output_accuracy: 0.5928 - val_dept_output_loss: 0.9290 - val_loss: 2.3092\n",
            "Epoch 94/100\n",
            "\u001b[1m26/26\u001b[0m \u001b[32m━━━━━━━━━━━━━━━━━━━━\u001b[0m\u001b[37m\u001b[0m \u001b[1m0s\u001b[0m 10ms/step - att_output_accuracy: 1.0000 - att_output_loss: 0.0053 - dept_output_accuracy: 0.8289 - dept_output_loss: 0.5228 - loss: 0.5286 - val_att_output_accuracy: 0.7964 - val_att_output_loss: 1.2979 - val_dept_output_accuracy: 0.5837 - val_dept_output_loss: 0.9383 - val_loss: 2.3387\n",
            "Epoch 95/100\n",
            "\u001b[1m26/26\u001b[0m \u001b[32m━━━━━━━━━━━━━━━━━━━━\u001b[0m\u001b[37m\u001b[0m \u001b[1m0s\u001b[0m 8ms/step - att_output_accuracy: 1.0000 - att_output_loss: 0.0066 - dept_output_accuracy: 0.8474 - dept_output_loss: 0.4818 - loss: 0.4880 - val_att_output_accuracy: 0.7919 - val_att_output_loss: 1.2978 - val_dept_output_accuracy: 0.5882 - val_dept_output_loss: 0.9419 - val_loss: 2.3371\n",
            "Epoch 96/100\n",
            "\u001b[1m26/26\u001b[0m \u001b[32m━━━━━━━━━━━━━━━━━━━━\u001b[0m\u001b[37m\u001b[0m \u001b[1m0s\u001b[0m 6ms/step - att_output_accuracy: 1.0000 - att_output_loss: 0.0071 - dept_output_accuracy: 0.8276 - dept_output_loss: 0.5207 - loss: 0.5286 - val_att_output_accuracy: 0.7964 - val_att_output_loss: 1.3195 - val_dept_output_accuracy: 0.5882 - val_dept_output_loss: 0.9412 - val_loss: 2.3611\n",
            "Epoch 97/100\n",
            "\u001b[1m26/26\u001b[0m \u001b[32m━━━━━━━━━━━━━━━━━━━━\u001b[0m\u001b[37m\u001b[0m \u001b[1m0s\u001b[0m 7ms/step - att_output_accuracy: 1.0000 - att_output_loss: 0.0049 - dept_output_accuracy: 0.8590 - dept_output_loss: 0.4789 - loss: 0.4840 - val_att_output_accuracy: 0.7964 - val_att_output_loss: 1.3554 - val_dept_output_accuracy: 0.5339 - val_dept_output_loss: 0.9608 - val_loss: 2.4204\n",
            "Epoch 98/100\n",
            "\u001b[1m26/26\u001b[0m \u001b[32m━━━━━━━━━━━━━━━━━━━━\u001b[0m\u001b[37m\u001b[0m \u001b[1m0s\u001b[0m 6ms/step - att_output_accuracy: 1.0000 - att_output_loss: 0.0051 - dept_output_accuracy: 0.8665 - dept_output_loss: 0.4725 - loss: 0.4758 - val_att_output_accuracy: 0.7873 - val_att_output_loss: 1.3617 - val_dept_output_accuracy: 0.5611 - val_dept_output_loss: 0.9389 - val_loss: 2.4096\n",
            "Epoch 99/100\n",
            "\u001b[1m26/26\u001b[0m \u001b[32m━━━━━━━━━━━━━━━━━━━━\u001b[0m\u001b[37m\u001b[0m \u001b[1m0s\u001b[0m 6ms/step - att_output_accuracy: 0.9966 - att_output_loss: 0.0126 - dept_output_accuracy: 0.8615 - dept_output_loss: 0.4874 - loss: 0.4993 - val_att_output_accuracy: 0.7828 - val_att_output_loss: 1.3540 - val_dept_output_accuracy: 0.5701 - val_dept_output_loss: 0.9501 - val_loss: 2.4078\n",
            "Epoch 100/100\n",
            "\u001b[1m26/26\u001b[0m \u001b[32m━━━━━━━━━━━━━━━━━━━━\u001b[0m\u001b[37m\u001b[0m \u001b[1m0s\u001b[0m 7ms/step - att_output_accuracy: 0.9992 - att_output_loss: 0.0069 - dept_output_accuracy: 0.8571 - dept_output_loss: 0.4667 - loss: 0.4728 - val_att_output_accuracy: 0.8009 - val_att_output_loss: 1.3659 - val_dept_output_accuracy: 0.6154 - val_dept_output_loss: 0.9669 - val_loss: 2.4462\n"
          ]
        },
        {
          "data": {
            "text/plain": [
              "<keras.src.callbacks.history.History at 0x7fe6f2c68280>"
            ]
          },
          "execution_count": 40,
          "metadata": {},
          "output_type": "execute_result"
        }
      ],
      "source": [
        "# Train the model\n",
        "model.fit(\n",
        "    X_train_scaled,\n",
        "    {'att_output': y_train_enc_att, 'dept_output': y_train_enc_dept},\n",
        "    epochs=100,\n",
        "    batch_size=35,\n",
        "    validation_split=0.2\n",
        ")\n"
      ]
    },
    {
      "cell_type": "code",
      "execution_count": 41,
      "metadata": {
        "colab": {
          "base_uri": "https://localhost:8080/"
        },
        "id": "VsMoaQlgGc3U",
        "outputId": "1bd4e601-e964-4abc-ad83-aeecf6b696be"
      },
      "outputs": [
        {
          "name": "stdout",
          "output_type": "stream",
          "text": [
            "\u001b[1m12/12\u001b[0m \u001b[32m━━━━━━━━━━━━━━━━━━━━\u001b[0m\u001b[37m\u001b[0m \u001b[1m0s\u001b[0m 5ms/step - att_output_accuracy: 0.8407 - att_output_loss: 1.0468 - dept_output_accuracy: 0.5776 - dept_output_loss: 1.0112 - loss: 2.0608 \n"
          ]
        },
        {
          "data": {
            "text/plain": [
              "[2.0276010036468506,\n",
              " 1.036394715309143,\n",
              " 0.9726681709289551,\n",
              " 0.845108687877655,\n",
              " 0.595108687877655]"
            ]
          },
          "execution_count": 41,
          "metadata": {},
          "output_type": "execute_result"
        }
      ],
      "source": [
        "# Evaluate the model with the testing data\n",
        "test_results = model.evaluate(X_test_scaled, {'att_output': y_test_enc_att, 'dept_output': y_test_enc_dept})\n",
        "test_results\n"
      ]
    },
    {
      "cell_type": "code",
      "execution_count": 42,
      "metadata": {
        "colab": {
          "base_uri": "https://localhost:8080/"
        },
        "id": "ZlCtlHi0Vt54",
        "outputId": "bc21ef3e-80c2-4b38-9c29-79515bc23dec"
      },
      "outputs": [
        {
          "name": "stdout",
          "output_type": "stream",
          "text": [
            "Department prediction accuracy 0.595108687877655\n",
            "Attrition prediction accuracy 0.845108687877655\n"
          ]
        }
      ],
      "source": [
        "# Print the accuracy for both department and attrition\n",
        "#print(f'Department predictions accuracy: {dept_output}')\n",
        "accuracy_dept = test_results[4]\n",
        "print(f\"Department prediction accuracy {accuracy_dept}\")\n",
        "\n",
        "accuracy_att = test_results[3]\n",
        "print(f\"Attrition prediction accuracy {accuracy_att}\")"
      ]
    },
    {
      "cell_type": "markdown",
      "metadata": {
        "id": "eGSyfsZfWOQM"
      },
      "source": [
        "# Summary\n",
        "\n",
        "In the provided space below, briefly answer the following questions.\n",
        "\n",
        "1. Is accuracy the best metric to use on this data? Why or why not?\n",
        "\n",
        "2. What activation functions did you choose for your output layers, and why?\n",
        "\n",
        "3. Can you name a few ways that this model might be improved?"
      ]
    },
    {
      "cell_type": "markdown",
      "metadata": {
        "id": "pi9SLpFnWvbF"
      },
      "source": [
        "YOUR ANSWERS HERE\n",
        "\n",
        "1.  Accuracy may not be the best metric on this data as both the attrition and department targets are unbalanced.  Since attrition is binary, AUC-ROC may be a better measure.  Precision could also be used as a measurement for attrition since we are trying to predict if employees will leave the company.  For understanding if employees may be better suited for a different department recall may be a better measurement as it measures the ability of the model to find the relevant cases (true positives). \n",
        "2.  For the attrition output layer, the 'sigmoid' activation function was used beacause the attrition target was binary and I wanted a binary out, which would be achieved through the 'sigmoid' function.  'Softmax' activation function was used for department because there were three targets associated with department and the output was mutually exclusive - making 'softmax' the optimal activiation function for department. \n",
        "3.  The model might be improved by adding more layers, more neurons, or more epochs.  Additionally, adding more data (if possible) could be helpful in improving model performance."
      ]
    },
    {
      "cell_type": "markdown",
      "metadata": {
        "id": "g_6KMGfwmlV-"
      },
      "source": []
    }
  ],
  "metadata": {
    "colab": {
      "provenance": []
    },
    "kernelspec": {
      "display_name": "dev",
      "language": "python",
      "name": "python3"
    },
    "language_info": {
      "codemirror_mode": {
        "name": "ipython",
        "version": 3
      },
      "file_extension": ".py",
      "mimetype": "text/x-python",
      "name": "python",
      "nbconvert_exporter": "python",
      "pygments_lexer": "ipython3",
      "version": "3.10.14"
    }
  },
  "nbformat": 4,
  "nbformat_minor": 0
}
