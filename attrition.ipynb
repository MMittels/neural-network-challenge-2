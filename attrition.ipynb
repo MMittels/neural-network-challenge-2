{
  "cells": [
    {
      "cell_type": "markdown",
      "metadata": {
        "id": "alIIEHibGc3M"
      },
      "source": [
        "## Part 1: Preprocessing"
      ]
    },
    {
      "cell_type": "code",
      "execution_count": 1,
      "metadata": {
        "colab": {
          "base_uri": "https://localhost:8080/",
          "height": 325
        },
        "id": "6eDUJ4NtGc3P",
        "outputId": "c9f46cf5-0892-4a41-fea9-7ca74ec48e0c"
      },
      "outputs": [
        {
          "name": "stderr",
          "output_type": "stream",
          "text": [
            "2025-01-12 16:18:25.694022: I tensorflow/core/platform/cpu_feature_guard.cc:210] This TensorFlow binary is optimized to use available CPU instructions in performance-critical operations.\n",
            "To enable the following instructions: AVX2 FMA, in other operations, rebuild TensorFlow with the appropriate compiler flags.\n"
          ]
        },
        {
          "data": {
            "text/html": [
              "<div>\n",
              "<style scoped>\n",
              "    .dataframe tbody tr th:only-of-type {\n",
              "        vertical-align: middle;\n",
              "    }\n",
              "\n",
              "    .dataframe tbody tr th {\n",
              "        vertical-align: top;\n",
              "    }\n",
              "\n",
              "    .dataframe thead th {\n",
              "        text-align: right;\n",
              "    }\n",
              "</style>\n",
              "<table border=\"1\" class=\"dataframe\">\n",
              "  <thead>\n",
              "    <tr style=\"text-align: right;\">\n",
              "      <th></th>\n",
              "      <th>Age</th>\n",
              "      <th>Attrition</th>\n",
              "      <th>BusinessTravel</th>\n",
              "      <th>Department</th>\n",
              "      <th>DistanceFromHome</th>\n",
              "      <th>Education</th>\n",
              "      <th>EducationField</th>\n",
              "      <th>EnvironmentSatisfaction</th>\n",
              "      <th>HourlyRate</th>\n",
              "      <th>JobInvolvement</th>\n",
              "      <th>...</th>\n",
              "      <th>PerformanceRating</th>\n",
              "      <th>RelationshipSatisfaction</th>\n",
              "      <th>StockOptionLevel</th>\n",
              "      <th>TotalWorkingYears</th>\n",
              "      <th>TrainingTimesLastYear</th>\n",
              "      <th>WorkLifeBalance</th>\n",
              "      <th>YearsAtCompany</th>\n",
              "      <th>YearsInCurrentRole</th>\n",
              "      <th>YearsSinceLastPromotion</th>\n",
              "      <th>YearsWithCurrManager</th>\n",
              "    </tr>\n",
              "  </thead>\n",
              "  <tbody>\n",
              "    <tr>\n",
              "      <th>0</th>\n",
              "      <td>41</td>\n",
              "      <td>Yes</td>\n",
              "      <td>Travel_Rarely</td>\n",
              "      <td>Sales</td>\n",
              "      <td>1</td>\n",
              "      <td>2</td>\n",
              "      <td>Life Sciences</td>\n",
              "      <td>2</td>\n",
              "      <td>94</td>\n",
              "      <td>3</td>\n",
              "      <td>...</td>\n",
              "      <td>3</td>\n",
              "      <td>1</td>\n",
              "      <td>0</td>\n",
              "      <td>8</td>\n",
              "      <td>0</td>\n",
              "      <td>1</td>\n",
              "      <td>6</td>\n",
              "      <td>4</td>\n",
              "      <td>0</td>\n",
              "      <td>5</td>\n",
              "    </tr>\n",
              "    <tr>\n",
              "      <th>1</th>\n",
              "      <td>49</td>\n",
              "      <td>No</td>\n",
              "      <td>Travel_Frequently</td>\n",
              "      <td>Research &amp; Development</td>\n",
              "      <td>8</td>\n",
              "      <td>1</td>\n",
              "      <td>Life Sciences</td>\n",
              "      <td>3</td>\n",
              "      <td>61</td>\n",
              "      <td>2</td>\n",
              "      <td>...</td>\n",
              "      <td>4</td>\n",
              "      <td>4</td>\n",
              "      <td>1</td>\n",
              "      <td>10</td>\n",
              "      <td>3</td>\n",
              "      <td>3</td>\n",
              "      <td>10</td>\n",
              "      <td>7</td>\n",
              "      <td>1</td>\n",
              "      <td>7</td>\n",
              "    </tr>\n",
              "    <tr>\n",
              "      <th>2</th>\n",
              "      <td>37</td>\n",
              "      <td>Yes</td>\n",
              "      <td>Travel_Rarely</td>\n",
              "      <td>Research &amp; Development</td>\n",
              "      <td>2</td>\n",
              "      <td>2</td>\n",
              "      <td>Other</td>\n",
              "      <td>4</td>\n",
              "      <td>92</td>\n",
              "      <td>2</td>\n",
              "      <td>...</td>\n",
              "      <td>3</td>\n",
              "      <td>2</td>\n",
              "      <td>0</td>\n",
              "      <td>7</td>\n",
              "      <td>3</td>\n",
              "      <td>3</td>\n",
              "      <td>0</td>\n",
              "      <td>0</td>\n",
              "      <td>0</td>\n",
              "      <td>0</td>\n",
              "    </tr>\n",
              "    <tr>\n",
              "      <th>3</th>\n",
              "      <td>33</td>\n",
              "      <td>No</td>\n",
              "      <td>Travel_Frequently</td>\n",
              "      <td>Research &amp; Development</td>\n",
              "      <td>3</td>\n",
              "      <td>4</td>\n",
              "      <td>Life Sciences</td>\n",
              "      <td>4</td>\n",
              "      <td>56</td>\n",
              "      <td>3</td>\n",
              "      <td>...</td>\n",
              "      <td>3</td>\n",
              "      <td>3</td>\n",
              "      <td>0</td>\n",
              "      <td>8</td>\n",
              "      <td>3</td>\n",
              "      <td>3</td>\n",
              "      <td>8</td>\n",
              "      <td>7</td>\n",
              "      <td>3</td>\n",
              "      <td>0</td>\n",
              "    </tr>\n",
              "    <tr>\n",
              "      <th>4</th>\n",
              "      <td>27</td>\n",
              "      <td>No</td>\n",
              "      <td>Travel_Rarely</td>\n",
              "      <td>Research &amp; Development</td>\n",
              "      <td>2</td>\n",
              "      <td>1</td>\n",
              "      <td>Medical</td>\n",
              "      <td>1</td>\n",
              "      <td>40</td>\n",
              "      <td>3</td>\n",
              "      <td>...</td>\n",
              "      <td>3</td>\n",
              "      <td>4</td>\n",
              "      <td>1</td>\n",
              "      <td>6</td>\n",
              "      <td>3</td>\n",
              "      <td>3</td>\n",
              "      <td>2</td>\n",
              "      <td>2</td>\n",
              "      <td>2</td>\n",
              "      <td>2</td>\n",
              "    </tr>\n",
              "  </tbody>\n",
              "</table>\n",
              "<p>5 rows × 27 columns</p>\n",
              "</div>"
            ],
            "text/plain": [
              "   Age Attrition     BusinessTravel              Department  DistanceFromHome  \\\n",
              "0   41       Yes      Travel_Rarely                   Sales                 1   \n",
              "1   49        No  Travel_Frequently  Research & Development                 8   \n",
              "2   37       Yes      Travel_Rarely  Research & Development                 2   \n",
              "3   33        No  Travel_Frequently  Research & Development                 3   \n",
              "4   27        No      Travel_Rarely  Research & Development                 2   \n",
              "\n",
              "   Education EducationField  EnvironmentSatisfaction  HourlyRate  \\\n",
              "0          2  Life Sciences                        2          94   \n",
              "1          1  Life Sciences                        3          61   \n",
              "2          2          Other                        4          92   \n",
              "3          4  Life Sciences                        4          56   \n",
              "4          1        Medical                        1          40   \n",
              "\n",
              "   JobInvolvement  ...  PerformanceRating RelationshipSatisfaction  \\\n",
              "0               3  ...                  3                        1   \n",
              "1               2  ...                  4                        4   \n",
              "2               2  ...                  3                        2   \n",
              "3               3  ...                  3                        3   \n",
              "4               3  ...                  3                        4   \n",
              "\n",
              "   StockOptionLevel TotalWorkingYears  TrainingTimesLastYear WorkLifeBalance  \\\n",
              "0                 0                 8                      0               1   \n",
              "1                 1                10                      3               3   \n",
              "2                 0                 7                      3               3   \n",
              "3                 0                 8                      3               3   \n",
              "4                 1                 6                      3               3   \n",
              "\n",
              "   YearsAtCompany  YearsInCurrentRole  YearsSinceLastPromotion  \\\n",
              "0               6                   4                        0   \n",
              "1              10                   7                        1   \n",
              "2               0                   0                        0   \n",
              "3               8                   7                        3   \n",
              "4               2                   2                        2   \n",
              "\n",
              "   YearsWithCurrManager  \n",
              "0                     5  \n",
              "1                     7  \n",
              "2                     0  \n",
              "3                     0  \n",
              "4                     2  \n",
              "\n",
              "[5 rows x 27 columns]"
            ]
          },
          "execution_count": 1,
          "metadata": {},
          "output_type": "execute_result"
        }
      ],
      "source": [
        "# Import our dependencies\n",
        "from sklearn.model_selection import train_test_split\n",
        "from sklearn.preprocessing import StandardScaler\n",
        "import pandas as pd\n",
        "import numpy as np\n",
        "from tensorflow.keras.models import Model\n",
        "from tensorflow.keras import layers\n",
        "\n",
        "#  Import and read the attrition data\n",
        "attrition_df = pd.read_csv('https://static.bc-edx.com/ai/ail-v-1-0/m19/lms/datasets/attrition.csv')\n",
        "attrition_df.head()"
      ]
    },
    {
      "cell_type": "code",
      "execution_count": 2,
      "metadata": {
        "colab": {
          "base_uri": "https://localhost:8080/",
          "height": 931
        },
        "id": "g22aQSY4Gc3Q",
        "outputId": "2d6403c9-d353-417d-eac8-eb5c6cc33df6"
      },
      "outputs": [
        {
          "data": {
            "text/plain": [
              "Age                         43\n",
              "Attrition                    2\n",
              "BusinessTravel               3\n",
              "Department                   3\n",
              "DistanceFromHome            29\n",
              "Education                    5\n",
              "EducationField               6\n",
              "EnvironmentSatisfaction      4\n",
              "HourlyRate                  71\n",
              "JobInvolvement               4\n",
              "JobLevel                     5\n",
              "JobRole                      9\n",
              "JobSatisfaction              4\n",
              "MaritalStatus                3\n",
              "NumCompaniesWorked          10\n",
              "OverTime                     2\n",
              "PercentSalaryHike           15\n",
              "PerformanceRating            2\n",
              "RelationshipSatisfaction     4\n",
              "StockOptionLevel             4\n",
              "TotalWorkingYears           40\n",
              "TrainingTimesLastYear        7\n",
              "WorkLifeBalance              4\n",
              "YearsAtCompany              37\n",
              "YearsInCurrentRole          19\n",
              "YearsSinceLastPromotion     16\n",
              "YearsWithCurrManager        18\n",
              "dtype: int64"
            ]
          },
          "execution_count": 2,
          "metadata": {},
          "output_type": "execute_result"
        }
      ],
      "source": [
        "# Determine the number of unique values in each column.\n",
        "attrition_df.nunique()"
      ]
    },
    {
      "cell_type": "code",
      "execution_count": 3,
      "metadata": {
        "id": "50vMgBEnJbfM"
      },
      "outputs": [],
      "source": [
        "# Create y_df with the Attrition and Department columns\n",
        "\n",
        "y_df = attrition_df[['Attrition', 'Department']]  # Targets\n"
      ]
    },
    {
      "cell_type": "code",
      "execution_count": 4,
      "metadata": {
        "colab": {
          "base_uri": "https://localhost:8080/",
          "height": 398
        },
        "id": "Virka0zLGc3R",
        "outputId": "8751ca90-aec8-4d38-c74e-df3868cfa63a"
      },
      "outputs": [
        {
          "data": {
            "text/plain": [
              "Age                        int64\n",
              "DistanceFromHome           int64\n",
              "HourlyRate                 int64\n",
              "JobSatisfaction            int64\n",
              "NumCompaniesWorked         int64\n",
              "PercentSalaryHike          int64\n",
              "PerformanceRating          int64\n",
              "WorkLifeBalance            int64\n",
              "YearsAtCompany             int64\n",
              "YearsSinceLastPromotion    int64\n",
              "dtype: object"
            ]
          },
          "execution_count": 4,
          "metadata": {},
          "output_type": "execute_result"
        }
      ],
      "source": [
        "# Create a list of at least 10 column names to use as X data\n",
        "\n",
        "feature_cat = ['Age', 'DistanceFromHome','HourlyRate','JobSatisfaction','NumCompaniesWorked','PercentSalaryHike','PerformanceRating','WorkLifeBalance','YearsAtCompany','YearsSinceLastPromotion']  # Features\n",
        "\n",
        "# Create X_df using your selected columns\n",
        "X_df = attrition_df[feature_cat]\n",
        "\n",
        "# Show the data types for X_df\n",
        "X_df.dtypes\n"
      ]
    },
    {
      "cell_type": "code",
      "execution_count": 5,
      "metadata": {
        "id": "KaJfdOGUMHMR"
      },
      "outputs": [],
      "source": [
        "# Split the data into training and testing sets\n",
        "from sklearn.model_selection import train_test_split\n",
        "\n",
        "X_train, X_test, y_train, y_test = train_test_split(X_df, y_df, random_state=78)"
      ]
    },
    {
      "cell_type": "code",
      "execution_count": 67,
      "metadata": {
        "colab": {
          "base_uri": "https://localhost:8080/"
        },
        "id": "NYubUJqiLCSp",
        "outputId": "53f31721-571c-4c94-d13e-25a715749593"
      },
      "outputs": [],
      "source": [
        "# Convert your X data to numeric data types however you see fit\n",
        "# Add new code cells as necessary\n",
        "# NOT NEEDED - ALL FEATURES NUMERIC"
      ]
    },
    {
      "cell_type": "code",
      "execution_count": 6,
      "metadata": {
        "id": "EWA-aIA5Gc3T"
      },
      "outputs": [],
      "source": [
        "# Create a StandardScaler\n",
        "scaler = StandardScaler()\n",
        "\n",
        "# Fit the StandardScaler to the training data\n",
        "\n",
        "X_scaler = scaler.fit(X_train)\n",
        "# Scale the training and testing data\n",
        "\n",
        "X_train_scaled = X_scaler.transform(X_train)\n",
        "X_test_scaled = X_scaler.transform(X_test)"
      ]
    },
    {
      "cell_type": "code",
      "execution_count": 7,
      "metadata": {
        "colab": {
          "base_uri": "https://localhost:8080/"
        },
        "id": "-z0Mky8vQSz4",
        "outputId": "da7420e8-585f-4510-9454-e553569e85d1"
      },
      "outputs": [
        {
          "data": {
            "text/plain": [
              "array([[0., 1., 0.],\n",
              "       [0., 1., 0.],\n",
              "       [0., 1., 0.],\n",
              "       ...,\n",
              "       [0., 1., 0.],\n",
              "       [0., 1., 0.],\n",
              "       [0., 0., 1.]])"
            ]
          },
          "execution_count": 7,
          "metadata": {},
          "output_type": "execute_result"
        }
      ],
      "source": [
        "from sklearn.preprocessing import OneHotEncoder\n",
        "# Create a OneHotEncoder for the Department column\n",
        "enc = OneHotEncoder(sparse_output=False)\n",
        "\n",
        "\n",
        "# Fit the encoder to the training data\n",
        "\n",
        "encode_dept = enc.fit(y_train[['Department']])\n",
        "\n",
        "\n",
        "# Create two new variables by applying the encoder\n",
        "# to the training and testing data\n",
        "\n",
        "y_train_enc_dept = enc.transform(y_train[['Department']])\n",
        "y_test_enc_dept = enc.transform(y_test[['Department']])\n",
        "\n",
        "y_train_enc_dept\n",
        "y_test_enc_dept\n"
      ]
    },
    {
      "cell_type": "code",
      "execution_count": 8,
      "metadata": {
        "colab": {
          "base_uri": "https://localhost:8080/"
        },
        "id": "-G4DSpvFRrk4",
        "outputId": "cd84d446-ce15-416c-a4a1-bc918c3cfe62"
      },
      "outputs": [],
      "source": [
        "# Create a OneHotEncoder for the Attrition column\n",
        "enc = OneHotEncoder(sparse_output=False)\n",
        "\n",
        "# Fit the encoder to the training data\n",
        "encode_att = enc.fit(y_train[['Attrition']])\n",
        "\n",
        "# Create two new variables by applying the encoder\n",
        "# to the training and testing data\n",
        "y_train_enc_att = enc.transform(y_train[['Attrition']])\n",
        "y_test_enc_att = enc.transform(y_test[['Attrition']])\n"
      ]
    },
    {
      "cell_type": "markdown",
      "metadata": {
        "id": "ykNmu_WWGc3T"
      },
      "source": [
        "## Create, Compile, and Train the Model"
      ]
    },
    {
      "cell_type": "code",
      "execution_count": 9,
      "metadata": {
        "id": "WUptZqmSGc3T"
      },
      "outputs": [],
      "source": [
        "# Find the number of columns in the X training data\n",
        "number_input_features = len(X_train_scaled[0])\n",
        "\n",
        "# Create the input layer\n",
        "input_layer = layers.Input(shape=(number_input_features,))\n",
        "\n",
        "# Create at least two shared layers\n",
        "shared1 = layers.Dense(64, activation='relu')(input_layer)\n",
        "shared2 = layers.Dense(128, activation='relu')(shared1)\n"
      ]
    },
    {
      "cell_type": "code",
      "execution_count": 10,
      "metadata": {
        "id": "JukjTm2yTEqd"
      },
      "outputs": [],
      "source": [
        "# Create a branch for Department\n",
        "# with a hidden layer and an output layer\n",
        "\n",
        "# Create the hidden layer\n",
        "dept_hidden = layers.Dense(32, activation='softmax', name='dept_layer')(shared2)\n",
        "\n",
        "# Create the output layer\n",
        "\n",
        "dept_output = layers.Dense(3, activation='softmax', name='dept_output')(dept_hidden)\n",
        "\n"
      ]
    },
    {
      "cell_type": "code",
      "execution_count": 11,
      "metadata": {
        "id": "9OqhUiOJUBkR"
      },
      "outputs": [],
      "source": [
        "# Create a branch for Attrition\n",
        "# with a hidden layer and an output layer\n",
        "\n",
        "# Create the hidden layer\n",
        "att_hidden = layers.Dense(32, activation='relu', name='att_layer')(shared2)\n",
        "\n",
        "\n",
        "# Create the output layer\n",
        "att_output = layers.Dense(2, activation='sigmoid', name='att_output')(att_hidden)\n"
      ]
    },
    {
      "cell_type": "code",
      "execution_count": 12,
      "metadata": {
        "colab": {
          "base_uri": "https://localhost:8080/",
          "height": 380
        },
        "id": "wRXx3WpLgyF-",
        "outputId": "daa9f0b5-2461-4390-cfde-f9907a9d2750"
      },
      "outputs": [
        {
          "data": {
            "text/html": [
              "<pre style=\"white-space:pre;overflow-x:auto;line-height:normal;font-family:Menlo,'DejaVu Sans Mono',consolas,'Courier New',monospace\"><span style=\"font-weight: bold\">Model: \"functional\"</span>\n",
              "</pre>\n"
            ],
            "text/plain": [
              "\u001b[1mModel: \"functional\"\u001b[0m\n"
            ]
          },
          "metadata": {},
          "output_type": "display_data"
        },
        {
          "data": {
            "text/html": [
              "<pre style=\"white-space:pre;overflow-x:auto;line-height:normal;font-family:Menlo,'DejaVu Sans Mono',consolas,'Courier New',monospace\">┏━━━━━━━━━━━━━━━━━━━━━┳━━━━━━━━━━━━━━━━━━━┳━━━━━━━━━━━━┳━━━━━━━━━━━━━━━━━━━┓\n",
              "┃<span style=\"font-weight: bold\"> Layer (type)        </span>┃<span style=\"font-weight: bold\"> Output Shape      </span>┃<span style=\"font-weight: bold\">    Param # </span>┃<span style=\"font-weight: bold\"> Connected to      </span>┃\n",
              "┡━━━━━━━━━━━━━━━━━━━━━╇━━━━━━━━━━━━━━━━━━━╇━━━━━━━━━━━━╇━━━━━━━━━━━━━━━━━━━┩\n",
              "│ input_layer         │ (<span style=\"color: #00d7ff; text-decoration-color: #00d7ff\">None</span>, <span style=\"color: #00af00; text-decoration-color: #00af00\">10</span>)        │          <span style=\"color: #00af00; text-decoration-color: #00af00\">0</span> │ -                 │\n",
              "│ (<span style=\"color: #0087ff; text-decoration-color: #0087ff\">InputLayer</span>)        │                   │            │                   │\n",
              "├─────────────────────┼───────────────────┼────────────┼───────────────────┤\n",
              "│ dense (<span style=\"color: #0087ff; text-decoration-color: #0087ff\">Dense</span>)       │ (<span style=\"color: #00d7ff; text-decoration-color: #00d7ff\">None</span>, <span style=\"color: #00af00; text-decoration-color: #00af00\">64</span>)        │        <span style=\"color: #00af00; text-decoration-color: #00af00\">704</span> │ input_layer[<span style=\"color: #00af00; text-decoration-color: #00af00\">0</span>][<span style=\"color: #00af00; text-decoration-color: #00af00\">0</span>] │\n",
              "├─────────────────────┼───────────────────┼────────────┼───────────────────┤\n",
              "│ dense_1 (<span style=\"color: #0087ff; text-decoration-color: #0087ff\">Dense</span>)     │ (<span style=\"color: #00d7ff; text-decoration-color: #00d7ff\">None</span>, <span style=\"color: #00af00; text-decoration-color: #00af00\">128</span>)       │      <span style=\"color: #00af00; text-decoration-color: #00af00\">8,320</span> │ dense[<span style=\"color: #00af00; text-decoration-color: #00af00\">0</span>][<span style=\"color: #00af00; text-decoration-color: #00af00\">0</span>]       │\n",
              "├─────────────────────┼───────────────────┼────────────┼───────────────────┤\n",
              "│ att_layer (<span style=\"color: #0087ff; text-decoration-color: #0087ff\">Dense</span>)   │ (<span style=\"color: #00d7ff; text-decoration-color: #00d7ff\">None</span>, <span style=\"color: #00af00; text-decoration-color: #00af00\">32</span>)        │      <span style=\"color: #00af00; text-decoration-color: #00af00\">4,128</span> │ dense_1[<span style=\"color: #00af00; text-decoration-color: #00af00\">0</span>][<span style=\"color: #00af00; text-decoration-color: #00af00\">0</span>]     │\n",
              "├─────────────────────┼───────────────────┼────────────┼───────────────────┤\n",
              "│ dept_layer (<span style=\"color: #0087ff; text-decoration-color: #0087ff\">Dense</span>)  │ (<span style=\"color: #00d7ff; text-decoration-color: #00d7ff\">None</span>, <span style=\"color: #00af00; text-decoration-color: #00af00\">32</span>)        │      <span style=\"color: #00af00; text-decoration-color: #00af00\">4,128</span> │ dense_1[<span style=\"color: #00af00; text-decoration-color: #00af00\">0</span>][<span style=\"color: #00af00; text-decoration-color: #00af00\">0</span>]     │\n",
              "├─────────────────────┼───────────────────┼────────────┼───────────────────┤\n",
              "│ att_output (<span style=\"color: #0087ff; text-decoration-color: #0087ff\">Dense</span>)  │ (<span style=\"color: #00d7ff; text-decoration-color: #00d7ff\">None</span>, <span style=\"color: #00af00; text-decoration-color: #00af00\">2</span>)         │         <span style=\"color: #00af00; text-decoration-color: #00af00\">66</span> │ att_layer[<span style=\"color: #00af00; text-decoration-color: #00af00\">0</span>][<span style=\"color: #00af00; text-decoration-color: #00af00\">0</span>]   │\n",
              "├─────────────────────┼───────────────────┼────────────┼───────────────────┤\n",
              "│ dept_output (<span style=\"color: #0087ff; text-decoration-color: #0087ff\">Dense</span>) │ (<span style=\"color: #00d7ff; text-decoration-color: #00d7ff\">None</span>, <span style=\"color: #00af00; text-decoration-color: #00af00\">3</span>)         │         <span style=\"color: #00af00; text-decoration-color: #00af00\">99</span> │ dept_layer[<span style=\"color: #00af00; text-decoration-color: #00af00\">0</span>][<span style=\"color: #00af00; text-decoration-color: #00af00\">0</span>]  │\n",
              "└─────────────────────┴───────────────────┴────────────┴───────────────────┘\n",
              "</pre>\n"
            ],
            "text/plain": [
              "┏━━━━━━━━━━━━━━━━━━━━━┳━━━━━━━━━━━━━━━━━━━┳━━━━━━━━━━━━┳━━━━━━━━━━━━━━━━━━━┓\n",
              "┃\u001b[1m \u001b[0m\u001b[1mLayer (type)       \u001b[0m\u001b[1m \u001b[0m┃\u001b[1m \u001b[0m\u001b[1mOutput Shape     \u001b[0m\u001b[1m \u001b[0m┃\u001b[1m \u001b[0m\u001b[1m   Param #\u001b[0m\u001b[1m \u001b[0m┃\u001b[1m \u001b[0m\u001b[1mConnected to     \u001b[0m\u001b[1m \u001b[0m┃\n",
              "┡━━━━━━━━━━━━━━━━━━━━━╇━━━━━━━━━━━━━━━━━━━╇━━━━━━━━━━━━╇━━━━━━━━━━━━━━━━━━━┩\n",
              "│ input_layer         │ (\u001b[38;5;45mNone\u001b[0m, \u001b[38;5;34m10\u001b[0m)        │          \u001b[38;5;34m0\u001b[0m │ -                 │\n",
              "│ (\u001b[38;5;33mInputLayer\u001b[0m)        │                   │            │                   │\n",
              "├─────────────────────┼───────────────────┼────────────┼───────────────────┤\n",
              "│ dense (\u001b[38;5;33mDense\u001b[0m)       │ (\u001b[38;5;45mNone\u001b[0m, \u001b[38;5;34m64\u001b[0m)        │        \u001b[38;5;34m704\u001b[0m │ input_layer[\u001b[38;5;34m0\u001b[0m][\u001b[38;5;34m0\u001b[0m] │\n",
              "├─────────────────────┼───────────────────┼────────────┼───────────────────┤\n",
              "│ dense_1 (\u001b[38;5;33mDense\u001b[0m)     │ (\u001b[38;5;45mNone\u001b[0m, \u001b[38;5;34m128\u001b[0m)       │      \u001b[38;5;34m8,320\u001b[0m │ dense[\u001b[38;5;34m0\u001b[0m][\u001b[38;5;34m0\u001b[0m]       │\n",
              "├─────────────────────┼───────────────────┼────────────┼───────────────────┤\n",
              "│ att_layer (\u001b[38;5;33mDense\u001b[0m)   │ (\u001b[38;5;45mNone\u001b[0m, \u001b[38;5;34m32\u001b[0m)        │      \u001b[38;5;34m4,128\u001b[0m │ dense_1[\u001b[38;5;34m0\u001b[0m][\u001b[38;5;34m0\u001b[0m]     │\n",
              "├─────────────────────┼───────────────────┼────────────┼───────────────────┤\n",
              "│ dept_layer (\u001b[38;5;33mDense\u001b[0m)  │ (\u001b[38;5;45mNone\u001b[0m, \u001b[38;5;34m32\u001b[0m)        │      \u001b[38;5;34m4,128\u001b[0m │ dense_1[\u001b[38;5;34m0\u001b[0m][\u001b[38;5;34m0\u001b[0m]     │\n",
              "├─────────────────────┼───────────────────┼────────────┼───────────────────┤\n",
              "│ att_output (\u001b[38;5;33mDense\u001b[0m)  │ (\u001b[38;5;45mNone\u001b[0m, \u001b[38;5;34m2\u001b[0m)         │         \u001b[38;5;34m66\u001b[0m │ att_layer[\u001b[38;5;34m0\u001b[0m][\u001b[38;5;34m0\u001b[0m]   │\n",
              "├─────────────────────┼───────────────────┼────────────┼───────────────────┤\n",
              "│ dept_output (\u001b[38;5;33mDense\u001b[0m) │ (\u001b[38;5;45mNone\u001b[0m, \u001b[38;5;34m3\u001b[0m)         │         \u001b[38;5;34m99\u001b[0m │ dept_layer[\u001b[38;5;34m0\u001b[0m][\u001b[38;5;34m0\u001b[0m]  │\n",
              "└─────────────────────┴───────────────────┴────────────┴───────────────────┘\n"
            ]
          },
          "metadata": {},
          "output_type": "display_data"
        },
        {
          "data": {
            "text/html": [
              "<pre style=\"white-space:pre;overflow-x:auto;line-height:normal;font-family:Menlo,'DejaVu Sans Mono',consolas,'Courier New',monospace\"><span style=\"font-weight: bold\"> Total params: </span><span style=\"color: #00af00; text-decoration-color: #00af00\">17,445</span> (68.14 KB)\n",
              "</pre>\n"
            ],
            "text/plain": [
              "\u001b[1m Total params: \u001b[0m\u001b[38;5;34m17,445\u001b[0m (68.14 KB)\n"
            ]
          },
          "metadata": {},
          "output_type": "display_data"
        },
        {
          "data": {
            "text/html": [
              "<pre style=\"white-space:pre;overflow-x:auto;line-height:normal;font-family:Menlo,'DejaVu Sans Mono',consolas,'Courier New',monospace\"><span style=\"font-weight: bold\"> Trainable params: </span><span style=\"color: #00af00; text-decoration-color: #00af00\">17,445</span> (68.14 KB)\n",
              "</pre>\n"
            ],
            "text/plain": [
              "\u001b[1m Trainable params: \u001b[0m\u001b[38;5;34m17,445\u001b[0m (68.14 KB)\n"
            ]
          },
          "metadata": {},
          "output_type": "display_data"
        },
        {
          "data": {
            "text/html": [
              "<pre style=\"white-space:pre;overflow-x:auto;line-height:normal;font-family:Menlo,'DejaVu Sans Mono',consolas,'Courier New',monospace\"><span style=\"font-weight: bold\"> Non-trainable params: </span><span style=\"color: #00af00; text-decoration-color: #00af00\">0</span> (0.00 B)\n",
              "</pre>\n"
            ],
            "text/plain": [
              "\u001b[1m Non-trainable params: \u001b[0m\u001b[38;5;34m0\u001b[0m (0.00 B)\n"
            ]
          },
          "metadata": {},
          "output_type": "display_data"
        }
      ],
      "source": [
        "# Create the model\n",
        "model = Model(inputs=input_layer, outputs=[att_output, dept_output])\n",
        "\n",
        "\n",
        "# Compile the model\n",
        "model.compile(optimizer='adam',\n",
        "              loss={'att_output': 'binary_crossentropy', 'dept_output': 'categorical_crossentropy'},\n",
        "              metrics={'att_output': 'accuracy', 'dept_output': 'accuracy'})\n",
        "\n",
        "# Summarize the model\n",
        "model.summary()\n"
      ]
    },
    {
      "cell_type": "code",
      "execution_count": 13,
      "metadata": {
        "colab": {
          "base_uri": "https://localhost:8080/",
          "height": 382
        },
        "id": "c8oGy0dpGc3U",
        "outputId": "59e2e5cb-2a12-455f-f427-9ffac618d706"
      },
      "outputs": [
        {
          "name": "stdout",
          "output_type": "stream",
          "text": [
            "Epoch 1/100\n",
            "\u001b[1m26/26\u001b[0m \u001b[32m━━━━━━━━━━━━━━━━━━━━\u001b[0m\u001b[37m\u001b[0m \u001b[1m3s\u001b[0m 20ms/step - att_output_accuracy: 0.7268 - att_output_loss: 0.6163 - dept_output_accuracy: 0.5221 - dept_output_loss: 1.0742 - loss: 1.6907 - val_att_output_accuracy: 0.8235 - val_att_output_loss: 0.4746 - val_dept_output_accuracy: 0.6606 - val_dept_output_loss: 1.0149 - val_loss: 1.4958\n",
            "Epoch 2/100\n",
            "\u001b[1m26/26\u001b[0m \u001b[32m━━━━━━━━━━━━━━━━━━━━\u001b[0m\u001b[37m\u001b[0m \u001b[1m0s\u001b[0m 6ms/step - att_output_accuracy: 0.8180 - att_output_loss: 0.4955 - dept_output_accuracy: 0.6506 - dept_output_loss: 0.9982 - loss: 1.4936 - val_att_output_accuracy: 0.8235 - val_att_output_loss: 0.4591 - val_dept_output_accuracy: 0.6606 - val_dept_output_loss: 0.9588 - val_loss: 1.4237\n",
            "Epoch 3/100\n",
            "\u001b[1m26/26\u001b[0m \u001b[32m━━━━━━━━━━━━━━━━━━━━\u001b[0m\u001b[37m\u001b[0m \u001b[1m0s\u001b[0m 6ms/step - att_output_accuracy: 0.8385 - att_output_loss: 0.4248 - dept_output_accuracy: 0.6818 - dept_output_loss: 0.9380 - loss: 1.3628 - val_att_output_accuracy: 0.8235 - val_att_output_loss: 0.4530 - val_dept_output_accuracy: 0.6606 - val_dept_output_loss: 0.9233 - val_loss: 1.3799\n",
            "Epoch 4/100\n",
            "\u001b[1m26/26\u001b[0m \u001b[32m━━━━━━━━━━━━━━━━━━━━\u001b[0m\u001b[37m\u001b[0m \u001b[1m0s\u001b[0m 6ms/step - att_output_accuracy: 0.8290 - att_output_loss: 0.4430 - dept_output_accuracy: 0.6586 - dept_output_loss: 0.9119 - loss: 1.3545 - val_att_output_accuracy: 0.8235 - val_att_output_loss: 0.4505 - val_dept_output_accuracy: 0.6606 - val_dept_output_loss: 0.8913 - val_loss: 1.3428\n",
            "Epoch 5/100\n",
            "\u001b[1m26/26\u001b[0m \u001b[32m━━━━━━━━━━━━━━━━━━━━\u001b[0m\u001b[37m\u001b[0m \u001b[1m0s\u001b[0m 6ms/step - att_output_accuracy: 0.8471 - att_output_loss: 0.3990 - dept_output_accuracy: 0.6791 - dept_output_loss: 0.8669 - loss: 1.2660 - val_att_output_accuracy: 0.8235 - val_att_output_loss: 0.4452 - val_dept_output_accuracy: 0.6606 - val_dept_output_loss: 0.8659 - val_loss: 1.3088\n",
            "Epoch 6/100\n",
            "\u001b[1m26/26\u001b[0m \u001b[32m━━━━━━━━━━━━━━━━━━━━\u001b[0m\u001b[37m\u001b[0m \u001b[1m0s\u001b[0m 6ms/step - att_output_accuracy: 0.8339 - att_output_loss: 0.4195 - dept_output_accuracy: 0.6428 - dept_output_loss: 0.8643 - loss: 1.2843 - val_att_output_accuracy: 0.8235 - val_att_output_loss: 0.4447 - val_dept_output_accuracy: 0.6606 - val_dept_output_loss: 0.8502 - val_loss: 1.2886\n",
            "Epoch 7/100\n",
            "\u001b[1m26/26\u001b[0m \u001b[32m━━━━━━━━━━━━━━━━━━━━\u001b[0m\u001b[37m\u001b[0m \u001b[1m0s\u001b[0m 7ms/step - att_output_accuracy: 0.8314 - att_output_loss: 0.4154 - dept_output_accuracy: 0.6834 - dept_output_loss: 0.8307 - loss: 1.2464 - val_att_output_accuracy: 0.8235 - val_att_output_loss: 0.4383 - val_dept_output_accuracy: 0.6606 - val_dept_output_loss: 0.8382 - val_loss: 1.2706\n",
            "Epoch 8/100\n",
            "\u001b[1m26/26\u001b[0m \u001b[32m━━━━━━━━━━━━━━━━━━━━\u001b[0m\u001b[37m\u001b[0m \u001b[1m0s\u001b[0m 6ms/step - att_output_accuracy: 0.8128 - att_output_loss: 0.4237 - dept_output_accuracy: 0.6540 - dept_output_loss: 0.8314 - loss: 1.2558 - val_att_output_accuracy: 0.8235 - val_att_output_loss: 0.4386 - val_dept_output_accuracy: 0.6606 - val_dept_output_loss: 0.8296 - val_loss: 1.2605\n",
            "Epoch 9/100\n",
            "\u001b[1m26/26\u001b[0m \u001b[32m━━━━━━━━━━━━━━━━━━━━\u001b[0m\u001b[37m\u001b[0m \u001b[1m0s\u001b[0m 7ms/step - att_output_accuracy: 0.8269 - att_output_loss: 0.3999 - dept_output_accuracy: 0.6525 - dept_output_loss: 0.8234 - loss: 1.2224 - val_att_output_accuracy: 0.8235 - val_att_output_loss: 0.4338 - val_dept_output_accuracy: 0.6606 - val_dept_output_loss: 0.8229 - val_loss: 1.2484\n",
            "Epoch 10/100\n",
            "\u001b[1m26/26\u001b[0m \u001b[32m━━━━━━━━━━━━━━━━━━━━\u001b[0m\u001b[37m\u001b[0m \u001b[1m0s\u001b[0m 7ms/step - att_output_accuracy: 0.8332 - att_output_loss: 0.3931 - dept_output_accuracy: 0.6510 - dept_output_loss: 0.8216 - loss: 1.2147 - val_att_output_accuracy: 0.8235 - val_att_output_loss: 0.4348 - val_dept_output_accuracy: 0.6606 - val_dept_output_loss: 0.8180 - val_loss: 1.2418\n",
            "Epoch 11/100\n",
            "\u001b[1m26/26\u001b[0m \u001b[32m━━━━━━━━━━━━━━━━━━━━\u001b[0m\u001b[37m\u001b[0m \u001b[1m0s\u001b[0m 6ms/step - att_output_accuracy: 0.8272 - att_output_loss: 0.3817 - dept_output_accuracy: 0.6735 - dept_output_loss: 0.7963 - loss: 1.1785 - val_att_output_accuracy: 0.8235 - val_att_output_loss: 0.4321 - val_dept_output_accuracy: 0.6606 - val_dept_output_loss: 0.8133 - val_loss: 1.2378\n",
            "Epoch 12/100\n",
            "\u001b[1m26/26\u001b[0m \u001b[32m━━━━━━━━━━━━━━━━━━━━\u001b[0m\u001b[37m\u001b[0m \u001b[1m0s\u001b[0m 18ms/step - att_output_accuracy: 0.8335 - att_output_loss: 0.3700 - dept_output_accuracy: 0.6631 - dept_output_loss: 0.8010 - loss: 1.1710 - val_att_output_accuracy: 0.8235 - val_att_output_loss: 0.4231 - val_dept_output_accuracy: 0.6606 - val_dept_output_loss: 0.8092 - val_loss: 1.2213\n",
            "Epoch 13/100\n",
            "\u001b[1m26/26\u001b[0m \u001b[32m━━━━━━━━━━━━━━━━━━━━\u001b[0m\u001b[37m\u001b[0m \u001b[1m0s\u001b[0m 13ms/step - att_output_accuracy: 0.8397 - att_output_loss: 0.3508 - dept_output_accuracy: 0.6802 - dept_output_loss: 0.7809 - loss: 1.1315 - val_att_output_accuracy: 0.8235 - val_att_output_loss: 0.4207 - val_dept_output_accuracy: 0.6606 - val_dept_output_loss: 0.8060 - val_loss: 1.2161\n",
            "Epoch 14/100\n",
            "\u001b[1m26/26\u001b[0m \u001b[32m━━━━━━━━━━━━━━━━━━━━\u001b[0m\u001b[37m\u001b[0m \u001b[1m0s\u001b[0m 7ms/step - att_output_accuracy: 0.8217 - att_output_loss: 0.3860 - dept_output_accuracy: 0.6674 - dept_output_loss: 0.7845 - loss: 1.1706 - val_att_output_accuracy: 0.8235 - val_att_output_loss: 0.4160 - val_dept_output_accuracy: 0.6606 - val_dept_output_loss: 0.8031 - val_loss: 1.2076\n",
            "Epoch 15/100\n",
            "\u001b[1m26/26\u001b[0m \u001b[32m━━━━━━━━━━━━━━━━━━━━\u001b[0m\u001b[37m\u001b[0m \u001b[1m0s\u001b[0m 6ms/step - att_output_accuracy: 0.8131 - att_output_loss: 0.3861 - dept_output_accuracy: 0.6586 - dept_output_loss: 0.7914 - loss: 1.1777 - val_att_output_accuracy: 0.8235 - val_att_output_loss: 0.4217 - val_dept_output_accuracy: 0.6606 - val_dept_output_loss: 0.8007 - val_loss: 1.2076\n",
            "Epoch 16/100\n",
            "\u001b[1m26/26\u001b[0m \u001b[32m━━━━━━━━━━━━━━━━━━━━\u001b[0m\u001b[37m\u001b[0m \u001b[1m0s\u001b[0m 12ms/step - att_output_accuracy: 0.8324 - att_output_loss: 0.3578 - dept_output_accuracy: 0.6626 - dept_output_loss: 0.7913 - loss: 1.1501 - val_att_output_accuracy: 0.8235 - val_att_output_loss: 0.4185 - val_dept_output_accuracy: 0.6606 - val_dept_output_loss: 0.7985 - val_loss: 1.2047\n",
            "Epoch 17/100\n",
            "\u001b[1m26/26\u001b[0m \u001b[32m━━━━━━━━━━━━━━━━━━━━\u001b[0m\u001b[37m\u001b[0m \u001b[1m0s\u001b[0m 13ms/step - att_output_accuracy: 0.8192 - att_output_loss: 0.3668 - dept_output_accuracy: 0.6558 - dept_output_loss: 0.7938 - loss: 1.1611 - val_att_output_accuracy: 0.8235 - val_att_output_loss: 0.4256 - val_dept_output_accuracy: 0.6606 - val_dept_output_loss: 0.7964 - val_loss: 1.2107\n",
            "Epoch 18/100\n",
            "\u001b[1m26/26\u001b[0m \u001b[32m━━━━━━━━━━━━━━━━━━━━\u001b[0m\u001b[37m\u001b[0m \u001b[1m0s\u001b[0m 6ms/step - att_output_accuracy: 0.8330 - att_output_loss: 0.3485 - dept_output_accuracy: 0.6391 - dept_output_loss: 0.8117 - loss: 1.1604 - val_att_output_accuracy: 0.8235 - val_att_output_loss: 0.4205 - val_dept_output_accuracy: 0.6606 - val_dept_output_loss: 0.7945 - val_loss: 1.2019\n",
            "Epoch 19/100\n",
            "\u001b[1m26/26\u001b[0m \u001b[32m━━━━━━━━━━━━━━━━━━━━\u001b[0m\u001b[37m\u001b[0m \u001b[1m0s\u001b[0m 6ms/step - att_output_accuracy: 0.8450 - att_output_loss: 0.3126 - dept_output_accuracy: 0.6983 - dept_output_loss: 0.7541 - loss: 1.0666 - val_att_output_accuracy: 0.8235 - val_att_output_loss: 0.4118 - val_dept_output_accuracy: 0.6606 - val_dept_output_loss: 0.7930 - val_loss: 1.1892\n",
            "Epoch 20/100\n",
            "\u001b[1m26/26\u001b[0m \u001b[32m━━━━━━━━━━━━━━━━━━━━\u001b[0m\u001b[37m\u001b[0m \u001b[1m0s\u001b[0m 8ms/step - att_output_accuracy: 0.8108 - att_output_loss: 0.3567 - dept_output_accuracy: 0.6670 - dept_output_loss: 0.7693 - loss: 1.1246 - val_att_output_accuracy: 0.8054 - val_att_output_loss: 0.4122 - val_dept_output_accuracy: 0.6606 - val_dept_output_loss: 0.7915 - val_loss: 1.1881\n",
            "Epoch 21/100\n",
            "\u001b[1m26/26\u001b[0m \u001b[32m━━━━━━━━━━━━━━━━━━━━\u001b[0m\u001b[37m\u001b[0m \u001b[1m0s\u001b[0m 8ms/step - att_output_accuracy: 0.8397 - att_output_loss: 0.3336 - dept_output_accuracy: 0.6700 - dept_output_loss: 0.7861 - loss: 1.1198 - val_att_output_accuracy: 0.8190 - val_att_output_loss: 0.4161 - val_dept_output_accuracy: 0.6606 - val_dept_output_loss: 0.7907 - val_loss: 1.1913\n",
            "Epoch 22/100\n",
            "\u001b[1m26/26\u001b[0m \u001b[32m━━━━━━━━━━━━━━━━━━━━\u001b[0m\u001b[37m\u001b[0m \u001b[1m1s\u001b[0m 27ms/step - att_output_accuracy: 0.8585 - att_output_loss: 0.3198 - dept_output_accuracy: 0.6834 - dept_output_loss: 0.7601 - loss: 1.0806 - val_att_output_accuracy: 0.8100 - val_att_output_loss: 0.4351 - val_dept_output_accuracy: 0.6606 - val_dept_output_loss: 0.7894 - val_loss: 1.2147\n",
            "Epoch 23/100\n",
            "\u001b[1m26/26\u001b[0m \u001b[32m━━━━━━━━━━━━━━━━━━━━\u001b[0m\u001b[37m\u001b[0m \u001b[1m0s\u001b[0m 8ms/step - att_output_accuracy: 0.8348 - att_output_loss: 0.3347 - dept_output_accuracy: 0.6609 - dept_output_loss: 0.7850 - loss: 1.1195 - val_att_output_accuracy: 0.8054 - val_att_output_loss: 0.4255 - val_dept_output_accuracy: 0.6606 - val_dept_output_loss: 0.7881 - val_loss: 1.2006\n",
            "Epoch 24/100\n",
            "\u001b[1m26/26\u001b[0m \u001b[32m━━━━━━━━━━━━━━━━━━━━\u001b[0m\u001b[37m\u001b[0m \u001b[1m0s\u001b[0m 7ms/step - att_output_accuracy: 0.8495 - att_output_loss: 0.2984 - dept_output_accuracy: 0.6632 - dept_output_loss: 0.7872 - loss: 1.0853 - val_att_output_accuracy: 0.7873 - val_att_output_loss: 0.4157 - val_dept_output_accuracy: 0.6606 - val_dept_output_loss: 0.7871 - val_loss: 1.1853\n",
            "Epoch 25/100\n",
            "\u001b[1m26/26\u001b[0m \u001b[32m━━━━━━━━━━━━━━━━━━━━\u001b[0m\u001b[37m\u001b[0m \u001b[1m0s\u001b[0m 6ms/step - att_output_accuracy: 0.8583 - att_output_loss: 0.3149 - dept_output_accuracy: 0.6756 - dept_output_loss: 0.7565 - loss: 1.0713 - val_att_output_accuracy: 0.8100 - val_att_output_loss: 0.4299 - val_dept_output_accuracy: 0.6606 - val_dept_output_loss: 0.7862 - val_loss: 1.2037\n",
            "Epoch 26/100\n",
            "\u001b[1m26/26\u001b[0m \u001b[32m━━━━━━━━━━━━━━━━━━━━\u001b[0m\u001b[37m\u001b[0m \u001b[1m0s\u001b[0m 10ms/step - att_output_accuracy: 0.8440 - att_output_loss: 0.3169 - dept_output_accuracy: 0.6600 - dept_output_loss: 0.7811 - loss: 1.0990 - val_att_output_accuracy: 0.8054 - val_att_output_loss: 0.4298 - val_dept_output_accuracy: 0.6606 - val_dept_output_loss: 0.7855 - val_loss: 1.2042\n",
            "Epoch 27/100\n",
            "\u001b[1m26/26\u001b[0m \u001b[32m━━━━━━━━━━━━━━━━━━━━\u001b[0m\u001b[37m\u001b[0m \u001b[1m0s\u001b[0m 6ms/step - att_output_accuracy: 0.8600 - att_output_loss: 0.2967 - dept_output_accuracy: 0.6522 - dept_output_loss: 0.7867 - loss: 1.0841 - val_att_output_accuracy: 0.8009 - val_att_output_loss: 0.4321 - val_dept_output_accuracy: 0.6606 - val_dept_output_loss: 0.7847 - val_loss: 1.2064\n",
            "Epoch 28/100\n",
            "\u001b[1m26/26\u001b[0m \u001b[32m━━━━━━━━━━━━━━━━━━━━\u001b[0m\u001b[37m\u001b[0m \u001b[1m0s\u001b[0m 6ms/step - att_output_accuracy: 0.8602 - att_output_loss: 0.2780 - dept_output_accuracy: 0.6865 - dept_output_loss: 0.7461 - loss: 1.0240 - val_att_output_accuracy: 0.8054 - val_att_output_loss: 0.4245 - val_dept_output_accuracy: 0.6606 - val_dept_output_loss: 0.7842 - val_loss: 1.1934\n",
            "Epoch 29/100\n",
            "\u001b[1m26/26\u001b[0m \u001b[32m━━━━━━━━━━━━━━━━━━━━\u001b[0m\u001b[37m\u001b[0m \u001b[1m0s\u001b[0m 6ms/step - att_output_accuracy: 0.8822 - att_output_loss: 0.2468 - dept_output_accuracy: 0.6678 - dept_output_loss: 0.7684 - loss: 1.0142 - val_att_output_accuracy: 0.7873 - val_att_output_loss: 0.4334 - val_dept_output_accuracy: 0.6606 - val_dept_output_loss: 0.7837 - val_loss: 1.1952\n",
            "Epoch 30/100\n",
            "\u001b[1m26/26\u001b[0m \u001b[32m━━━━━━━━━━━━━━━━━━━━\u001b[0m\u001b[37m\u001b[0m \u001b[1m0s\u001b[0m 6ms/step - att_output_accuracy: 0.8724 - att_output_loss: 0.2968 - dept_output_accuracy: 0.6831 - dept_output_loss: 0.7641 - loss: 1.0595 - val_att_output_accuracy: 0.7873 - val_att_output_loss: 0.4386 - val_dept_output_accuracy: 0.6606 - val_dept_output_loss: 0.7831 - val_loss: 1.2056\n",
            "Epoch 31/100\n",
            "\u001b[1m26/26\u001b[0m \u001b[32m━━━━━━━━━━━━━━━━━━━━\u001b[0m\u001b[37m\u001b[0m \u001b[1m0s\u001b[0m 6ms/step - att_output_accuracy: 0.8641 - att_output_loss: 0.2787 - dept_output_accuracy: 0.6524 - dept_output_loss: 0.7900 - loss: 1.0684 - val_att_output_accuracy: 0.7828 - val_att_output_loss: 0.4435 - val_dept_output_accuracy: 0.6606 - val_dept_output_loss: 0.7821 - val_loss: 1.2059\n",
            "Epoch 32/100\n",
            "\u001b[1m26/26\u001b[0m \u001b[32m━━━━━━━━━━━━━━━━━━━━\u001b[0m\u001b[37m\u001b[0m \u001b[1m0s\u001b[0m 6ms/step - att_output_accuracy: 0.8734 - att_output_loss: 0.2710 - dept_output_accuracy: 0.6284 - dept_output_loss: 0.8012 - loss: 1.0723 - val_att_output_accuracy: 0.7873 - val_att_output_loss: 0.4304 - val_dept_output_accuracy: 0.6606 - val_dept_output_loss: 0.7816 - val_loss: 1.1993\n",
            "Epoch 33/100\n",
            "\u001b[1m26/26\u001b[0m \u001b[32m━━━━━━━━━━━━━━━━━━━━\u001b[0m\u001b[37m\u001b[0m \u001b[1m0s\u001b[0m 6ms/step - att_output_accuracy: 0.8619 - att_output_loss: 0.2767 - dept_output_accuracy: 0.6731 - dept_output_loss: 0.7805 - loss: 1.0575 - val_att_output_accuracy: 0.7873 - val_att_output_loss: 0.4691 - val_dept_output_accuracy: 0.6606 - val_dept_output_loss: 0.7814 - val_loss: 1.2321\n",
            "Epoch 34/100\n",
            "\u001b[1m26/26\u001b[0m \u001b[32m━━━━━━━━━━━━━━━━━━━━\u001b[0m\u001b[37m\u001b[0m \u001b[1m1s\u001b[0m 10ms/step - att_output_accuracy: 0.8952 - att_output_loss: 0.2419 - dept_output_accuracy: 0.6890 - dept_output_loss: 0.7327 - loss: 0.9748 - val_att_output_accuracy: 0.8009 - val_att_output_loss: 0.4746 - val_dept_output_accuracy: 0.6606 - val_dept_output_loss: 0.7810 - val_loss: 1.2482\n",
            "Epoch 35/100\n",
            "\u001b[1m26/26\u001b[0m \u001b[32m━━━━━━━━━━━━━━━━━━━━\u001b[0m\u001b[37m\u001b[0m \u001b[1m0s\u001b[0m 6ms/step - att_output_accuracy: 0.8788 - att_output_loss: 0.2452 - dept_output_accuracy: 0.6640 - dept_output_loss: 0.7899 - loss: 1.0357 - val_att_output_accuracy: 0.7919 - val_att_output_loss: 0.4702 - val_dept_output_accuracy: 0.6606 - val_dept_output_loss: 0.7806 - val_loss: 1.2397\n",
            "Epoch 36/100\n",
            "\u001b[1m26/26\u001b[0m \u001b[32m━━━━━━━━━━━━━━━━━━━━\u001b[0m\u001b[37m\u001b[0m \u001b[1m0s\u001b[0m 6ms/step - att_output_accuracy: 0.8847 - att_output_loss: 0.2387 - dept_output_accuracy: 0.6744 - dept_output_loss: 0.7541 - loss: 0.9930 - val_att_output_accuracy: 0.7873 - val_att_output_loss: 0.4946 - val_dept_output_accuracy: 0.6606 - val_dept_output_loss: 0.7803 - val_loss: 1.2673\n",
            "Epoch 37/100\n",
            "\u001b[1m26/26\u001b[0m \u001b[32m━━━━━━━━━━━━━━━━━━━━\u001b[0m\u001b[37m\u001b[0m \u001b[1m0s\u001b[0m 6ms/step - att_output_accuracy: 0.9055 - att_output_loss: 0.2058 - dept_output_accuracy: 0.6803 - dept_output_loss: 0.7605 - loss: 0.9663 - val_att_output_accuracy: 0.7964 - val_att_output_loss: 0.5002 - val_dept_output_accuracy: 0.6606 - val_dept_output_loss: 0.7800 - val_loss: 1.2701\n",
            "Epoch 38/100\n",
            "\u001b[1m26/26\u001b[0m \u001b[32m━━━━━━━━━━━━━━━━━━━━\u001b[0m\u001b[37m\u001b[0m \u001b[1m0s\u001b[0m 6ms/step - att_output_accuracy: 0.9113 - att_output_loss: 0.2162 - dept_output_accuracy: 0.6710 - dept_output_loss: 0.7666 - loss: 0.9837 - val_att_output_accuracy: 0.7964 - val_att_output_loss: 0.5142 - val_dept_output_accuracy: 0.6606 - val_dept_output_loss: 0.7797 - val_loss: 1.2879\n",
            "Epoch 39/100\n",
            "\u001b[1m26/26\u001b[0m \u001b[32m━━━━━━━━━━━━━━━━━━━━\u001b[0m\u001b[37m\u001b[0m \u001b[1m0s\u001b[0m 6ms/step - att_output_accuracy: 0.8952 - att_output_loss: 0.2235 - dept_output_accuracy: 0.6670 - dept_output_loss: 0.7555 - loss: 0.9795 - val_att_output_accuracy: 0.8009 - val_att_output_loss: 0.5163 - val_dept_output_accuracy: 0.6606 - val_dept_output_loss: 0.7796 - val_loss: 1.2938\n",
            "Epoch 40/100\n",
            "\u001b[1m26/26\u001b[0m \u001b[32m━━━━━━━━━━━━━━━━━━━━\u001b[0m\u001b[37m\u001b[0m \u001b[1m0s\u001b[0m 6ms/step - att_output_accuracy: 0.9187 - att_output_loss: 0.2007 - dept_output_accuracy: 0.6882 - dept_output_loss: 0.7425 - loss: 0.9437 - val_att_output_accuracy: 0.8009 - val_att_output_loss: 0.5364 - val_dept_output_accuracy: 0.6606 - val_dept_output_loss: 0.7796 - val_loss: 1.3164\n",
            "Epoch 41/100\n",
            "\u001b[1m26/26\u001b[0m \u001b[32m━━━━━━━━━━━━━━━━━━━━\u001b[0m\u001b[37m\u001b[0m \u001b[1m0s\u001b[0m 6ms/step - att_output_accuracy: 0.9392 - att_output_loss: 0.1754 - dept_output_accuracy: 0.6527 - dept_output_loss: 0.7895 - loss: 0.9651 - val_att_output_accuracy: 0.8054 - val_att_output_loss: 0.5713 - val_dept_output_accuracy: 0.6606 - val_dept_output_loss: 0.7794 - val_loss: 1.3554\n",
            "Epoch 42/100\n",
            "\u001b[1m26/26\u001b[0m \u001b[32m━━━━━━━━━━━━━━━━━━━━\u001b[0m\u001b[37m\u001b[0m \u001b[1m0s\u001b[0m 6ms/step - att_output_accuracy: 0.9210 - att_output_loss: 0.1726 - dept_output_accuracy: 0.6702 - dept_output_loss: 0.7557 - loss: 0.9278 - val_att_output_accuracy: 0.7919 - val_att_output_loss: 0.5288 - val_dept_output_accuracy: 0.6606 - val_dept_output_loss: 0.7794 - val_loss: 1.3055\n",
            "Epoch 43/100\n",
            "\u001b[1m26/26\u001b[0m \u001b[32m━━━━━━━━━━━━━━━━━━━━\u001b[0m\u001b[37m\u001b[0m \u001b[1m0s\u001b[0m 7ms/step - att_output_accuracy: 0.9389 - att_output_loss: 0.1712 - dept_output_accuracy: 0.6437 - dept_output_loss: 0.7754 - loss: 0.9451 - val_att_output_accuracy: 0.8145 - val_att_output_loss: 0.5509 - val_dept_output_accuracy: 0.6606 - val_dept_output_loss: 0.7791 - val_loss: 1.3328\n",
            "Epoch 44/100\n",
            "\u001b[1m26/26\u001b[0m \u001b[32m━━━━━━━━━━━━━━━━━━━━\u001b[0m\u001b[37m\u001b[0m \u001b[1m0s\u001b[0m 6ms/step - att_output_accuracy: 0.9184 - att_output_loss: 0.2080 - dept_output_accuracy: 0.6448 - dept_output_loss: 0.7925 - loss: 1.0008 - val_att_output_accuracy: 0.7919 - val_att_output_loss: 0.5364 - val_dept_output_accuracy: 0.6606 - val_dept_output_loss: 0.7788 - val_loss: 1.3110\n",
            "Epoch 45/100\n",
            "\u001b[1m26/26\u001b[0m \u001b[32m━━━━━━━━━━━━━━━━━━━━\u001b[0m\u001b[37m\u001b[0m \u001b[1m0s\u001b[0m 9ms/step - att_output_accuracy: 0.9220 - att_output_loss: 0.1710 - dept_output_accuracy: 0.6744 - dept_output_loss: 0.7543 - loss: 0.9257 - val_att_output_accuracy: 0.8054 - val_att_output_loss: 0.5923 - val_dept_output_accuracy: 0.6606 - val_dept_output_loss: 0.7790 - val_loss: 1.3756\n",
            "Epoch 46/100\n",
            "\u001b[1m26/26\u001b[0m \u001b[32m━━━━━━━━━━━━━━━━━━━━\u001b[0m\u001b[37m\u001b[0m \u001b[1m0s\u001b[0m 6ms/step - att_output_accuracy: 0.9246 - att_output_loss: 0.1619 - dept_output_accuracy: 0.6619 - dept_output_loss: 0.7832 - loss: 0.9447 - val_att_output_accuracy: 0.7421 - val_att_output_loss: 0.5494 - val_dept_output_accuracy: 0.6606 - val_dept_output_loss: 0.7789 - val_loss: 1.3184\n",
            "Epoch 47/100\n",
            "\u001b[1m26/26\u001b[0m \u001b[32m━━━━━━━━━━━━━━━━━━━━\u001b[0m\u001b[37m\u001b[0m \u001b[1m0s\u001b[0m 13ms/step - att_output_accuracy: 0.9524 - att_output_loss: 0.1615 - dept_output_accuracy: 0.6684 - dept_output_loss: 0.7554 - loss: 0.9164 - val_att_output_accuracy: 0.7919 - val_att_output_loss: 0.6066 - val_dept_output_accuracy: 0.6606 - val_dept_output_loss: 0.7788 - val_loss: 1.3867\n",
            "Epoch 48/100\n",
            "\u001b[1m26/26\u001b[0m \u001b[32m━━━━━━━━━━━━━━━━━━━━\u001b[0m\u001b[37m\u001b[0m \u001b[1m0s\u001b[0m 6ms/step - att_output_accuracy: 0.9524 - att_output_loss: 0.1317 - dept_output_accuracy: 0.6588 - dept_output_loss: 0.7782 - loss: 0.9097 - val_att_output_accuracy: 0.7873 - val_att_output_loss: 0.5887 - val_dept_output_accuracy: 0.6606 - val_dept_output_loss: 0.7786 - val_loss: 1.3672\n",
            "Epoch 49/100\n",
            "\u001b[1m26/26\u001b[0m \u001b[32m━━━━━━━━━━━━━━━━━━━━\u001b[0m\u001b[37m\u001b[0m \u001b[1m0s\u001b[0m 6ms/step - att_output_accuracy: 0.9584 - att_output_loss: 0.1283 - dept_output_accuracy: 0.6692 - dept_output_loss: 0.7583 - loss: 0.8866 - val_att_output_accuracy: 0.7873 - val_att_output_loss: 0.6648 - val_dept_output_accuracy: 0.6606 - val_dept_output_loss: 0.7786 - val_loss: 1.4440\n",
            "Epoch 50/100\n",
            "\u001b[1m26/26\u001b[0m \u001b[32m━━━━━━━━━━━━━━━━━━━━\u001b[0m\u001b[37m\u001b[0m \u001b[1m0s\u001b[0m 6ms/step - att_output_accuracy: 0.9350 - att_output_loss: 0.1470 - dept_output_accuracy: 0.6720 - dept_output_loss: 0.7652 - loss: 0.9115 - val_att_output_accuracy: 0.7783 - val_att_output_loss: 0.6326 - val_dept_output_accuracy: 0.6606 - val_dept_output_loss: 0.7785 - val_loss: 1.4112\n",
            "Epoch 51/100\n",
            "\u001b[1m26/26\u001b[0m \u001b[32m━━━━━━━━━━━━━━━━━━━━\u001b[0m\u001b[37m\u001b[0m \u001b[1m0s\u001b[0m 6ms/step - att_output_accuracy: 0.9563 - att_output_loss: 0.1230 - dept_output_accuracy: 0.6774 - dept_output_loss: 0.7524 - loss: 0.8755 - val_att_output_accuracy: 0.8054 - val_att_output_loss: 0.6885 - val_dept_output_accuracy: 0.6606 - val_dept_output_loss: 0.7784 - val_loss: 1.4777\n",
            "Epoch 52/100\n",
            "\u001b[1m26/26\u001b[0m \u001b[32m━━━━━━━━━━━━━━━━━━━━\u001b[0m\u001b[37m\u001b[0m \u001b[1m0s\u001b[0m 6ms/step - att_output_accuracy: 0.9427 - att_output_loss: 0.1372 - dept_output_accuracy: 0.6588 - dept_output_loss: 0.7793 - loss: 0.9169 - val_att_output_accuracy: 0.8100 - val_att_output_loss: 0.6920 - val_dept_output_accuracy: 0.6606 - val_dept_output_loss: 0.7783 - val_loss: 1.4841\n",
            "Epoch 53/100\n",
            "\u001b[1m26/26\u001b[0m \u001b[32m━━━━━━━━━━━━━━━━━━━━\u001b[0m\u001b[37m\u001b[0m \u001b[1m0s\u001b[0m 6ms/step - att_output_accuracy: 0.9437 - att_output_loss: 0.1300 - dept_output_accuracy: 0.6713 - dept_output_loss: 0.7559 - loss: 0.8846 - val_att_output_accuracy: 0.7738 - val_att_output_loss: 0.6569 - val_dept_output_accuracy: 0.6606 - val_dept_output_loss: 0.7782 - val_loss: 1.4493\n",
            "Epoch 54/100\n",
            "\u001b[1m26/26\u001b[0m \u001b[32m━━━━━━━━━━━━━━━━━━━━\u001b[0m\u001b[37m\u001b[0m \u001b[1m0s\u001b[0m 6ms/step - att_output_accuracy: 0.9532 - att_output_loss: 0.1269 - dept_output_accuracy: 0.6716 - dept_output_loss: 0.7562 - loss: 0.8822 - val_att_output_accuracy: 0.7738 - val_att_output_loss: 0.6542 - val_dept_output_accuracy: 0.6606 - val_dept_output_loss: 0.7783 - val_loss: 1.4345\n",
            "Epoch 55/100\n",
            "\u001b[1m26/26\u001b[0m \u001b[32m━━━━━━━━━━━━━━━━━━━━\u001b[0m\u001b[37m\u001b[0m \u001b[1m0s\u001b[0m 6ms/step - att_output_accuracy: 0.9587 - att_output_loss: 0.1112 - dept_output_accuracy: 0.6578 - dept_output_loss: 0.7711 - loss: 0.8828 - val_att_output_accuracy: 0.7919 - val_att_output_loss: 0.7081 - val_dept_output_accuracy: 0.6606 - val_dept_output_loss: 0.7781 - val_loss: 1.4995\n",
            "Epoch 56/100\n",
            "\u001b[1m26/26\u001b[0m \u001b[32m━━━━━━━━━━━━━━━━━━━━\u001b[0m\u001b[37m\u001b[0m \u001b[1m0s\u001b[0m 6ms/step - att_output_accuracy: 0.9701 - att_output_loss: 0.1027 - dept_output_accuracy: 0.6691 - dept_output_loss: 0.7599 - loss: 0.8631 - val_att_output_accuracy: 0.7828 - val_att_output_loss: 0.7156 - val_dept_output_accuracy: 0.6606 - val_dept_output_loss: 0.7782 - val_loss: 1.5022\n",
            "Epoch 57/100\n",
            "\u001b[1m26/26\u001b[0m \u001b[32m━━━━━━━━━━━━━━━━━━━━\u001b[0m\u001b[37m\u001b[0m \u001b[1m0s\u001b[0m 10ms/step - att_output_accuracy: 0.9644 - att_output_loss: 0.1063 - dept_output_accuracy: 0.6650 - dept_output_loss: 0.7864 - loss: 0.8923 - val_att_output_accuracy: 0.7919 - val_att_output_loss: 0.7210 - val_dept_output_accuracy: 0.6606 - val_dept_output_loss: 0.7782 - val_loss: 1.5120\n",
            "Epoch 58/100\n",
            "\u001b[1m26/26\u001b[0m \u001b[32m━━━━━━━━━━━━━━━━━━━━\u001b[0m\u001b[37m\u001b[0m \u001b[1m0s\u001b[0m 6ms/step - att_output_accuracy: 0.9706 - att_output_loss: 0.0965 - dept_output_accuracy: 0.6899 - dept_output_loss: 0.7298 - loss: 0.8264 - val_att_output_accuracy: 0.7919 - val_att_output_loss: 0.6933 - val_dept_output_accuracy: 0.6606 - val_dept_output_loss: 0.7782 - val_loss: 1.4821\n",
            "Epoch 59/100\n",
            "\u001b[1m26/26\u001b[0m \u001b[32m━━━━━━━━━━━━━━━━━━━━\u001b[0m\u001b[37m\u001b[0m \u001b[1m0s\u001b[0m 7ms/step - att_output_accuracy: 0.9712 - att_output_loss: 0.0914 - dept_output_accuracy: 0.6899 - dept_output_loss: 0.7245 - loss: 0.8160 - val_att_output_accuracy: 0.7919 - val_att_output_loss: 0.7427 - val_dept_output_accuracy: 0.6606 - val_dept_output_loss: 0.7783 - val_loss: 1.5300\n",
            "Epoch 60/100\n",
            "\u001b[1m26/26\u001b[0m \u001b[32m━━━━━━━━━━━━━━━━━━━━\u001b[0m\u001b[37m\u001b[0m \u001b[1m0s\u001b[0m 6ms/step - att_output_accuracy: 0.9709 - att_output_loss: 0.0878 - dept_output_accuracy: 0.6696 - dept_output_loss: 0.7633 - loss: 0.8517 - val_att_output_accuracy: 0.8009 - val_att_output_loss: 0.7137 - val_dept_output_accuracy: 0.6606 - val_dept_output_loss: 0.7780 - val_loss: 1.5008\n",
            "Epoch 61/100\n",
            "\u001b[1m26/26\u001b[0m \u001b[32m━━━━━━━━━━━━━━━━━━━━\u001b[0m\u001b[37m\u001b[0m \u001b[1m0s\u001b[0m 6ms/step - att_output_accuracy: 0.9793 - att_output_loss: 0.0834 - dept_output_accuracy: 0.6611 - dept_output_loss: 0.7700 - loss: 0.8522 - val_att_output_accuracy: 0.8054 - val_att_output_loss: 0.7917 - val_dept_output_accuracy: 0.6606 - val_dept_output_loss: 0.7779 - val_loss: 1.5912\n",
            "Epoch 62/100\n",
            "\u001b[1m26/26\u001b[0m \u001b[32m━━━━━━━━━━━━━━━━━━━━\u001b[0m\u001b[37m\u001b[0m \u001b[1m0s\u001b[0m 6ms/step - att_output_accuracy: 0.9740 - att_output_loss: 0.0788 - dept_output_accuracy: 0.6378 - dept_output_loss: 0.8045 - loss: 0.8830 - val_att_output_accuracy: 0.7964 - val_att_output_loss: 0.7791 - val_dept_output_accuracy: 0.6606 - val_dept_output_loss: 0.7778 - val_loss: 1.5749\n",
            "Epoch 63/100\n",
            "\u001b[1m26/26\u001b[0m \u001b[32m━━━━━━━━━━━━━━━━━━━━\u001b[0m\u001b[37m\u001b[0m \u001b[1m0s\u001b[0m 6ms/step - att_output_accuracy: 0.9763 - att_output_loss: 0.0882 - dept_output_accuracy: 0.6586 - dept_output_loss: 0.7918 - loss: 0.8806 - val_att_output_accuracy: 0.8054 - val_att_output_loss: 0.8035 - val_dept_output_accuracy: 0.6606 - val_dept_output_loss: 0.7778 - val_loss: 1.5962\n",
            "Epoch 64/100\n",
            "\u001b[1m26/26\u001b[0m \u001b[32m━━━━━━━━━━━━━━━━━━━━\u001b[0m\u001b[37m\u001b[0m \u001b[1m0s\u001b[0m 6ms/step - att_output_accuracy: 0.9755 - att_output_loss: 0.0704 - dept_output_accuracy: 0.6620 - dept_output_loss: 0.7663 - loss: 0.8370 - val_att_output_accuracy: 0.8145 - val_att_output_loss: 0.8428 - val_dept_output_accuracy: 0.6606 - val_dept_output_loss: 0.7776 - val_loss: 1.6473\n",
            "Epoch 65/100\n",
            "\u001b[1m26/26\u001b[0m \u001b[32m━━━━━━━━━━━━━━━━━━━━\u001b[0m\u001b[37m\u001b[0m \u001b[1m0s\u001b[0m 6ms/step - att_output_accuracy: 0.9734 - att_output_loss: 0.0915 - dept_output_accuracy: 0.6576 - dept_output_loss: 0.7605 - loss: 0.8519 - val_att_output_accuracy: 0.7919 - val_att_output_loss: 0.8204 - val_dept_output_accuracy: 0.6606 - val_dept_output_loss: 0.7775 - val_loss: 1.6158\n",
            "Epoch 66/100\n",
            "\u001b[1m26/26\u001b[0m \u001b[32m━━━━━━━━━━━━━━━━━━━━\u001b[0m\u001b[37m\u001b[0m \u001b[1m0s\u001b[0m 10ms/step - att_output_accuracy: 0.9830 - att_output_loss: 0.0678 - dept_output_accuracy: 0.6804 - dept_output_loss: 0.7424 - loss: 0.8108 - val_att_output_accuracy: 0.7919 - val_att_output_loss: 0.8028 - val_dept_output_accuracy: 0.6606 - val_dept_output_loss: 0.7774 - val_loss: 1.5918\n",
            "Epoch 67/100\n",
            "\u001b[1m26/26\u001b[0m \u001b[32m━━━━━━━━━━━━━━━━━━━━\u001b[0m\u001b[37m\u001b[0m \u001b[1m0s\u001b[0m 7ms/step - att_output_accuracy: 0.9714 - att_output_loss: 0.0807 - dept_output_accuracy: 0.6741 - dept_output_loss: 0.7536 - loss: 0.8353 - val_att_output_accuracy: 0.8100 - val_att_output_loss: 0.8647 - val_dept_output_accuracy: 0.6606 - val_dept_output_loss: 0.7771 - val_loss: 1.6702\n",
            "Epoch 68/100\n",
            "\u001b[1m26/26\u001b[0m \u001b[32m━━━━━━━━━━━━━━━━━━━━\u001b[0m\u001b[37m\u001b[0m \u001b[1m0s\u001b[0m 6ms/step - att_output_accuracy: 0.9661 - att_output_loss: 0.0845 - dept_output_accuracy: 0.6475 - dept_output_loss: 0.7805 - loss: 0.8652 - val_att_output_accuracy: 0.7647 - val_att_output_loss: 0.8008 - val_dept_output_accuracy: 0.6606 - val_dept_output_loss: 0.7768 - val_loss: 1.5861\n",
            "Epoch 69/100\n",
            "\u001b[1m26/26\u001b[0m \u001b[32m━━━━━━━━━━━━━━━━━━━━\u001b[0m\u001b[37m\u001b[0m \u001b[1m0s\u001b[0m 13ms/step - att_output_accuracy: 0.9809 - att_output_loss: 0.0671 - dept_output_accuracy: 0.6770 - dept_output_loss: 0.7528 - loss: 0.8203 - val_att_output_accuracy: 0.8190 - val_att_output_loss: 0.8723 - val_dept_output_accuracy: 0.6606 - val_dept_output_loss: 0.7768 - val_loss: 1.6688\n",
            "Epoch 70/100\n",
            "\u001b[1m26/26\u001b[0m \u001b[32m━━━━━━━━━━━━━━━━━━━━\u001b[0m\u001b[37m\u001b[0m \u001b[1m0s\u001b[0m 8ms/step - att_output_accuracy: 0.9888 - att_output_loss: 0.0585 - dept_output_accuracy: 0.6479 - dept_output_loss: 0.7843 - loss: 0.8431 - val_att_output_accuracy: 0.7828 - val_att_output_loss: 0.8453 - val_dept_output_accuracy: 0.6606 - val_dept_output_loss: 0.7761 - val_loss: 1.6376\n",
            "Epoch 71/100\n",
            "\u001b[1m26/26\u001b[0m \u001b[32m━━━━━━━━━━━━━━━━━━━━\u001b[0m\u001b[37m\u001b[0m \u001b[1m0s\u001b[0m 6ms/step - att_output_accuracy: 0.9720 - att_output_loss: 0.0741 - dept_output_accuracy: 0.6734 - dept_output_loss: 0.7555 - loss: 0.8295 - val_att_output_accuracy: 0.7692 - val_att_output_loss: 0.8479 - val_dept_output_accuracy: 0.6606 - val_dept_output_loss: 0.7755 - val_loss: 1.6418\n",
            "Epoch 72/100\n",
            "\u001b[1m26/26\u001b[0m \u001b[32m━━━━━━━━━━━━━━━━━━━━\u001b[0m\u001b[37m\u001b[0m \u001b[1m0s\u001b[0m 6ms/step - att_output_accuracy: 0.9903 - att_output_loss: 0.0489 - dept_output_accuracy: 0.6747 - dept_output_loss: 0.7516 - loss: 0.8004 - val_att_output_accuracy: 0.7964 - val_att_output_loss: 0.8523 - val_dept_output_accuracy: 0.6606 - val_dept_output_loss: 0.7753 - val_loss: 1.6441\n",
            "Epoch 73/100\n",
            "\u001b[1m26/26\u001b[0m \u001b[32m━━━━━━━━━━━━━━━━━━━━\u001b[0m\u001b[37m\u001b[0m \u001b[1m0s\u001b[0m 6ms/step - att_output_accuracy: 0.9863 - att_output_loss: 0.0537 - dept_output_accuracy: 0.6811 - dept_output_loss: 0.7718 - loss: 0.8261 - val_att_output_accuracy: 0.8054 - val_att_output_loss: 0.9689 - val_dept_output_accuracy: 0.6606 - val_dept_output_loss: 0.7743 - val_loss: 1.7694\n",
            "Epoch 74/100\n",
            "\u001b[1m26/26\u001b[0m \u001b[32m━━━━━━━━━━━━━━━━━━━━\u001b[0m\u001b[37m\u001b[0m \u001b[1m0s\u001b[0m 7ms/step - att_output_accuracy: 0.9825 - att_output_loss: 0.0583 - dept_output_accuracy: 0.6696 - dept_output_loss: 0.7587 - loss: 0.8168 - val_att_output_accuracy: 0.7873 - val_att_output_loss: 0.9044 - val_dept_output_accuracy: 0.6606 - val_dept_output_loss: 0.7744 - val_loss: 1.6966\n",
            "Epoch 75/100\n",
            "\u001b[1m26/26\u001b[0m \u001b[32m━━━━━━━━━━━━━━━━━━━━\u001b[0m\u001b[37m\u001b[0m \u001b[1m0s\u001b[0m 6ms/step - att_output_accuracy: 0.9859 - att_output_loss: 0.0514 - dept_output_accuracy: 0.6897 - dept_output_loss: 0.7274 - loss: 0.7783 - val_att_output_accuracy: 0.8190 - val_att_output_loss: 1.0234 - val_dept_output_accuracy: 0.6606 - val_dept_output_loss: 0.7732 - val_loss: 1.8205\n",
            "Epoch 76/100\n",
            "\u001b[1m26/26\u001b[0m \u001b[32m━━━━━━━━━━━━━━━━━━━━\u001b[0m\u001b[37m\u001b[0m \u001b[1m0s\u001b[0m 6ms/step - att_output_accuracy: 0.9858 - att_output_loss: 0.0557 - dept_output_accuracy: 0.6807 - dept_output_loss: 0.7369 - loss: 0.7935 - val_att_output_accuracy: 0.8009 - val_att_output_loss: 0.9259 - val_dept_output_accuracy: 0.6606 - val_dept_output_loss: 0.7730 - val_loss: 1.7267\n",
            "Epoch 77/100\n",
            "\u001b[1m26/26\u001b[0m \u001b[32m━━━━━━━━━━━━━━━━━━━━\u001b[0m\u001b[37m\u001b[0m \u001b[1m0s\u001b[0m 6ms/step - att_output_accuracy: 0.9898 - att_output_loss: 0.0455 - dept_output_accuracy: 0.6816 - dept_output_loss: 0.7537 - loss: 0.7998 - val_att_output_accuracy: 0.8145 - val_att_output_loss: 1.0504 - val_dept_output_accuracy: 0.6606 - val_dept_output_loss: 0.7732 - val_loss: 1.8494\n",
            "Epoch 78/100\n",
            "\u001b[1m26/26\u001b[0m \u001b[32m━━━━━━━━━━━━━━━━━━━━\u001b[0m\u001b[37m\u001b[0m \u001b[1m0s\u001b[0m 6ms/step - att_output_accuracy: 0.9809 - att_output_loss: 0.0599 - dept_output_accuracy: 0.6565 - dept_output_loss: 0.7805 - loss: 0.8402 - val_att_output_accuracy: 0.7828 - val_att_output_loss: 0.9020 - val_dept_output_accuracy: 0.6606 - val_dept_output_loss: 0.7729 - val_loss: 1.6907\n",
            "Epoch 79/100\n",
            "\u001b[1m26/26\u001b[0m \u001b[32m━━━━━━━━━━━━━━━━━━━━\u001b[0m\u001b[37m\u001b[0m \u001b[1m0s\u001b[0m 6ms/step - att_output_accuracy: 0.9773 - att_output_loss: 0.0801 - dept_output_accuracy: 0.6834 - dept_output_loss: 0.7437 - loss: 0.8227 - val_att_output_accuracy: 0.8054 - val_att_output_loss: 1.0151 - val_dept_output_accuracy: 0.6606 - val_dept_output_loss: 0.7731 - val_loss: 1.8193\n",
            "Epoch 80/100\n",
            "\u001b[1m26/26\u001b[0m \u001b[32m━━━━━━━━━━━━━━━━━━━━\u001b[0m\u001b[37m\u001b[0m \u001b[1m0s\u001b[0m 8ms/step - att_output_accuracy: 0.9848 - att_output_loss: 0.0592 - dept_output_accuracy: 0.6616 - dept_output_loss: 0.7697 - loss: 0.8286 - val_att_output_accuracy: 0.8009 - val_att_output_loss: 1.0455 - val_dept_output_accuracy: 0.6606 - val_dept_output_loss: 0.7735 - val_loss: 1.8386\n",
            "Epoch 81/100\n",
            "\u001b[1m26/26\u001b[0m \u001b[32m━━━━━━━━━━━━━━━━━━━━\u001b[0m\u001b[37m\u001b[0m \u001b[1m1s\u001b[0m 6ms/step - att_output_accuracy: 0.9928 - att_output_loss: 0.0424 - dept_output_accuracy: 0.6849 - dept_output_loss: 0.7445 - loss: 0.7864 - val_att_output_accuracy: 0.8054 - val_att_output_loss: 1.0553 - val_dept_output_accuracy: 0.6606 - val_dept_output_loss: 0.7739 - val_loss: 1.8475\n",
            "Epoch 82/100\n",
            "\u001b[1m26/26\u001b[0m \u001b[32m━━━━━━━━━━━━━━━━━━━━\u001b[0m\u001b[37m\u001b[0m \u001b[1m0s\u001b[0m 6ms/step - att_output_accuracy: 0.9849 - att_output_loss: 0.0448 - dept_output_accuracy: 0.6965 - dept_output_loss: 0.7344 - loss: 0.7784 - val_att_output_accuracy: 0.8145 - val_att_output_loss: 1.0025 - val_dept_output_accuracy: 0.6606 - val_dept_output_loss: 0.7739 - val_loss: 1.8111\n",
            "Epoch 83/100\n",
            "\u001b[1m26/26\u001b[0m \u001b[32m━━━━━━━━━━━━━━━━━━━━\u001b[0m\u001b[37m\u001b[0m \u001b[1m0s\u001b[0m 7ms/step - att_output_accuracy: 0.9890 - att_output_loss: 0.0305 - dept_output_accuracy: 0.6645 - dept_output_loss: 0.7817 - loss: 0.8128 - val_att_output_accuracy: 0.8235 - val_att_output_loss: 1.1471 - val_dept_output_accuracy: 0.6606 - val_dept_output_loss: 0.7762 - val_loss: 1.9519\n",
            "Epoch 84/100\n",
            "\u001b[1m26/26\u001b[0m \u001b[32m━━━━━━━━━━━━━━━━━━━━\u001b[0m\u001b[37m\u001b[0m \u001b[1m0s\u001b[0m 6ms/step - att_output_accuracy: 0.9890 - att_output_loss: 0.0402 - dept_output_accuracy: 0.6651 - dept_output_loss: 0.7496 - loss: 0.7898 - val_att_output_accuracy: 0.8009 - val_att_output_loss: 1.0570 - val_dept_output_accuracy: 0.6606 - val_dept_output_loss: 0.7759 - val_loss: 1.8598\n",
            "Epoch 85/100\n",
            "\u001b[1m26/26\u001b[0m \u001b[32m━━━━━━━━━━━━━━━━━━━━\u001b[0m\u001b[37m\u001b[0m \u001b[1m0s\u001b[0m 6ms/step - att_output_accuracy: 0.9848 - att_output_loss: 0.0419 - dept_output_accuracy: 0.6595 - dept_output_loss: 0.7584 - loss: 0.8012 - val_att_output_accuracy: 0.7873 - val_att_output_loss: 1.0824 - val_dept_output_accuracy: 0.6606 - val_dept_output_loss: 0.7766 - val_loss: 1.8923\n",
            "Epoch 86/100\n",
            "\u001b[1m26/26\u001b[0m \u001b[32m━━━━━━━━━━━━━━━━━━━━\u001b[0m\u001b[37m\u001b[0m \u001b[1m0s\u001b[0m 6ms/step - att_output_accuracy: 0.9933 - att_output_loss: 0.0316 - dept_output_accuracy: 0.6614 - dept_output_loss: 0.7430 - loss: 0.7738 - val_att_output_accuracy: 0.8009 - val_att_output_loss: 1.0728 - val_dept_output_accuracy: 0.6606 - val_dept_output_loss: 0.7792 - val_loss: 1.8742\n",
            "Epoch 87/100\n",
            "\u001b[1m26/26\u001b[0m \u001b[32m━━━━━━━━━━━━━━━━━━━━\u001b[0m\u001b[37m\u001b[0m \u001b[1m0s\u001b[0m 6ms/step - att_output_accuracy: 0.9928 - att_output_loss: 0.0384 - dept_output_accuracy: 0.6606 - dept_output_loss: 0.7599 - loss: 0.7978 - val_att_output_accuracy: 0.8235 - val_att_output_loss: 1.1520 - val_dept_output_accuracy: 0.6606 - val_dept_output_loss: 0.7803 - val_loss: 1.9536\n",
            "Epoch 88/100\n",
            "\u001b[1m26/26\u001b[0m \u001b[32m━━━━━━━━━━━━━━━━━━━━\u001b[0m\u001b[37m\u001b[0m \u001b[1m0s\u001b[0m 6ms/step - att_output_accuracy: 0.9915 - att_output_loss: 0.0337 - dept_output_accuracy: 0.6946 - dept_output_loss: 0.7073 - loss: 0.7415 - val_att_output_accuracy: 0.8009 - val_att_output_loss: 1.1294 - val_dept_output_accuracy: 0.6606 - val_dept_output_loss: 0.7849 - val_loss: 1.9362\n",
            "Epoch 89/100\n",
            "\u001b[1m26/26\u001b[0m \u001b[32m━━━━━━━━━━━━━━━━━━━━\u001b[0m\u001b[37m\u001b[0m \u001b[1m0s\u001b[0m 6ms/step - att_output_accuracy: 0.9899 - att_output_loss: 0.0313 - dept_output_accuracy: 0.6450 - dept_output_loss: 0.7686 - loss: 0.7986 - val_att_output_accuracy: 0.8054 - val_att_output_loss: 1.1201 - val_dept_output_accuracy: 0.6561 - val_dept_output_loss: 0.7823 - val_loss: 1.9164\n",
            "Epoch 90/100\n",
            "\u001b[1m26/26\u001b[0m \u001b[32m━━━━━━━━━━━━━━━━━━━━\u001b[0m\u001b[37m\u001b[0m \u001b[1m0s\u001b[0m 6ms/step - att_output_accuracy: 0.9951 - att_output_loss: 0.0237 - dept_output_accuracy: 0.6730 - dept_output_loss: 0.7412 - loss: 0.7654 - val_att_output_accuracy: 0.8009 - val_att_output_loss: 1.0642 - val_dept_output_accuracy: 0.6561 - val_dept_output_loss: 0.7823 - val_loss: 1.8707\n",
            "Epoch 91/100\n",
            "\u001b[1m26/26\u001b[0m \u001b[32m━━━━━━━━━━━━━━━━━━━━\u001b[0m\u001b[37m\u001b[0m \u001b[1m0s\u001b[0m 6ms/step - att_output_accuracy: 0.9918 - att_output_loss: 0.0247 - dept_output_accuracy: 0.6670 - dept_output_loss: 0.7705 - loss: 0.7950 - val_att_output_accuracy: 0.8190 - val_att_output_loss: 1.1439 - val_dept_output_accuracy: 0.6561 - val_dept_output_loss: 0.7844 - val_loss: 1.9540\n",
            "Epoch 92/100\n",
            "\u001b[1m26/26\u001b[0m \u001b[32m━━━━━━━━━━━━━━━━━━━━\u001b[0m\u001b[37m\u001b[0m \u001b[1m0s\u001b[0m 8ms/step - att_output_accuracy: 0.9956 - att_output_loss: 0.0246 - dept_output_accuracy: 0.6709 - dept_output_loss: 0.7252 - loss: 0.7500 - val_att_output_accuracy: 0.8235 - val_att_output_loss: 1.2117 - val_dept_output_accuracy: 0.6516 - val_dept_output_loss: 0.7853 - val_loss: 2.0272\n",
            "Epoch 93/100\n",
            "\u001b[1m26/26\u001b[0m \u001b[32m━━━━━━━━━━━━━━━━━━━━\u001b[0m\u001b[37m\u001b[0m \u001b[1m0s\u001b[0m 6ms/step - att_output_accuracy: 0.9948 - att_output_loss: 0.0267 - dept_output_accuracy: 0.6822 - dept_output_loss: 0.7336 - loss: 0.7581 - val_att_output_accuracy: 0.8145 - val_att_output_loss: 1.1256 - val_dept_output_accuracy: 0.6471 - val_dept_output_loss: 0.7888 - val_loss: 1.9381\n",
            "Epoch 94/100\n",
            "\u001b[1m26/26\u001b[0m \u001b[32m━━━━━━━━━━━━━━━━━━━━\u001b[0m\u001b[37m\u001b[0m \u001b[1m0s\u001b[0m 6ms/step - att_output_accuracy: 0.9963 - att_output_loss: 0.0182 - dept_output_accuracy: 0.6692 - dept_output_loss: 0.7710 - loss: 0.7889 - val_att_output_accuracy: 0.8009 - val_att_output_loss: 1.1723 - val_dept_output_accuracy: 0.6471 - val_dept_output_loss: 0.7882 - val_loss: 1.9837\n",
            "Epoch 95/100\n",
            "\u001b[1m26/26\u001b[0m \u001b[32m━━━━━━━━━━━━━━━━━━━━\u001b[0m\u001b[37m\u001b[0m \u001b[1m0s\u001b[0m 6ms/step - att_output_accuracy: 0.9928 - att_output_loss: 0.0239 - dept_output_accuracy: 0.7001 - dept_output_loss: 0.7149 - loss: 0.7384 - val_att_output_accuracy: 0.8100 - val_att_output_loss: 1.1622 - val_dept_output_accuracy: 0.6471 - val_dept_output_loss: 0.7866 - val_loss: 1.9781\n",
            "Epoch 96/100\n",
            "\u001b[1m26/26\u001b[0m \u001b[32m━━━━━━━━━━━━━━━━━━━━\u001b[0m\u001b[37m\u001b[0m \u001b[1m0s\u001b[0m 6ms/step - att_output_accuracy: 0.9970 - att_output_loss: 0.0228 - dept_output_accuracy: 0.6981 - dept_output_loss: 0.7173 - loss: 0.7395 - val_att_output_accuracy: 0.8145 - val_att_output_loss: 1.2249 - val_dept_output_accuracy: 0.6471 - val_dept_output_loss: 0.7846 - val_loss: 2.0410\n",
            "Epoch 97/100\n",
            "\u001b[1m26/26\u001b[0m \u001b[32m━━━━━━━━━━━━━━━━━━━━\u001b[0m\u001b[37m\u001b[0m \u001b[1m0s\u001b[0m 6ms/step - att_output_accuracy: 0.9963 - att_output_loss: 0.0191 - dept_output_accuracy: 0.6875 - dept_output_loss: 0.7168 - loss: 0.7360 - val_att_output_accuracy: 0.8326 - val_att_output_loss: 1.2283 - val_dept_output_accuracy: 0.6471 - val_dept_output_loss: 0.7858 - val_loss: 2.0470\n",
            "Epoch 98/100\n",
            "\u001b[1m26/26\u001b[0m \u001b[32m━━━━━━━━━━━━━━━━━━━━\u001b[0m\u001b[37m\u001b[0m \u001b[1m0s\u001b[0m 6ms/step - att_output_accuracy: 0.9986 - att_output_loss: 0.0153 - dept_output_accuracy: 0.6907 - dept_output_loss: 0.7210 - loss: 0.7367 - val_att_output_accuracy: 0.8235 - val_att_output_loss: 1.2244 - val_dept_output_accuracy: 0.6380 - val_dept_output_loss: 0.7863 - val_loss: 2.0475\n",
            "Epoch 99/100\n",
            "\u001b[1m26/26\u001b[0m \u001b[32m━━━━━━━━━━━━━━━━━━━━\u001b[0m\u001b[37m\u001b[0m \u001b[1m0s\u001b[0m 6ms/step - att_output_accuracy: 0.9958 - att_output_loss: 0.0164 - dept_output_accuracy: 0.6775 - dept_output_loss: 0.7257 - loss: 0.7423 - val_att_output_accuracy: 0.8281 - val_att_output_loss: 1.2350 - val_dept_output_accuracy: 0.6425 - val_dept_output_loss: 0.7845 - val_loss: 2.0520\n",
            "Epoch 100/100\n",
            "\u001b[1m26/26\u001b[0m \u001b[32m━━━━━━━━━━━━━━━━━━━━\u001b[0m\u001b[37m\u001b[0m \u001b[1m0s\u001b[0m 9ms/step - att_output_accuracy: 0.9929 - att_output_loss: 0.0181 - dept_output_accuracy: 0.6808 - dept_output_loss: 0.7118 - loss: 0.7293 - val_att_output_accuracy: 0.8190 - val_att_output_loss: 1.2592 - val_dept_output_accuracy: 0.6425 - val_dept_output_loss: 0.7836 - val_loss: 2.0799\n"
          ]
        },
        {
          "data": {
            "text/plain": [
              "<keras.src.callbacks.history.History at 0x7f8ffe2a8be0>"
            ]
          },
          "execution_count": 13,
          "metadata": {},
          "output_type": "execute_result"
        }
      ],
      "source": [
        "# Train the model\n",
        "model.fit(\n",
        "    X_train_scaled,\n",
        "    {'att_output': y_train_enc_att, 'dept_output': y_train_enc_dept},\n",
        "    epochs=100,\n",
        "    batch_size=35,\n",
        "    validation_split=0.2\n",
        ")\n"
      ]
    },
    {
      "cell_type": "code",
      "execution_count": 14,
      "metadata": {
        "colab": {
          "base_uri": "https://localhost:8080/"
        },
        "id": "VsMoaQlgGc3U",
        "outputId": "1bd4e601-e964-4abc-ad83-aeecf6b696be"
      },
      "outputs": [
        {
          "name": "stdout",
          "output_type": "stream",
          "text": [
            "\u001b[1m12/12\u001b[0m \u001b[32m━━━━━━━━━━━━━━━━━━━━\u001b[0m\u001b[37m\u001b[0m \u001b[1m0s\u001b[0m 5ms/step - att_output_accuracy: 0.8582 - att_output_loss: 1.1139 - dept_output_accuracy: 0.6034 - dept_output_loss: 0.8439 - loss: 1.9605 \n"
          ]
        },
        {
          "data": {
            "text/plain": [
              "[1.9442672729492188,\n",
              " 1.101781964302063,\n",
              " 0.8249245285987854,\n",
              " 0.842391312122345,\n",
              " 0.60597825050354]"
            ]
          },
          "execution_count": 14,
          "metadata": {},
          "output_type": "execute_result"
        }
      ],
      "source": [
        "# Evaluate the model with the testing data\n",
        "test_results = model.evaluate(X_test_scaled, {'att_output': y_test_enc_att, 'dept_output': y_test_enc_dept})\n",
        "test_results\n"
      ]
    },
    {
      "cell_type": "code",
      "execution_count": 15,
      "metadata": {
        "colab": {
          "base_uri": "https://localhost:8080/"
        },
        "id": "ZlCtlHi0Vt54",
        "outputId": "bc21ef3e-80c2-4b38-9c29-79515bc23dec"
      },
      "outputs": [
        {
          "name": "stdout",
          "output_type": "stream",
          "text": [
            "Department prediction accuracy 0.60597825050354\n",
            "Attrition prediction accuracy 0.842391312122345\n"
          ]
        }
      ],
      "source": [
        "# Print the accuracy for both department and attrition\n",
        "#print(f'Department predictions accuracy: {dept_output}')\n",
        "accuracy_dept = test_results[4]\n",
        "print(f\"Department prediction accuracy {accuracy_dept}\")\n",
        "\n",
        "accuracy_att = test_results[3]\n",
        "print(f\"Attrition prediction accuracy {accuracy_att}\")"
      ]
    },
    {
      "cell_type": "markdown",
      "metadata": {
        "id": "eGSyfsZfWOQM"
      },
      "source": [
        "# Summary\n",
        "\n",
        "In the provided space below, briefly answer the following questions.\n",
        "\n",
        "1. Is accuracy the best metric to use on this data? Why or why not?\n",
        "\n",
        "2. What activation functions did you choose for your output layers, and why?\n",
        "\n",
        "3. Can you name a few ways that this model might be improved?"
      ]
    },
    {
      "cell_type": "markdown",
      "metadata": {
        "id": "pi9SLpFnWvbF"
      },
      "source": [
        "YOUR ANSWERS HERE\n",
        "\n",
        "1.  Accuracy may not be the best metric on this data as both the attrition and department targets are unbalanced.  Since attrition is binary, AUC-ROC may be a better measure.  Precision could also be used as a measurement for attrition since we are trying to predict if employees will leave the company.  For understanding if employees may be better suited for a different department recall may be a better measurement as it measures the ability of the model to find the relevant cases (true positives). \n",
        "2.  For the attrition output layer, the 'sigmoid' activation function was used beacause the attrition target was binary and I wanted a binary out, which would be achieved through the 'sigmoid' function.  'Softmax' activation function was used for department because there were three targets associated with department and the output was mutually exclusive - making 'softmax' the optimal activiation function for department. \n",
        "3.  The model might be improved by adding more layers, more neurons, or more epochs.  Additionally, adding more data (if possible) could be helpful in improving model performance."
      ]
    },
    {
      "cell_type": "markdown",
      "metadata": {
        "id": "g_6KMGfwmlV-"
      },
      "source": []
    }
  ],
  "metadata": {
    "colab": {
      "provenance": []
    },
    "kernelspec": {
      "display_name": "dev",
      "language": "python",
      "name": "python3"
    },
    "language_info": {
      "codemirror_mode": {
        "name": "ipython",
        "version": 3
      },
      "file_extension": ".py",
      "mimetype": "text/x-python",
      "name": "python",
      "nbconvert_exporter": "python",
      "pygments_lexer": "ipython3",
      "version": "3.10.14"
    }
  },
  "nbformat": 4,
  "nbformat_minor": 0
}
